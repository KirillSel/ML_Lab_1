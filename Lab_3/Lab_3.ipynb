{
  "nbformat": 4,
  "nbformat_minor": 5,
  "metadata": {
    "kernelspec": {
      "display_name": "Python 3",
      "language": "python",
      "name": "python3"
    },
    "language_info": {
      "codemirror_mode": {
        "name": "ipython",
        "version": 3
      },
      "file_extension": ".py",
      "mimetype": "text/x-python",
      "name": "python",
      "nbconvert_exporter": "python",
      "pygments_lexer": "ipython3",
      "version": "3.8.8"
    },
    "colab": {
      "name": "Lab-04_after-29-09-2021.ipynb",
      "provenance": [],
      "collapsed_sections": [
        "09a02626"
      ]
    }
  },
  "cells": [
    {
      "cell_type": "markdown",
      "metadata": {
        "id": "a1aef29b"
      },
      "source": [
        "`Дисциплина: Методы и технологии машинного обучения`   \n",
        "`Уровень подготовки: бакалавриат`   \n",
        "`Направление подготовки: 01.03.02 Прикладная математика и информатика`   \n",
        "`Семестр: осень 2021/2022`   \n",
        "\n",
        "\n",
        "\n",
        "\n",
        "# Лабораторная работа №4: Методы снижения размерности. Регуляризация логистической регрессии. \n",
        "\n",
        "В практических примерах ниже показано:   \n",
        "\n",
        "* как снижать размерность пространства признаков методами главных компонент (PCR), частных наименьшах квадратов (PLS)  \n",
        "* как строить логистическую регрессию с регуляризацией параметров (методы ридж и лассо) \n",
        "\n",
        "Точность всех моделей оценивается методом перекрёстной проверки по 10 блокам.  \n",
        "\n",
        "*Модели*: множественная линейная регрессия \n",
        "*Данные*: `Wines` (источник: [репозиторий к книге С.Рашки Python и машинное обучение, глава 4](https://github.com/rasbt/python-machine-learning-book-3rd-edition/tree/master/ch04))"
      ],
      "id": "a1aef29b"
    },
    {
      "cell_type": "markdown",
      "metadata": {
        "id": "61b9ab5d"
      },
      "source": [
        "# Указания к выполнению\n",
        "\n",
        "\n",
        "## Загружаем пакеты"
      ],
      "id": "61b9ab5d"
    },
    {
      "cell_type": "code",
      "metadata": {
        "id": "c8fa189c"
      },
      "source": [
        "# загрузка пакетов: инструменты --------------------------------------------\n",
        "#  работа с массивами\n",
        "import numpy as np\n",
        "#  фреймы данных\n",
        "import pandas as pd\n",
        "#  распределение Стьюдента для проверки значимости\n",
        "from scipy.stats import t\n",
        "# подсчёт частот внутри массива\n",
        "from collections import Counter\n",
        "#  графики\n",
        "import matplotlib as mpl\n",
        "#  стили и шаблоны графиков на основе matplotlib\n",
        "import seaborn as sns\n",
        "\n",
        "# загрузка пакетов: данные -------------------------------------------------\n",
        "from sklearn import datasets\n",
        "\n",
        "# загрузка пакетов: модели -------------------------------------------------\n",
        "#  стандартизация показателей\n",
        "from sklearn.preprocessing import StandardScaler\n",
        "#  метод главных компонент\n",
        "from sklearn.decomposition import PCA\n",
        "# метод частных наименьших квадратов\n",
        "from sklearn.cross_decomposition import PLSRegression\n",
        "#  логистическая регрессия (ММП)\n",
        "from sklearn.linear_model import LogisticRegression, LogisticRegressionCV\n",
        "#  перекрёстная проверка по k блокам\n",
        "from sklearn.model_selection import KFold, cross_val_score\n",
        "#  расчёт Acc и сводка по точности классификации\n",
        "from sklearn.metrics import accuracy_score, classification_report"
      ],
      "id": "c8fa189c",
      "execution_count": 1,
      "outputs": []
    },
    {
      "cell_type": "code",
      "metadata": {
        "id": "43a4a48e"
      },
      "source": [
        "# константы\n",
        "#  ядро для генератора случайных чисел\n",
        "my_seed = 20\n",
        "#  создаём псевдоним для короткого обращения к графикам\n",
        "plt = mpl.pyplot\n",
        "# настройка стиля и отображения графиков\n",
        "#  примеры стилей и шаблонов графиков: \n",
        "#  http://tonysyu.github.io/raw_content/matplotlib-style-gallery/gallery.html\n",
        "mpl.style.use('seaborn-whitegrid')\n",
        "sns.set_palette(\"Set2\")\n",
        "# раскомментируйте следующую строку, чтобы посмотреть палитру\n",
        "# sns.color_palette(\"Set2\")"
      ],
      "id": "43a4a48e",
      "execution_count": 2,
      "outputs": []
    },
    {
      "cell_type": "code",
      "metadata": {
        "id": "29d97f61"
      },
      "source": [
        "# функция, которая строит график сжатия коэффициентов в ридж и лассо\n",
        "#  из репозитория к книге С.Рашки Python и машинное обучение,\n",
        "#  слегка переработанная\n",
        "def plot_coeffs_traces (X, y, class_number, penalty_name, C_opt, col_names,\n",
        "                        C_min_pow=-4, C_max_pow=3.) :\n",
        "    fig = plt.figure()\n",
        "    ax = plt.subplot(111)    \n",
        "    \n",
        "    # палитра\n",
        "    colors = sns.color_palette(\"Spectral\", len(col_names)-1)\n",
        "    \n",
        "    weights, params = [], []\n",
        "    for c in np.arange(C_min_pow, C_max_pow+1):\n",
        "        lr = LogisticRegression(penalty=penalty_name, \n",
        "                                C=10.**c, solver='liblinear', \n",
        "                                multi_class='ovr', random_state=my_seed)\n",
        "        lr.fit(X, y)\n",
        "        weights.append(lr.coef_[class_number])\n",
        "        params.append(10**c)\n",
        "\n",
        "    weights = np.array(weights)\n",
        "\n",
        "    for column, color in zip(range(weights.shape[1]), colors):\n",
        "        plt.plot(params, weights[:, column],\n",
        "                 label=col_names[column],\n",
        "                 color=color)\n",
        "\n",
        "    # отсечки по оптимальным C\n",
        "    plt.axvline(x=C_opt[class_number], color='magenta', \n",
        "                linestyle='--', linewidth=1)\n",
        "\n",
        "    plt.axhline(0, color='black', linestyle='--', linewidth=1)\n",
        "    plt.xlim([10**(C_min_pow), 10**C_max_pow])\n",
        "    plt.ylabel('weight coefficient')\n",
        "    plt.xlabel('C')\n",
        "    plt.xscale('log')\n",
        "    plt.legend(loc='upper left')\n",
        "    ax.legend(loc='upper center', \n",
        "              bbox_to_anchor=(1.38, 1.03),\n",
        "              ncol=1, fancybox=True)\n",
        "    plt.show()"
      ],
      "id": "29d97f61",
      "execution_count": 3,
      "outputs": []
    },
    {
      "cell_type": "markdown",
      "metadata": {
        "id": "87618f1b"
      },
      "source": [
        "## Загружаем данные\n",
        "\n",
        "Набор данных `wine` можно загрузить напрямую из пакета `sklearn` (набор впервые выложен [на сайте Калифорнийского университета в Ирвине](http://archive.ics.uci.edu/ml/datasets/Wine)). Таблица содержит результаты химического анализа вин, выращенных в одном регионе Италии тремя разными производителями. Большинство столбцов таблицы отражают содержание в вине различных веществ:   \n",
        "\n",
        "* `alcohol` – алкоголь, процентное содержание;  \n",
        "* `malic_acid` – яблочная кислота (разновидность кислоты с сильной кислотностью и ароматом яблока);  \n",
        "* `ash` – зола (неорганическая соль, оказывающая влияние на вкус и придающая вину ощущение свежести);  \n",
        "* `alcalinity_of_ash` – щелочность золы;  \n",
        "* `magnesium` – магний (важный для организма слабощелочной элемент, способствующий энергетическому обмену);  \n",
        "* `total_phenols` – всего фенола (молекулы, содержащие полифенольные вещества; имеют горький вкус, также влияют на цвет, относятся к питательным веществам в вине);  \n",
        "* `flavanoids` – флаваноиды (полезный антиоксидант, даёт богатый аромат и горький вкус);  \n",
        "* `nonflavanoid_phenols` – фенолы нефлаваноидные (специальный ароматический газ, устойчивый к окислению);  \n",
        "* `proanthocyanins` – проантоцианы (биофлавоноидное соединение, которое также является природным антиоксидантом с легким горьковатым запахом); \n",
        "* `color_intensity` – интенсивность цвета; \n",
        "* `hue` – оттенок (мера яркости цвета, используется в т.ч. для измерения возраста вина); \n",
        "* `od280/od315_of_diluted_wines` – OD280/OD315 разбавленных вин (метод определения концентрации белка); \n",
        "* `proline` – пролин (основная аминокислота в красном вине, важный фактор вкуса и аромата); \n",
        "* `target` – целевая переменная: класс вина.   \n",
        "\n",
        "Загружаем данные во фрейм и выясняем их размерность.  "
      ],
      "id": "87618f1b"
    },
    {
      "cell_type": "markdown",
      "metadata": {
        "id": "ScS7XFwDmewd"
      },
      "source": [
        "## If you choose to work in Colab,\n",
        "\n",
        "1. Visit [Drive folder](https://drive.google.com/drive/folders/1E9_u-v8chGmPwgROBEorD9hT609ysv_W?usp=sharing).\n",
        "\n",
        "2. Right click on folder name -> \"Add a shortcut to Drive\" -> select \"My Drive\" -> \"Add shortcut\"."
      ],
      "id": "ScS7XFwDmewd"
    },
    {
      "cell_type": "code",
      "metadata": {
        "colab": {
          "base_uri": "https://localhost:8080/"
        },
        "id": "VLAXospdj6uQ",
        "outputId": "840b9afa-2670-4655-adb1-4d01cd135b21"
      },
      "source": [
        "# Detect if we are in Google Colaboratory\n",
        "try:\n",
        "    import google.colab\n",
        "    IN_COLAB = True\n",
        "except ImportError:\n",
        "    IN_COLAB = False\n",
        "\n",
        "from pathlib import Path\n",
        "# Determine the locations of auxiliary libraries and datasets.\n",
        "# AUX_DATA_ROOT is where 'notmnist.py', 'animation.py' and 'tiny-imagenet-2020.zip' are.\n",
        "if IN_COLAB:\n",
        "    google.colab.drive.mount(\"/content/drive\")\n",
        "    \n",
        "    # Change this if you created the shortcut in a different location\n",
        "    AUX_DATA_ROOT = Path(\"/content/drive/My Drive/data\")\n",
        "    \n",
        "    assert AUX_DATA_ROOT.is_dir(), \"Have you forgot to 'Add a shortcut to Drive'?\"\n",
        "    \n",
        "    import sys\n",
        "    sys.path.insert(0, str(AUX_DATA_ROOT))\n",
        "else:\n",
        "    AUX_DATA_ROOT = Path(\".\")"
      ],
      "id": "VLAXospdj6uQ",
      "execution_count": 4,
      "outputs": [
        {
          "output_type": "stream",
          "name": "stdout",
          "text": [
            "Mounted at /content/drive\n"
          ]
        }
      ]
    },
    {
      "cell_type": "code",
      "metadata": {
        "colab": {
          "base_uri": "https://localhost:8080/"
        },
        "id": "a7e42f2c",
        "outputId": "28db8d18-e8f0-45d1-df57-78b2a9838759"
      },
      "source": [
        "# загружаем таблицу и превращаем её во фрейм\n",
        "import os \n",
        "\n",
        "DF_all = pd.read_csv(os.path.join(AUX_DATA_ROOT, 'default_of_credit_card_clients.csv'))\n",
        "\n",
        "# выясняем размерность фрейма\n",
        "print('Число строк и столбцов в наборе данных:\\n', DF_all.shape)"
      ],
      "id": "a7e42f2c",
      "execution_count": 5,
      "outputs": [
        {
          "output_type": "stream",
          "name": "stdout",
          "text": [
            "Число строк и столбцов в наборе данных:\n",
            " (30000, 24)\n"
          ]
        }
      ]
    },
    {
      "cell_type": "code",
      "metadata": {
        "id": "Ivg2eRk3qITa"
      },
      "source": [
        "# удаляем ненужные объясняющие переменные\n",
        "DF_all = DF_all.drop('PAY_3', 1)\n",
        "DF_all = DF_all.drop('PAY_4', 1)\n",
        "DF_all = DF_all.drop('PAY_5', 1)\n",
        "DF_all = DF_all.drop('PAY_6', 1)\n",
        "DF_all = DF_all.drop('BILL_AMT3', 1)\n",
        "DF_all = DF_all.drop('BILL_AMT4', 1)\n",
        "DF_all = DF_all.drop('BILL_AMT5', 1)\n",
        "DF_all = DF_all.drop('BILL_AMT6', 1)"
      ],
      "id": "Ivg2eRk3qITa",
      "execution_count": 6,
      "outputs": []
    },
    {
      "cell_type": "code",
      "metadata": {
        "colab": {
          "base_uri": "https://localhost:8080/"
        },
        "id": "mNP7rvlz7UZM",
        "outputId": "e3bb352c-79bd-4d37-cdce-ada0b22e2b36"
      },
      "source": [
        "# выясняем размерность фрейма\n",
        "print('Число строк и столбцов в наборе данных:\\n', DF_all.shape)"
      ],
      "id": "mNP7rvlz7UZM",
      "execution_count": 7,
      "outputs": [
        {
          "output_type": "stream",
          "name": "stdout",
          "text": [
            "Число строк и столбцов в наборе данных:\n",
            " (30000, 16)\n"
          ]
        }
      ]
    },
    {
      "cell_type": "code",
      "metadata": {
        "colab": {
          "base_uri": "https://localhost:8080/",
          "height": 204
        },
        "id": "MHayWzu-n01u",
        "outputId": "c41b3b64-0d4e-4abc-9804-78480909b0b5"
      },
      "source": [
        "DF_all.head (5)"
      ],
      "id": "MHayWzu-n01u",
      "execution_count": 8,
      "outputs": [
        {
          "output_type": "execute_result",
          "data": {
            "text/html": [
              "<div>\n",
              "<style scoped>\n",
              "    .dataframe tbody tr th:only-of-type {\n",
              "        vertical-align: middle;\n",
              "    }\n",
              "\n",
              "    .dataframe tbody tr th {\n",
              "        vertical-align: top;\n",
              "    }\n",
              "\n",
              "    .dataframe thead th {\n",
              "        text-align: right;\n",
              "    }\n",
              "</style>\n",
              "<table border=\"1\" class=\"dataframe\">\n",
              "  <thead>\n",
              "    <tr style=\"text-align: right;\">\n",
              "      <th></th>\n",
              "      <th>LIMIT_BAL</th>\n",
              "      <th>SEX</th>\n",
              "      <th>EDUCATION</th>\n",
              "      <th>MARRIAGE</th>\n",
              "      <th>AGE</th>\n",
              "      <th>PAY_0</th>\n",
              "      <th>PAY_2</th>\n",
              "      <th>BILL_AMT1</th>\n",
              "      <th>BILL_AMT2</th>\n",
              "      <th>PAY_AMT1</th>\n",
              "      <th>PAY_AMT2</th>\n",
              "      <th>PAY_AMT3</th>\n",
              "      <th>PAY_AMT4</th>\n",
              "      <th>PAY_AMT5</th>\n",
              "      <th>PAY_AMT6</th>\n",
              "      <th>Y</th>\n",
              "    </tr>\n",
              "  </thead>\n",
              "  <tbody>\n",
              "    <tr>\n",
              "      <th>0</th>\n",
              "      <td>20000</td>\n",
              "      <td>2</td>\n",
              "      <td>2</td>\n",
              "      <td>1</td>\n",
              "      <td>24</td>\n",
              "      <td>2</td>\n",
              "      <td>2</td>\n",
              "      <td>3913</td>\n",
              "      <td>3102</td>\n",
              "      <td>0</td>\n",
              "      <td>689</td>\n",
              "      <td>0</td>\n",
              "      <td>0</td>\n",
              "      <td>0</td>\n",
              "      <td>0</td>\n",
              "      <td>1</td>\n",
              "    </tr>\n",
              "    <tr>\n",
              "      <th>1</th>\n",
              "      <td>120000</td>\n",
              "      <td>2</td>\n",
              "      <td>2</td>\n",
              "      <td>2</td>\n",
              "      <td>26</td>\n",
              "      <td>-1</td>\n",
              "      <td>2</td>\n",
              "      <td>2682</td>\n",
              "      <td>1725</td>\n",
              "      <td>0</td>\n",
              "      <td>1000</td>\n",
              "      <td>1000</td>\n",
              "      <td>1000</td>\n",
              "      <td>0</td>\n",
              "      <td>2000</td>\n",
              "      <td>1</td>\n",
              "    </tr>\n",
              "    <tr>\n",
              "      <th>2</th>\n",
              "      <td>90000</td>\n",
              "      <td>2</td>\n",
              "      <td>2</td>\n",
              "      <td>2</td>\n",
              "      <td>34</td>\n",
              "      <td>0</td>\n",
              "      <td>0</td>\n",
              "      <td>29239</td>\n",
              "      <td>14027</td>\n",
              "      <td>1518</td>\n",
              "      <td>1500</td>\n",
              "      <td>1000</td>\n",
              "      <td>1000</td>\n",
              "      <td>1000</td>\n",
              "      <td>5000</td>\n",
              "      <td>0</td>\n",
              "    </tr>\n",
              "    <tr>\n",
              "      <th>3</th>\n",
              "      <td>50000</td>\n",
              "      <td>2</td>\n",
              "      <td>2</td>\n",
              "      <td>1</td>\n",
              "      <td>37</td>\n",
              "      <td>0</td>\n",
              "      <td>0</td>\n",
              "      <td>46990</td>\n",
              "      <td>48233</td>\n",
              "      <td>2000</td>\n",
              "      <td>2019</td>\n",
              "      <td>1200</td>\n",
              "      <td>1100</td>\n",
              "      <td>1069</td>\n",
              "      <td>1000</td>\n",
              "      <td>0</td>\n",
              "    </tr>\n",
              "    <tr>\n",
              "      <th>4</th>\n",
              "      <td>50000</td>\n",
              "      <td>1</td>\n",
              "      <td>2</td>\n",
              "      <td>1</td>\n",
              "      <td>57</td>\n",
              "      <td>-1</td>\n",
              "      <td>0</td>\n",
              "      <td>8617</td>\n",
              "      <td>5670</td>\n",
              "      <td>2000</td>\n",
              "      <td>36681</td>\n",
              "      <td>10000</td>\n",
              "      <td>9000</td>\n",
              "      <td>689</td>\n",
              "      <td>679</td>\n",
              "      <td>0</td>\n",
              "    </tr>\n",
              "  </tbody>\n",
              "</table>\n",
              "</div>"
            ],
            "text/plain": [
              "   LIMIT_BAL  SEX  EDUCATION  MARRIAGE  ...  PAY_AMT4  PAY_AMT5  PAY_AMT6  Y\n",
              "0      20000    2          2         1  ...         0         0         0  1\n",
              "1     120000    2          2         2  ...      1000         0      2000  1\n",
              "2      90000    2          2         2  ...      1000      1000      5000  0\n",
              "3      50000    2          2         1  ...      1100      1069      1000  0\n",
              "4      50000    1          2         1  ...      9000       689       679  0\n",
              "\n",
              "[5 rows x 16 columns]"
            ]
          },
          "metadata": {},
          "execution_count": 8
        }
      ]
    },
    {
      "cell_type": "markdown",
      "metadata": {
        "id": "5ce7ffd1"
      },
      "source": [
        "Отложим 15% наблюдений для прогноза (теста).  "
      ],
      "id": "5ce7ffd1"
    },
    {
      "cell_type": "code",
      "metadata": {
        "id": "13f9300b"
      },
      "source": [
        "# наблюдения для моделирования\n",
        "DF = DF_all.sample(frac=0.85, random_state=my_seed)\n",
        "# отложенные наблюдения\n",
        "DF_predict = DF_all.drop(DF.index)"
      ],
      "id": "13f9300b",
      "execution_count": 9,
      "outputs": []
    },
    {
      "cell_type": "code",
      "metadata": {
        "colab": {
          "base_uri": "https://localhost:8080/"
        },
        "id": "1e97a472",
        "outputId": "de87adf7-6e56-4da2-e3a7-7bd070196024"
      },
      "source": [
        "# типы столбцов фрейма\n",
        "DF.dtypes"
      ],
      "id": "1e97a472",
      "execution_count": 10,
      "outputs": [
        {
          "output_type": "execute_result",
          "data": {
            "text/plain": [
              "LIMIT_BAL    int64\n",
              "SEX          int64\n",
              "EDUCATION    int64\n",
              "MARRIAGE     int64\n",
              "AGE          int64\n",
              "PAY_0        int64\n",
              "PAY_2        int64\n",
              "BILL_AMT1    int64\n",
              "BILL_AMT2    int64\n",
              "PAY_AMT1     int64\n",
              "PAY_AMT2     int64\n",
              "PAY_AMT3     int64\n",
              "PAY_AMT4     int64\n",
              "PAY_AMT5     int64\n",
              "PAY_AMT6     int64\n",
              "Y            int64\n",
              "dtype: object"
            ]
          },
          "metadata": {},
          "execution_count": 10
        }
      ]
    },
    {
      "cell_type": "markdown",
      "metadata": {
        "id": "d4a540a2"
      },
      "source": [
        "Проверим, нет ли в таблице пропусков.  "
      ],
      "id": "d4a540a2"
    },
    {
      "cell_type": "code",
      "metadata": {
        "colab": {
          "base_uri": "https://localhost:8080/"
        },
        "id": "42a96cd9",
        "outputId": "bee08740-496f-4b16-e0bd-33b15bbd7078"
      },
      "source": [
        "# считаем пропуски в каждом столбце\n",
        "DF.isna().sum()"
      ],
      "id": "42a96cd9",
      "execution_count": 11,
      "outputs": [
        {
          "output_type": "execute_result",
          "data": {
            "text/plain": [
              "LIMIT_BAL    0\n",
              "SEX          0\n",
              "EDUCATION    0\n",
              "MARRIAGE     0\n",
              "AGE          0\n",
              "PAY_0        0\n",
              "PAY_2        0\n",
              "BILL_AMT1    0\n",
              "BILL_AMT2    0\n",
              "PAY_AMT1     0\n",
              "PAY_AMT2     0\n",
              "PAY_AMT3     0\n",
              "PAY_AMT4     0\n",
              "PAY_AMT5     0\n",
              "PAY_AMT6     0\n",
              "Y            0\n",
              "dtype: int64"
            ]
          },
          "metadata": {},
          "execution_count": 11
        }
      ]
    },
    {
      "cell_type": "markdown",
      "metadata": {
        "id": "2941191c"
      },
      "source": [
        "Пропусков не обнаружено.  \n",
        "\n",
        "# Предварительный анализ данных  \n",
        "\n",
        "## Описательные статистики  \n",
        "\n",
        "Считаем доли классов целевой переменной `Y`.  "
      ],
      "id": "2941191c"
    },
    {
      "cell_type": "code",
      "metadata": {
        "colab": {
          "base_uri": "https://localhost:8080/"
        },
        "id": "ad9c9120",
        "outputId": "2fda3ff2-bcf9-4a50-f1fa-2147445d6533"
      },
      "source": [
        "# метки классов\n",
        "DF.Y.unique()"
      ],
      "id": "ad9c9120",
      "execution_count": 12,
      "outputs": [
        {
          "output_type": "execute_result",
          "data": {
            "text/plain": [
              "array([0, 1])"
            ]
          },
          "metadata": {},
          "execution_count": 12
        }
      ]
    },
    {
      "cell_type": "code",
      "metadata": {
        "colab": {
          "base_uri": "https://localhost:8080/"
        },
        "id": "1807f21e",
        "outputId": "758a1b3e-e398-4780-bae7-c586f66af8bf"
      },
      "source": [
        "# доли классов\n",
        "np.around(DF.Y.value_counts() / len(DF.index), 3)"
      ],
      "id": "1807f21e",
      "execution_count": 13,
      "outputs": [
        {
          "output_type": "execute_result",
          "data": {
            "text/plain": [
              "0    0.779\n",
              "1    0.221\n",
              "Name: Y, dtype: float64"
            ]
          },
          "metadata": {},
          "execution_count": 13
        }
      ]
    },
    {
      "cell_type": "markdown",
      "metadata": {
        "id": "nvzKf9e1vRKq"
      },
      "source": [
        "Всего 2 целевых класса, их доли сильно различаются"
      ],
      "id": "nvzKf9e1vRKq"
    },
    {
      "cell_type": "markdown",
      "metadata": {
        "id": "e3216487"
      },
      "source": [
        "Все объясняющие переменные набора данных непрерывные. Рассчитаем для них описательные статистики.  "
      ],
      "id": "e3216487"
    },
    {
      "cell_type": "code",
      "metadata": {
        "colab": {
          "base_uri": "https://localhost:8080/",
          "height": 297
        },
        "id": "c7df0768",
        "outputId": "3e0d581b-f1b6-4203-f7b9-fe3e25cd5a78"
      },
      "source": [
        "# описательные статистики\n",
        "DF.iloc[:, :6].describe()"
      ],
      "id": "c7df0768",
      "execution_count": 14,
      "outputs": [
        {
          "output_type": "execute_result",
          "data": {
            "text/html": [
              "<div>\n",
              "<style scoped>\n",
              "    .dataframe tbody tr th:only-of-type {\n",
              "        vertical-align: middle;\n",
              "    }\n",
              "\n",
              "    .dataframe tbody tr th {\n",
              "        vertical-align: top;\n",
              "    }\n",
              "\n",
              "    .dataframe thead th {\n",
              "        text-align: right;\n",
              "    }\n",
              "</style>\n",
              "<table border=\"1\" class=\"dataframe\">\n",
              "  <thead>\n",
              "    <tr style=\"text-align: right;\">\n",
              "      <th></th>\n",
              "      <th>LIMIT_BAL</th>\n",
              "      <th>SEX</th>\n",
              "      <th>EDUCATION</th>\n",
              "      <th>MARRIAGE</th>\n",
              "      <th>AGE</th>\n",
              "      <th>PAY_0</th>\n",
              "    </tr>\n",
              "  </thead>\n",
              "  <tbody>\n",
              "    <tr>\n",
              "      <th>count</th>\n",
              "      <td>25500.000000</td>\n",
              "      <td>25500.000000</td>\n",
              "      <td>25500.000000</td>\n",
              "      <td>25500.000000</td>\n",
              "      <td>25500.000000</td>\n",
              "      <td>25500.000000</td>\n",
              "    </tr>\n",
              "    <tr>\n",
              "      <th>mean</th>\n",
              "      <td>168077.242353</td>\n",
              "      <td>1.604235</td>\n",
              "      <td>1.851255</td>\n",
              "      <td>1.551294</td>\n",
              "      <td>35.486471</td>\n",
              "      <td>-0.015608</td>\n",
              "    </tr>\n",
              "    <tr>\n",
              "      <th>std</th>\n",
              "      <td>129837.678356</td>\n",
              "      <td>0.489024</td>\n",
              "      <td>0.794329</td>\n",
              "      <td>0.521242</td>\n",
              "      <td>9.213824</td>\n",
              "      <td>1.126387</td>\n",
              "    </tr>\n",
              "    <tr>\n",
              "      <th>min</th>\n",
              "      <td>10000.000000</td>\n",
              "      <td>1.000000</td>\n",
              "      <td>0.000000</td>\n",
              "      <td>0.000000</td>\n",
              "      <td>21.000000</td>\n",
              "      <td>-2.000000</td>\n",
              "    </tr>\n",
              "    <tr>\n",
              "      <th>25%</th>\n",
              "      <td>50000.000000</td>\n",
              "      <td>1.000000</td>\n",
              "      <td>1.000000</td>\n",
              "      <td>1.000000</td>\n",
              "      <td>28.000000</td>\n",
              "      <td>-1.000000</td>\n",
              "    </tr>\n",
              "    <tr>\n",
              "      <th>50%</th>\n",
              "      <td>140000.000000</td>\n",
              "      <td>2.000000</td>\n",
              "      <td>2.000000</td>\n",
              "      <td>2.000000</td>\n",
              "      <td>34.000000</td>\n",
              "      <td>0.000000</td>\n",
              "    </tr>\n",
              "    <tr>\n",
              "      <th>75%</th>\n",
              "      <td>240000.000000</td>\n",
              "      <td>2.000000</td>\n",
              "      <td>2.000000</td>\n",
              "      <td>2.000000</td>\n",
              "      <td>41.000000</td>\n",
              "      <td>0.000000</td>\n",
              "    </tr>\n",
              "    <tr>\n",
              "      <th>max</th>\n",
              "      <td>800000.000000</td>\n",
              "      <td>2.000000</td>\n",
              "      <td>6.000000</td>\n",
              "      <td>3.000000</td>\n",
              "      <td>79.000000</td>\n",
              "      <td>8.000000</td>\n",
              "    </tr>\n",
              "  </tbody>\n",
              "</table>\n",
              "</div>"
            ],
            "text/plain": [
              "           LIMIT_BAL           SEX  ...           AGE         PAY_0\n",
              "count   25500.000000  25500.000000  ...  25500.000000  25500.000000\n",
              "mean   168077.242353      1.604235  ...     35.486471     -0.015608\n",
              "std    129837.678356      0.489024  ...      9.213824      1.126387\n",
              "min     10000.000000      1.000000  ...     21.000000     -2.000000\n",
              "25%     50000.000000      1.000000  ...     28.000000     -1.000000\n",
              "50%    140000.000000      2.000000  ...     34.000000      0.000000\n",
              "75%    240000.000000      2.000000  ...     41.000000      0.000000\n",
              "max    800000.000000      2.000000  ...     79.000000      8.000000\n",
              "\n",
              "[8 rows x 6 columns]"
            ]
          },
          "metadata": {},
          "execution_count": 14
        }
      ]
    },
    {
      "cell_type": "code",
      "metadata": {
        "colab": {
          "base_uri": "https://localhost:8080/",
          "height": 297
        },
        "id": "068ba2f9",
        "outputId": "acc7d0fc-6325-4b70-dae9-bcc13f6ab3b3"
      },
      "source": [
        "# описательные статистики\n",
        "DF.iloc[:, 6:11].describe()"
      ],
      "id": "068ba2f9",
      "execution_count": 15,
      "outputs": [
        {
          "output_type": "execute_result",
          "data": {
            "text/html": [
              "<div>\n",
              "<style scoped>\n",
              "    .dataframe tbody tr th:only-of-type {\n",
              "        vertical-align: middle;\n",
              "    }\n",
              "\n",
              "    .dataframe tbody tr th {\n",
              "        vertical-align: top;\n",
              "    }\n",
              "\n",
              "    .dataframe thead th {\n",
              "        text-align: right;\n",
              "    }\n",
              "</style>\n",
              "<table border=\"1\" class=\"dataframe\">\n",
              "  <thead>\n",
              "    <tr style=\"text-align: right;\">\n",
              "      <th></th>\n",
              "      <th>PAY_2</th>\n",
              "      <th>BILL_AMT1</th>\n",
              "      <th>BILL_AMT2</th>\n",
              "      <th>PAY_AMT1</th>\n",
              "      <th>PAY_AMT2</th>\n",
              "    </tr>\n",
              "  </thead>\n",
              "  <tbody>\n",
              "    <tr>\n",
              "      <th>count</th>\n",
              "      <td>25500.000000</td>\n",
              "      <td>25500.000000</td>\n",
              "      <td>25500.000000</td>\n",
              "      <td>25500.000000</td>\n",
              "      <td>2.550000e+04</td>\n",
              "    </tr>\n",
              "    <tr>\n",
              "      <th>mean</th>\n",
              "      <td>-0.131882</td>\n",
              "      <td>51399.370471</td>\n",
              "      <td>49355.392471</td>\n",
              "      <td>5699.709020</td>\n",
              "      <td>5.963576e+03</td>\n",
              "    </tr>\n",
              "    <tr>\n",
              "      <th>std</th>\n",
              "      <td>1.201093</td>\n",
              "      <td>73891.950872</td>\n",
              "      <td>71405.114321</td>\n",
              "      <td>16687.930104</td>\n",
              "      <td>2.327991e+04</td>\n",
              "    </tr>\n",
              "    <tr>\n",
              "      <th>min</th>\n",
              "      <td>-2.000000</td>\n",
              "      <td>-165580.000000</td>\n",
              "      <td>-69777.000000</td>\n",
              "      <td>0.000000</td>\n",
              "      <td>0.000000e+00</td>\n",
              "    </tr>\n",
              "    <tr>\n",
              "      <th>25%</th>\n",
              "      <td>-1.000000</td>\n",
              "      <td>3538.500000</td>\n",
              "      <td>2983.000000</td>\n",
              "      <td>1000.000000</td>\n",
              "      <td>8.500000e+02</td>\n",
              "    </tr>\n",
              "    <tr>\n",
              "      <th>50%</th>\n",
              "      <td>0.000000</td>\n",
              "      <td>22407.000000</td>\n",
              "      <td>21241.500000</td>\n",
              "      <td>2103.000000</td>\n",
              "      <td>2.010000e+03</td>\n",
              "    </tr>\n",
              "    <tr>\n",
              "      <th>75%</th>\n",
              "      <td>0.000000</td>\n",
              "      <td>67255.750000</td>\n",
              "      <td>64150.000000</td>\n",
              "      <td>5019.000000</td>\n",
              "      <td>5.000000e+03</td>\n",
              "    </tr>\n",
              "    <tr>\n",
              "      <th>max</th>\n",
              "      <td>8.000000</td>\n",
              "      <td>653062.000000</td>\n",
              "      <td>743970.000000</td>\n",
              "      <td>873552.000000</td>\n",
              "      <td>1.684259e+06</td>\n",
              "    </tr>\n",
              "  </tbody>\n",
              "</table>\n",
              "</div>"
            ],
            "text/plain": [
              "              PAY_2      BILL_AMT1      BILL_AMT2       PAY_AMT1      PAY_AMT2\n",
              "count  25500.000000   25500.000000   25500.000000   25500.000000  2.550000e+04\n",
              "mean      -0.131882   51399.370471   49355.392471    5699.709020  5.963576e+03\n",
              "std        1.201093   73891.950872   71405.114321   16687.930104  2.327991e+04\n",
              "min       -2.000000 -165580.000000  -69777.000000       0.000000  0.000000e+00\n",
              "25%       -1.000000    3538.500000    2983.000000    1000.000000  8.500000e+02\n",
              "50%        0.000000   22407.000000   21241.500000    2103.000000  2.010000e+03\n",
              "75%        0.000000   67255.750000   64150.000000    5019.000000  5.000000e+03\n",
              "max        8.000000  653062.000000  743970.000000  873552.000000  1.684259e+06"
            ]
          },
          "metadata": {},
          "execution_count": 15
        }
      ]
    },
    {
      "cell_type": "code",
      "metadata": {
        "colab": {
          "base_uri": "https://localhost:8080/",
          "height": 297
        },
        "id": "6d4d7774",
        "outputId": "5bb12a84-1c6c-4dbf-89d1-d88d38de42b9"
      },
      "source": [
        "# описательные статистики\n",
        "DF.iloc[:, 11:15].describe()"
      ],
      "id": "6d4d7774",
      "execution_count": 16,
      "outputs": [
        {
          "output_type": "execute_result",
          "data": {
            "text/html": [
              "<div>\n",
              "<style scoped>\n",
              "    .dataframe tbody tr th:only-of-type {\n",
              "        vertical-align: middle;\n",
              "    }\n",
              "\n",
              "    .dataframe tbody tr th {\n",
              "        vertical-align: top;\n",
              "    }\n",
              "\n",
              "    .dataframe thead th {\n",
              "        text-align: right;\n",
              "    }\n",
              "</style>\n",
              "<table border=\"1\" class=\"dataframe\">\n",
              "  <thead>\n",
              "    <tr style=\"text-align: right;\">\n",
              "      <th></th>\n",
              "      <th>PAY_AMT3</th>\n",
              "      <th>PAY_AMT4</th>\n",
              "      <th>PAY_AMT5</th>\n",
              "      <th>PAY_AMT6</th>\n",
              "    </tr>\n",
              "  </thead>\n",
              "  <tbody>\n",
              "    <tr>\n",
              "      <th>count</th>\n",
              "      <td>25500.000000</td>\n",
              "      <td>25500.000000</td>\n",
              "      <td>25500.000000</td>\n",
              "      <td>25500.000000</td>\n",
              "    </tr>\n",
              "    <tr>\n",
              "      <th>mean</th>\n",
              "      <td>5221.213333</td>\n",
              "      <td>4820.416824</td>\n",
              "      <td>4850.173843</td>\n",
              "      <td>5255.832627</td>\n",
              "    </tr>\n",
              "    <tr>\n",
              "      <th>std</th>\n",
              "      <td>16875.401546</td>\n",
              "      <td>15353.273877</td>\n",
              "      <td>15584.945606</td>\n",
              "      <td>17773.623966</td>\n",
              "    </tr>\n",
              "    <tr>\n",
              "      <th>min</th>\n",
              "      <td>0.000000</td>\n",
              "      <td>0.000000</td>\n",
              "      <td>0.000000</td>\n",
              "      <td>0.000000</td>\n",
              "    </tr>\n",
              "    <tr>\n",
              "      <th>25%</th>\n",
              "      <td>390.000000</td>\n",
              "      <td>298.000000</td>\n",
              "      <td>265.000000</td>\n",
              "      <td>133.000000</td>\n",
              "    </tr>\n",
              "    <tr>\n",
              "      <th>50%</th>\n",
              "      <td>1800.000000</td>\n",
              "      <td>1500.000000</td>\n",
              "      <td>1500.000000</td>\n",
              "      <td>1500.000000</td>\n",
              "    </tr>\n",
              "    <tr>\n",
              "      <th>75%</th>\n",
              "      <td>4523.250000</td>\n",
              "      <td>4030.750000</td>\n",
              "      <td>4078.000000</td>\n",
              "      <td>4045.250000</td>\n",
              "    </tr>\n",
              "    <tr>\n",
              "      <th>max</th>\n",
              "      <td>889043.000000</td>\n",
              "      <td>621000.000000</td>\n",
              "      <td>426529.000000</td>\n",
              "      <td>528666.000000</td>\n",
              "    </tr>\n",
              "  </tbody>\n",
              "</table>\n",
              "</div>"
            ],
            "text/plain": [
              "            PAY_AMT3       PAY_AMT4       PAY_AMT5       PAY_AMT6\n",
              "count   25500.000000   25500.000000   25500.000000   25500.000000\n",
              "mean     5221.213333    4820.416824    4850.173843    5255.832627\n",
              "std     16875.401546   15353.273877   15584.945606   17773.623966\n",
              "min         0.000000       0.000000       0.000000       0.000000\n",
              "25%       390.000000     298.000000     265.000000     133.000000\n",
              "50%      1800.000000    1500.000000    1500.000000    1500.000000\n",
              "75%      4523.250000    4030.750000    4078.000000    4045.250000\n",
              "max    889043.000000  621000.000000  426529.000000  528666.000000"
            ]
          },
          "metadata": {},
          "execution_count": 16
        }
      ]
    },
    {
      "cell_type": "markdown",
      "metadata": {
        "id": "8fe7bbef"
      },
      "source": [
        "Выводы по описательным статистикам: есть отрицательные значения объясняющих переменных, масштабы измерения отличаются. Для работы с методами снижения размерности и регуляризации понадобится стандартизация значений.   \n",
        "\n",
        "## Визуализация разброса переменных внутри классов  \n",
        "\n",
        "Поскольку в наборе данных 15 объясняющих переменных, и все они непрерывные, анализ матричного графика разброса будет затруднительным. Построим коробчатые диаграммы для объясняющих переменных, чтобы сравнить средние уровни и разброс по классам.  "
      ],
      "id": "8fe7bbef"
    },
    {
      "cell_type": "code",
      "metadata": {
        "colab": {
          "base_uri": "https://localhost:8080/",
          "height": 369
        },
        "id": "d4ee5069",
        "outputId": "3d5e884f-cec8-425e-b0b0-3e14ec291017"
      },
      "source": [
        "# создаём полотно и делим его на четыре части\n",
        "fig = plt.figure(figsize=(12, 5))\n",
        "gs = mpl.gridspec.GridSpec(1, 5)\n",
        "ax1 = plt.subplot(gs[0, 0])\n",
        "ax2 = plt.subplot(gs[0, 1])\n",
        "ax3 = plt.subplot(gs[0, 2])\n",
        "ax4 = plt.subplot(gs[0, 3])\n",
        "ax5 = plt.subplot(gs[0, 4])\n",
        "\n",
        "axs = [ax1, ax2, ax3, ax4, ax5]\n",
        "\n",
        "cols_loop = list(DF.columns[:5].values)\n",
        "for col_name in cols_loop :\n",
        "    i = cols_loop.index(col_name)\n",
        "    sns.boxplot(x='Y', y=col_name, data=DF, ax=axs[i])\n",
        "    axs[i].set_ylabel(col_name)\n",
        "    axs[i].set_title(col_name)\n",
        "\n",
        "# корректируем расположение графиков на полотне\n",
        "gs.tight_layout(plt.gcf())\n",
        "plt.show()"
      ],
      "id": "d4ee5069",
      "execution_count": 17,
      "outputs": [
        {
          "output_type": "display_data",
          "data": {
            "image/png": "[encoded data removed]",
            "text/plain": [
              "<Figure size 864x360 with 5 Axes>"
            ]
          },
          "metadata": {}
        }
      ]
    },
    {
      "cell_type": "code",
      "metadata": {
        "colab": {
          "base_uri": "https://localhost:8080/",
          "height": 369
        },
        "id": "af48928a",
        "outputId": "407c8a4d-9db3-4c43-abdd-a2775e6b5684"
      },
      "source": [
        "# создаём полотно и делим его на четыре части\n",
        "fig = plt.figure(figsize=(15, 5))\n",
        "gs = mpl.gridspec.GridSpec(1, 5)\n",
        "ax1 = plt.subplot(gs[0, 0])\n",
        "ax2 = plt.subplot(gs[0, 1])\n",
        "ax3 = plt.subplot(gs[0, 2])\n",
        "ax4 = plt.subplot(gs[0, 3])\n",
        "ax5 = plt.subplot(gs[0, 4])\n",
        "\n",
        "axs = [ax1, ax2, ax3, ax4, ax5]\n",
        "\n",
        "cols_loop = list(DF.columns[5:10].values)\n",
        "for col_name in cols_loop :\n",
        "    i = cols_loop.index(col_name)\n",
        "    sns.boxplot(x='Y', y=col_name, data=DF, ax=axs[i])\n",
        "    axs[i].set_ylabel(col_name)\n",
        "    axs[i].set_title(col_name)\n",
        "\n",
        "plt.ylim(0, 20000)\n",
        "# корректируем расположение графиков на полотне\n",
        "gs.tight_layout(plt.gcf())\n",
        "plt.show()"
      ],
      "id": "af48928a",
      "execution_count": 40,
      "outputs": [
        {
          "output_type": "display_data",
          "data": {
            "image/png": "[encoded data removed]",
            "text/plain": [
              "<Figure size 1080x360 with 5 Axes>"
            ]
          },
          "metadata": {}
        }
      ]
    },
    {
      "cell_type": "code",
      "metadata": {
        "colab": {
          "base_uri": "https://localhost:8080/",
          "height": 369
        },
        "id": "742bbdd3",
        "outputId": "72d91e82-6701-42dd-81be-97c3104357fe"
      },
      "source": [
        "# создаём полотно и делим его на четыре части\n",
        "fig = plt.figure(figsize=(12, 5))\n",
        "gs = mpl.gridspec.GridSpec(1, 5)\n",
        "ax1 = plt.subplot(gs[0, 0])\n",
        "ax2 = plt.subplot(gs[0, 1])\n",
        "ax3 = plt.subplot(gs[0, 2])\n",
        "ax4 = plt.subplot(gs[0, 3])\n",
        "ax5 = plt.subplot(gs[0, 4])\n",
        "axs = [ax1, ax2, ax3, ax4, ax5]\n",
        "\n",
        "cols_loop = list(DF.columns[10:15].values)\n",
        "for col_name in cols_loop :\n",
        "    i = cols_loop.index(col_name)\n",
        "    sns.boxplot(x='Y', y=col_name, data=DF, ax=axs[i])\n",
        "    axs[i].set_ylabel(col_name)\n",
        "    axs[i].set_title(col_name)\n",
        "    axs[i].set_ylim(0, 10000)\n",
        "\n",
        "# корректируем расположение графиков на полотне\n",
        "gs.tight_layout(plt.gcf())\n",
        "plt.show()"
      ],
      "id": "742bbdd3",
      "execution_count": 28,
      "outputs": [
        {
          "output_type": "display_data",
          "data": {
            "image/png": "[encoded data removed]",
            "text/plain": [
              "<Figure size 864x360 with 5 Axes>"
            ]
          },
          "metadata": {}
        }
      ]
    },
    {
      "cell_type": "markdown",
      "metadata": {
        "id": "c4e9584f"
      },
      "source": [
        "Меньше всего различаются коробчатые диаграммы по переменным `Sex`, `Education` и `Marriage`. Но классы по зависимой переменной `Y` неплохо разделяются по всем остальным объясняющим переменным.  "
      ],
      "id": "c4e9584f"
    },
    {
      "cell_type": "markdown",
      "metadata": {
        "id": "bac7542b"
      },
      "source": [
        "## Корреляционный анализ   \n",
        "\n",
        "Теперь посмотрим на взаимодействие объясняющих переменных.  "
      ],
      "id": "bac7542b"
    },
    {
      "cell_type": "code",
      "metadata": {
        "colab": {
          "base_uri": "https://localhost:8080/",
          "height": 565
        },
        "id": "11a7b0c4",
        "outputId": "7134b9ec-9d67-46d2-da7b-13aa163578d1"
      },
      "source": [
        "# рассчитываем корреляционную матрицу\n",
        "corr_mat = DF.drop('Y', axis=1).corr()\n",
        "col_names = DF.drop('Y', axis=1).columns\n",
        "\n",
        "# переключаем стиль оформления, чтобы убрать сетку с тепловой карты\n",
        "mpl.style.use('seaborn-white')\n",
        "\n",
        "# рисуем корреляционную матрицу\n",
        "f = plt.figure(figsize=(10, 8))\n",
        "plt.matshow(corr_mat, fignum=f.number, cmap='PiYG')\n",
        "# координаты для названий строк и столбцов\n",
        "tics_coords = np.arange(0, len(col_names))\n",
        "# рисуем подписи\n",
        "plt.xticks(tics_coords, col_names, fontsize=14, rotation=90)\n",
        "plt.yticks(tics_coords, col_names, fontsize=14)\n",
        "# настраиваем легенду справа от тепловой карты\n",
        "cb = plt.colorbar()\n",
        "cb.ax.tick_params(labelsize=14)\n",
        "cb.ax.tick_params(labelsize=14)\n",
        "plt.show()"
      ],
      "id": "11a7b0c4",
      "execution_count": 41,
      "outputs": [
        {
          "output_type": "display_data",
          "data": {
            "image/png": "[encoded data removed]",
            "text/plain": [
              "<Figure size 720x576 with 2 Axes>"
            ]
          },
          "metadata": {}
        }
      ]
    },
    {
      "cell_type": "markdown",
      "metadata": {
        "id": "b47250c6"
      },
      "source": [
        "Между объясняющими переменными обнаруживаются как прямые, так и обратные линейные взаимосвязи. Выведем все значимые коэффициенты в одной таблице и определим минимальный / максимальный из них.     "
      ],
      "id": "b47250c6"
    },
    {
      "cell_type": "code",
      "metadata": {
        "colab": {
          "base_uri": "https://localhost:8080/",
          "height": 419
        },
        "id": "bf56e251",
        "outputId": "b0e51583-cc64-44cc-9844-300f6ac60a5a"
      },
      "source": [
        "# делаем фрейм из корреляционной матрицы и стираем диагональные значения\n",
        "#  и нижний треугольник матрицы\n",
        "df = corr_mat\n",
        "df = df.where(np.triu(np.ones(df.shape), k=1).astype(bool))\n",
        "# меняем размерность с матрицы на таблицу: показатель 1, показатель 2,\n",
        "#  корреляция\n",
        "df = df.stack().reset_index()\n",
        "df.columns = ['Показатель_1', 'Показатель_2', 'Корреляция']\n",
        "# считаем двусторонние p-значения для проверки значимости\n",
        "t_stat = np.sqrt((len(DF.index) - 2) / (1 - df.Корреляция ** 2))\n",
        "df['P_значение'] = 2 * (1 - t.cdf(abs(t_stat), len(DF.index) - 2))\n",
        "# получили все корреляционные коэффициенты без 1 и без повторов\n",
        "#  выводим все значимые с сортировкой\n",
        "df.loc[df['P_значение'] < 0.05].sort_values('Корреляция')"
      ],
      "id": "bf56e251",
      "execution_count": 42,
      "outputs": [
        {
          "output_type": "execute_result",
          "data": {
            "text/html": [
              "<div>\n",
              "<style scoped>\n",
              "    .dataframe tbody tr th:only-of-type {\n",
              "        vertical-align: middle;\n",
              "    }\n",
              "\n",
              "    .dataframe tbody tr th {\n",
              "        vertical-align: top;\n",
              "    }\n",
              "\n",
              "    .dataframe thead th {\n",
              "        text-align: right;\n",
              "    }\n",
              "</style>\n",
              "<table border=\"1\" class=\"dataframe\">\n",
              "  <thead>\n",
              "    <tr style=\"text-align: right;\">\n",
              "      <th></th>\n",
              "      <th>Показатель_1</th>\n",
              "      <th>Показатель_2</th>\n",
              "      <th>Корреляция</th>\n",
              "      <th>P_значение</th>\n",
              "    </tr>\n",
              "  </thead>\n",
              "  <tbody>\n",
              "    <tr>\n",
              "      <th>39</th>\n",
              "      <td>MARRIAGE</td>\n",
              "      <td>AGE</td>\n",
              "      <td>-0.417270</td>\n",
              "      <td>0.0</td>\n",
              "    </tr>\n",
              "    <tr>\n",
              "      <th>5</th>\n",
              "      <td>LIMIT_BAL</td>\n",
              "      <td>PAY_2</td>\n",
              "      <td>-0.297632</td>\n",
              "      <td>0.0</td>\n",
              "    </tr>\n",
              "    <tr>\n",
              "      <th>4</th>\n",
              "      <td>LIMIT_BAL</td>\n",
              "      <td>PAY_0</td>\n",
              "      <td>-0.271855</td>\n",
              "      <td>0.0</td>\n",
              "    </tr>\n",
              "    <tr>\n",
              "      <th>1</th>\n",
              "      <td>LIMIT_BAL</td>\n",
              "      <td>EDUCATION</td>\n",
              "      <td>-0.218273</td>\n",
              "      <td>0.0</td>\n",
              "    </tr>\n",
              "    <tr>\n",
              "      <th>27</th>\n",
              "      <td>EDUCATION</td>\n",
              "      <td>MARRIAGE</td>\n",
              "      <td>-0.144536</td>\n",
              "      <td>0.0</td>\n",
              "    </tr>\n",
              "    <tr>\n",
              "      <th>...</th>\n",
              "      <td>...</td>\n",
              "      <td>...</td>\n",
              "      <td>...</td>\n",
              "      <td>...</td>\n",
              "    </tr>\n",
              "    <tr>\n",
              "      <th>6</th>\n",
              "      <td>LIMIT_BAL</td>\n",
              "      <td>BILL_AMT1</td>\n",
              "      <td>0.281392</td>\n",
              "      <td>0.0</td>\n",
              "    </tr>\n",
              "    <tr>\n",
              "      <th>91</th>\n",
              "      <td>PAY_AMT1</td>\n",
              "      <td>PAY_AMT3</td>\n",
              "      <td>0.281398</td>\n",
              "      <td>0.0</td>\n",
              "    </tr>\n",
              "    <tr>\n",
              "      <th>90</th>\n",
              "      <td>PAY_AMT1</td>\n",
              "      <td>PAY_AMT2</td>\n",
              "      <td>0.305704</td>\n",
              "      <td>0.0</td>\n",
              "    </tr>\n",
              "    <tr>\n",
              "      <th>60</th>\n",
              "      <td>PAY_0</td>\n",
              "      <td>PAY_2</td>\n",
              "      <td>0.673600</td>\n",
              "      <td>0.0</td>\n",
              "    </tr>\n",
              "    <tr>\n",
              "      <th>77</th>\n",
              "      <td>BILL_AMT1</td>\n",
              "      <td>BILL_AMT2</td>\n",
              "      <td>0.951969</td>\n",
              "      <td>0.0</td>\n",
              "    </tr>\n",
              "  </tbody>\n",
              "</table>\n",
              "<p>105 rows × 4 columns</p>\n",
              "</div>"
            ],
            "text/plain": [
              "   Показатель_1 Показатель_2  Корреляция  P_значение\n",
              "39     MARRIAGE          AGE   -0.417270         0.0\n",
              "5     LIMIT_BAL        PAY_2   -0.297632         0.0\n",
              "4     LIMIT_BAL        PAY_0   -0.271855         0.0\n",
              "1     LIMIT_BAL    EDUCATION   -0.218273         0.0\n",
              "27    EDUCATION     MARRIAGE   -0.144536         0.0\n",
              "..          ...          ...         ...         ...\n",
              "6     LIMIT_BAL    BILL_AMT1    0.281392         0.0\n",
              "91     PAY_AMT1     PAY_AMT3    0.281398         0.0\n",
              "90     PAY_AMT1     PAY_AMT2    0.305704         0.0\n",
              "60        PAY_0        PAY_2    0.673600         0.0\n",
              "77    BILL_AMT1    BILL_AMT2    0.951969         0.0\n",
              "\n",
              "[105 rows x 4 columns]"
            ]
          },
          "metadata": {},
          "execution_count": 42
        }
      ]
    },
    {
      "cell_type": "markdown",
      "metadata": {
        "id": "d3a48810"
      },
      "source": [
        "# Методы снижения размерности  \n",
        "\n",
        "Посмотрим, как работают методы снижения размерности:  \n",
        "\n",
        "* регрессия на главные компоненты (PCR)   \n",
        "* частный метод наименьших квадратов (PLS)  \n",
        "\n",
        "Оба метода требуют предварительной стандартизации переменных.  "
      ],
      "id": "d3a48810"
    },
    {
      "cell_type": "code",
      "metadata": {
        "colab": {
          "base_uri": "https://localhost:8080/"
        },
        "id": "688312d9",
        "outputId": "6e0a724c-458f-4a7c-ef37-0e4869f3347c"
      },
      "source": [
        "# стандартизация\n",
        "sc = StandardScaler()\n",
        "X_train_std = sc.fit_transform(DF.iloc[:, :15].values)\n",
        "\n",
        "# проверяем средние и стандартные отклонения после стандартизации\n",
        "for i_col in range(X_train_std.shape[1]) :\n",
        "    print('Столбец ', i_col, ': среднее = ',\n",
        "          np.round(np.mean(X_train_std[:, i_col]), 2),\n",
        "         '   Станд. отклонение = ', \n",
        "          np.round(np.std(X_train_std[:, i_col]), 2), sep='')"
      ],
      "id": "688312d9",
      "execution_count": 43,
      "outputs": [
        {
          "output_type": "stream",
          "name": "stdout",
          "text": [
            "Столбец 0: среднее = -0.0   Станд. отклонение = 1.0\n",
            "Столбец 1: среднее = 0.0   Станд. отклонение = 1.0\n",
            "Столбец 2: среднее = 0.0   Станд. отклонение = 1.0\n",
            "Столбец 3: среднее = -0.0   Станд. отклонение = 1.0\n",
            "Столбец 4: среднее = 0.0   Станд. отклонение = 1.0\n",
            "Столбец 5: среднее = -0.0   Станд. отклонение = 1.0\n",
            "Столбец 6: среднее = 0.0   Станд. отклонение = 1.0\n",
            "Столбец 7: среднее = 0.0   Станд. отклонение = 1.0\n",
            "Столбец 8: среднее = -0.0   Станд. отклонение = 1.0\n",
            "Столбец 9: среднее = -0.0   Станд. отклонение = 1.0\n",
            "Столбец 10: среднее = -0.0   Станд. отклонение = 1.0\n",
            "Столбец 11: среднее = 0.0   Станд. отклонение = 1.0\n",
            "Столбец 12: среднее = -0.0   Станд. отклонение = 1.0\n",
            "Столбец 13: среднее = -0.0   Станд. отклонение = 1.0\n",
            "Столбец 14: среднее = 0.0   Станд. отклонение = 1.0\n"
          ]
        }
      ]
    },
    {
      "cell_type": "markdown",
      "metadata": {
        "id": "8c555295"
      },
      "source": [
        "## Метод частных наименьших квадратов  \n",
        "\n",
        "Сначала посмотрим, как работает метод на всех наблюдениях обучающего набора.  "
      ],
      "id": "8c555295"
    },
    {
      "cell_type": "code",
      "metadata": {
        "colab": {
          "base_uri": "https://localhost:8080/"
        },
        "id": "0f3b638f",
        "outputId": "3e0643b7-f92e-430d-eeaa-c4a3f7f1a407"
      },
      "source": [
        "# функция для оценки модели, берём все компоненты, по числу столбцов X\n",
        "pls = PLSRegression(n_components=15, max_iter=1500)\n",
        "# значения зависимой переменной превращаем в фиктивные по классам\n",
        "Y_train = pd.get_dummies(DF.Y.astype(str))\n",
        "# оцениваем\n",
        "pls.fit(X_train_std, Y_train)\n",
        "\n",
        "# считаем долю объяснённой дисперсии\n",
        "frac_var_expl = np.var(pls.x_scores_, axis=0) / np.sum(np.var(X_train_std, axis=0))\n",
        "print('Доли объяснённой дисперсии по компонентам в PLS:\\n',\n",
        "     np.around(frac_var_expl, 3),\n",
        "     '\\nОбщая сумма долей:', np.around(sum(frac_var_expl), 3))"
      ],
      "id": "0f3b638f",
      "execution_count": 49,
      "outputs": [
        {
          "output_type": "stream",
          "name": "stdout",
          "text": [
            "Доли объяснённой дисперсии по компонентам в PLS:\n",
            " [0.138 0.085 0.113 0.045 0.046 0.028 0.034 0.014 0.042 0.047 0.049 0.046\n",
            " 0.055 0.046 0.001] \n",
            "Общая сумма долей: 0.787\n"
          ]
        },
        {
          "output_type": "stream",
          "name": "stderr",
          "text": [
            "/usr/local/lib/python3.7/dist-packages/sklearn/cross_decomposition/_pls.py:96: ConvergenceWarning: Maximum number of iterations reached\n",
            "  ConvergenceWarning)\n"
          ]
        }
      ]
    },
    {
      "cell_type": "markdown",
      "metadata": {
        "id": "d5753d89"
      },
      "source": [
        "Из-за того, что при вычислении компонент метдом PLS мы учитываем корреляцию с $Y$, компоненты, во-первых, не ортогональны, а во-вторых сумма объяснённых долей дисперсии уже не равняется 1.  "
      ],
      "id": "d5753d89"
    },
    {
      "cell_type": "code",
      "metadata": {
        "colab": {
          "base_uri": "https://localhost:8080/",
          "height": 419
        },
        "id": "f4e6c748",
        "outputId": "a1c6c9dc-0293-4a39-f127-aa90796a82d9"
      },
      "source": [
        "# сокращаем пространство компонент до 2\n",
        "pls = PLSRegression(n_components=11)\n",
        "# перестраиваем модель\n",
        "pls.fit(X_train_std, Y_train)\n",
        "# пересчитываем X\n",
        "X_train_pls = pls.transform(X_train_std)\n",
        "# предсказываем принадлежности классов для обучающего набора\n",
        "Y_train_pred = pls.predict(X_train_std)\n",
        "pd.DataFrame(Y_train_pred)"
      ],
      "id": "f4e6c748",
      "execution_count": 114,
      "outputs": [
        {
          "output_type": "execute_result",
          "data": {
            "text/html": [
              "<div>\n",
              "<style scoped>\n",
              "    .dataframe tbody tr th:only-of-type {\n",
              "        vertical-align: middle;\n",
              "    }\n",
              "\n",
              "    .dataframe tbody tr th {\n",
              "        vertical-align: top;\n",
              "    }\n",
              "\n",
              "    .dataframe thead th {\n",
              "        text-align: right;\n",
              "    }\n",
              "</style>\n",
              "<table border=\"1\" class=\"dataframe\">\n",
              "  <thead>\n",
              "    <tr style=\"text-align: right;\">\n",
              "      <th></th>\n",
              "      <th>0</th>\n",
              "      <th>1</th>\n",
              "    </tr>\n",
              "  </thead>\n",
              "  <tbody>\n",
              "    <tr>\n",
              "      <th>0</th>\n",
              "      <td>0.606838</td>\n",
              "      <td>0.393162</td>\n",
              "    </tr>\n",
              "    <tr>\n",
              "      <th>1</th>\n",
              "      <td>0.666887</td>\n",
              "      <td>0.333113</td>\n",
              "    </tr>\n",
              "    <tr>\n",
              "      <th>2</th>\n",
              "      <td>0.752375</td>\n",
              "      <td>0.247625</td>\n",
              "    </tr>\n",
              "    <tr>\n",
              "      <th>3</th>\n",
              "      <td>0.589223</td>\n",
              "      <td>0.410777</td>\n",
              "    </tr>\n",
              "    <tr>\n",
              "      <th>4</th>\n",
              "      <td>0.914751</td>\n",
              "      <td>0.085249</td>\n",
              "    </tr>\n",
              "    <tr>\n",
              "      <th>...</th>\n",
              "      <td>...</td>\n",
              "      <td>...</td>\n",
              "    </tr>\n",
              "    <tr>\n",
              "      <th>25495</th>\n",
              "      <td>0.541367</td>\n",
              "      <td>0.458633</td>\n",
              "    </tr>\n",
              "    <tr>\n",
              "      <th>25496</th>\n",
              "      <td>0.796814</td>\n",
              "      <td>0.203186</td>\n",
              "    </tr>\n",
              "    <tr>\n",
              "      <th>25497</th>\n",
              "      <td>1.044514</td>\n",
              "      <td>-0.044514</td>\n",
              "    </tr>\n",
              "    <tr>\n",
              "      <th>25498</th>\n",
              "      <td>0.790069</td>\n",
              "      <td>0.209931</td>\n",
              "    </tr>\n",
              "    <tr>\n",
              "      <th>25499</th>\n",
              "      <td>0.759185</td>\n",
              "      <td>0.240815</td>\n",
              "    </tr>\n",
              "  </tbody>\n",
              "</table>\n",
              "<p>25500 rows × 2 columns</p>\n",
              "</div>"
            ],
            "text/plain": [
              "              0         1\n",
              "0      0.606838  0.393162\n",
              "1      0.666887  0.333113\n",
              "2      0.752375  0.247625\n",
              "3      0.589223  0.410777\n",
              "4      0.914751  0.085249\n",
              "...         ...       ...\n",
              "25495  0.541367  0.458633\n",
              "25496  0.796814  0.203186\n",
              "25497  1.044514 -0.044514\n",
              "25498  0.790069  0.209931\n",
              "25499  0.759185  0.240815\n",
              "\n",
              "[25500 rows x 2 columns]"
            ]
          },
          "metadata": {},
          "execution_count": 114
        }
      ]
    },
    {
      "cell_type": "code",
      "metadata": {
        "colab": {
          "base_uri": "https://localhost:8080/"
        },
        "id": "2ee36387",
        "outputId": "5860ed9a-01d1-46c3-ca59-0c0aee8487ba"
      },
      "source": [
        "# вычисляем классы\n",
        "Y_train_hat = list()\n",
        "for y_i in Y_train_pred : \n",
        "    Y_train_hat.append([i for i in range(len(y_i)) if y_i[i] == max(y_i)][0])\n",
        "# Y_train_hat\n",
        "# сколько наблюдений попали в каждый класс по модели\n",
        "Counter(Y_train_hat).items()"
      ],
      "id": "2ee36387",
      "execution_count": 115,
      "outputs": [
        {
          "output_type": "execute_result",
          "data": {
            "text/plain": [
              "dict_items([(0, 24373), (1, 1127)])"
            ]
          },
          "metadata": {},
          "execution_count": 115
        }
      ]
    },
    {
      "cell_type": "markdown",
      "metadata": {
        "id": "3cd7c05e"
      },
      "source": [
        "Рисуем классы на графике в координатах 2 главных компонент по PLS.  "
      ],
      "id": "3cd7c05e"
    },
    {
      "cell_type": "code",
      "metadata": {
        "colab": {
          "base_uri": "https://localhost:8080/",
          "height": 493
        },
        "id": "cf167983",
        "outputId": "f6f2eaa0-3072-4d54-8e00-d991b2dd248a"
      },
      "source": [
        "# график классов в пространстве ГК\n",
        "plt.figure(figsize = (13,8))\n",
        "plt.scatter(X_train_pls[DF['Y'] == 0][:, 3],\n",
        "            X_train_pls[DF['Y'] == 0][:, 10], label='Y: 0')\n",
        "plt.scatter(X_train_pls[DF['Y'] == 1][:, 3], \n",
        "            X_train_pls[DF['Y'] == 1][:, 10], label='Y: 1')\n",
        "\n",
        "plt.xlabel('ГК 1 по PLS')\n",
        "plt.ylabel('ГК 2 по PLS')\n",
        "plt.legend()\n",
        "plt.show()"
      ],
      "id": "cf167983",
      "execution_count": 142,
      "outputs": [
        {
          "output_type": "display_data",
          "data": {
            "image/png": "[encoded data removed]",
            "text/plain": [
              "<Figure size 936x576 with 1 Axes>"
            ]
          },
          "metadata": {}
        }
      ]
    },
    {
      "cell_type": "markdown",
      "metadata": {
        "id": "1360f1b8"
      },
      "source": [
        "Я провел много экспериментов с разным количеством главных компонент и попробовал построить срезы, чтобы найти когда классы можно будет визуально разделить. Однако, понижение размерности не позволяет добиться визуального улучшения в разделении классов. \n",
        "\n",
        "По идеии из 15 зависимых компонент, 3  (`sex`, `marrige`, `education`) не позволяют различить два класса и 6 признаков коррелированны."
      ],
      "id": "1360f1b8"
    },
    {
      "cell_type": "code",
      "metadata": {
        "id": "2a7f9f6f",
        "colab": {
          "base_uri": "https://localhost:8080/"
        },
        "outputId": "e59c98b0-0842-4a78-8ef2-4d14533a3561"
      },
      "source": [
        "# функция разбиения на блоки для перекрёстной проверки\n",
        "#  для чистоты эксперимента возьмём другое ядро генератора случайных чисел\n",
        "kf_10 = KFold(n_splits=10, random_state=my_seed+1, shuffle=True)\n",
        "# считаем точность модели (Acc) с перекрёстной проверкой по блокам\n",
        "#  функция cross_val_score не сработает, т.к. у нас мультиклассовая\n",
        "#  классификация, поэтому делаем вручную\n",
        "# значения Y как метки классов\n",
        "Y_train = DF.Y.values\n",
        "# значения Y как фиктивные переменные\n",
        "Y_train_dummy = pd.get_dummies(Y_train.astype(str))\n",
        "# модель внутри блока\n",
        "pls_cv = PLSRegression(n_components=11)\n",
        "# для записи Acc по блокам\n",
        "acc_blocks = list()\n",
        "# цикл по блокам\n",
        "for train_index, test_index in kf_10.split(X_train_std, DF.Y.values) : \n",
        "    # данные для модели внутри блока\n",
        "    X_i_train = X_train_std[train_index]\n",
        "    Y_i_train = Y_train_dummy.iloc[train_index, :]\n",
        "\n",
        "    # данные для прогноза вне блока\n",
        "    X_i_test = X_train_std[test_index]\n",
        "    Y_i_test = Y_train[test_index]\n",
        "\n",
        "    # оцениваем модель на блоке\n",
        "    pls_cv.fit(X_i_train, Y_i_train)\n",
        "    # делаем прогноз y вне блока\n",
        "    Y_pred = pls.predict(X_i_test)\n",
        "    Y_hat = list()\n",
        "    for y_i in Y_pred : \n",
        "        Y_hat.append([i for i in range(len(y_i)) if y_i[i] == max(y_i)][0])\n",
        "    # считаем точность\n",
        "    acc = accuracy_score(Y_i_test, Y_hat)\n",
        "    acc_blocks.append(acc)\n",
        "score=list()\n",
        "score.append(np.around(np.mean(acc_blocks), 3))\n",
        "score_models=list()\n",
        "score_models.append('logit_PLS')\n",
        "print('Модель ', score_models[0], ', перекрёстная проверка по 10 блокам',\n",
        "      '\\nAcc = ', np.around(score[0], 2), sep='')"
      ],
      "id": "2a7f9f6f",
      "execution_count": 144,
      "outputs": [
        {
          "output_type": "stream",
          "name": "stdout",
          "text": [
            "Модель logit_PLS, перекрёстная проверка по 10 блокам\n",
            "Acc = 0.8\n"
          ]
        }
      ]
    },
    {
      "cell_type": "markdown",
      "metadata": {
        "id": "09a02626"
      },
      "source": [
        "## Лассо-регрессия\n",
        "\n",
        "Технически реализация лассо-регрессии отличается от ридж единственным аргументом `penalty='l1'` в функции `LogisticRegression`.    "
      ],
      "id": "09a02626"
    },
    {
      "cell_type": "code",
      "metadata": {
        "id": "bf20f8ec",
        "colab": {
          "base_uri": "https://localhost:8080/"
        },
        "outputId": "82fa1f9e-191f-4297-b33e-df1335db783e"
      },
      "source": [
        "# функция для построения модели\n",
        "logit_lasso = LogisticRegression(penalty='l1', solver='liblinear', multi_class='ovr')\n",
        "# оцениваем параметры\n",
        "logit_lasso.fit(X_train_std, Y_train)\n",
        "# выводим параметры\n",
        "print('Константы моделей для классов:\\n', np.around(logit_lasso.intercept_, 3),\n",
        "     '\\nКоэффициенты моделей для классов:\\n', np.around(logit_lasso.coef_, 3))"
      ],
      "id": "bf20f8ec",
      "execution_count": 151,
      "outputs": [
        {
          "output_type": "stream",
          "name": "stdout",
          "text": [
            "Константы моделей для классов:\n",
            " [-1.465] \n",
            "Коэффициенты моделей для классов:\n",
            " [[-0.111 -0.061 -0.077 -0.081  0.066  0.678  0.197 -0.359  0.266 -0.193\n",
            "  -0.159 -0.051 -0.067 -0.041 -0.036]]\n"
          ]
        }
      ]
    },
    {
      "cell_type": "markdown",
      "metadata": {
        "id": "3bd8cfb4"
      },
      "source": [
        "Метод лассо позволяет обнулять коэффициенты, тем самым отбрасывая слабые объясняющие переменные, но в данном случае такого не произошло.  "
      ],
      "id": "3bd8cfb4"
    },
    {
      "cell_type": "code",
      "metadata": {
        "id": "92a80a3b",
        "colab": {
          "base_uri": "https://localhost:8080/"
        },
        "outputId": "44f9260f-53d3-4437-cd4c-5cf95cbacd3b"
      },
      "source": [
        "# поиск оптимального значения C:\n",
        "#  подбираем C по наибольшей точности с перекрёстной проверкой\n",
        "lasso_cv = LogisticRegressionCV(cv=10, random_state=my_seed+3,\n",
        "                               penalty='l1', solver='liblinear')\n",
        "lasso_cv.fit(X_train_std, Y_train)\n",
        "# значения параметра C (инверсия лямбды), которые дают наилучшую\n",
        "#  точность для каждого класса\n",
        "lasso_cv.C_"
      ],
      "id": "92a80a3b",
      "execution_count": 153,
      "outputs": [
        {
          "output_type": "execute_result",
          "data": {
            "text/plain": [
              "array([2.7825594])"
            ]
          },
          "metadata": {},
          "execution_count": 153
        }
      ]
    },
    {
      "cell_type": "code",
      "metadata": {
        "id": "6ae71683",
        "colab": {
          "base_uri": "https://localhost:8080/"
        },
        "outputId": "3893ed99-2a9e-4208-96a7-9d2fe0f3d594"
      },
      "source": [
        "# сохраняем и выводим Acc для модели\n",
        "score.append(np.around(lasso_cv.score(X_train_std, Y_train), 3))\n",
        "score_models.append('logit_lasso')\n",
        "print('Модель ', score_models[1], ', перекрёстная проверка по 10 блокам',\n",
        "      '\\nAcc = ', score[1], sep='')"
      ],
      "id": "6ae71683",
      "execution_count": 154,
      "outputs": [
        {
          "output_type": "stream",
          "name": "stdout",
          "text": [
            "Модель logit_lasso, перекрёстная проверка по 10 блокам\n",
            "Acc = 0.811\n"
          ]
        }
      ]
    },
    {
      "cell_type": "code",
      "metadata": {
        "id": "c15ed701",
        "colab": {
          "base_uri": "https://localhost:8080/",
          "height": 281
        },
        "outputId": "51ae5aff-049f-4a1f-f33a-bdded1b030a7"
      },
      "source": [
        "# график динамики коэффициентов в лассо-регрессии    \n",
        "#  модель для класса 0\n",
        "plot_coeffs_traces(X_train_std, Y_train, 0, 'l1', lasso_cv.C_, DF.columns)"
      ],
      "id": "c15ed701",
      "execution_count": 160,
      "outputs": [
        {
          "output_type": "display_data",
          "data": {
            "image/png": "[encoded data removed]",
            "text/plain": [
              "<Figure size 432x288 with 1 Axes>"
            ]
          },
          "metadata": {}
        }
      ]
    },
    {
      "cell_type": "markdown",
      "metadata": {
        "id": "041010d5"
      },
      "source": [
        "Итак, судя по графикам, для значения гиперпараметра, дающего самую точную модель, ни один коэффициент при объясняющих переменных не обнуляется. Это подтверждает наблюдение, сделанное нами ещё на этапе предварительного анализа: все объясняющие переменные неплохо разделяют классы.   \n",
        "\n",
        "\n",
        "# Прогноз на отложенные наблюдения по лучшей модели\n",
        "\n",
        "Ещё раз посмотрим на точность построенных моделей.  "
      ],
      "id": "041010d5"
    },
    {
      "cell_type": "code",
      "metadata": {
        "id": "13f506f8",
        "colab": {
          "base_uri": "https://localhost:8080/",
          "height": 111
        },
        "outputId": "bb327d39-3c82-48f5-e278-7199f09e4ee4"
      },
      "source": [
        "# сводка по точности моделей\n",
        "pd.DataFrame({'Модель' : score_models, 'Acc' : score})"
      ],
      "id": "13f506f8",
      "execution_count": 161,
      "outputs": [
        {
          "output_type": "execute_result",
          "data": {
            "text/html": [
              "<div>\n",
              "<style scoped>\n",
              "    .dataframe tbody tr th:only-of-type {\n",
              "        vertical-align: middle;\n",
              "    }\n",
              "\n",
              "    .dataframe tbody tr th {\n",
              "        vertical-align: top;\n",
              "    }\n",
              "\n",
              "    .dataframe thead th {\n",
              "        text-align: right;\n",
              "    }\n",
              "</style>\n",
              "<table border=\"1\" class=\"dataframe\">\n",
              "  <thead>\n",
              "    <tr style=\"text-align: right;\">\n",
              "      <th></th>\n",
              "      <th>Модель</th>\n",
              "      <th>Acc</th>\n",
              "    </tr>\n",
              "  </thead>\n",
              "  <tbody>\n",
              "    <tr>\n",
              "      <th>0</th>\n",
              "      <td>logit_PLS</td>\n",
              "      <td>0.800</td>\n",
              "    </tr>\n",
              "    <tr>\n",
              "      <th>1</th>\n",
              "      <td>logit_lasso</td>\n",
              "      <td>0.811</td>\n",
              "    </tr>\n",
              "  </tbody>\n",
              "</table>\n",
              "</div>"
            ],
            "text/plain": [
              "        Модель    Acc\n",
              "0    logit_PLS  0.800\n",
              "1  logit_lasso  0.811"
            ]
          },
          "metadata": {},
          "execution_count": 161
        }
      ]
    },
    {
      "cell_type": "markdown",
      "metadata": {
        "id": "99c7c905"
      },
      "source": [
        "Все модели показывают высокую точность по показателю $Acc$, при этом самой точной оказывается Лассо-регрессия. Сделаем прогноз на отложенные наблюдения.   "
      ],
      "id": "99c7c905"
    },
    {
      "cell_type": "code",
      "metadata": {
        "id": "6f19fd52",
        "colab": {
          "base_uri": "https://localhost:8080/"
        },
        "outputId": "9d848f56-c356-49b5-fdd7-bec6f2f88557"
      },
      "source": [
        "# формируем объекты с данными отложенной выборки\n",
        "X_pred_std = sc.fit_transform(DF_predict.iloc[:, :15].values)\n",
        "Y_pred = DF_predict.Y\n",
        "Y_hat = logit_lasso.predict(X_pred_std)\n",
        "# отчёт по точности на отложенных наблюдениях\n",
        "print(classification_report(Y_pred, Y_hat))"
      ],
      "id": "6f19fd52",
      "execution_count": 162,
      "outputs": [
        {
          "output_type": "stream",
          "name": "stdout",
          "text": [
            "              precision    recall  f1-score   support\n",
            "\n",
            "           0       0.81      0.97      0.89      3489\n",
            "           1       0.71      0.24      0.36      1011\n",
            "\n",
            "    accuracy                           0.81      4500\n",
            "   macro avg       0.76      0.60      0.62      4500\n",
            "weighted avg       0.79      0.81      0.77      4500\n",
            "\n"
          ]
        }
      ]
    },
    {
      "cell_type": "markdown",
      "metadata": {
        "id": "15e4aa0a"
      },
      "source": [
        "Итак, методом логистической регрессии со сжатием коэффициенты с L1\n",
        "-регуляризацией мы получили идеально точную модель классификации трёх видов красных вин.  "
      ],
      "id": "15e4aa0a"
    },
    {
      "cell_type": "markdown",
      "metadata": {
        "id": "af39298f"
      },
      "source": [
        "# Источники \n",
        "\n",
        "1. *Рашка С.* Python и машинное обучение: крайне необходимое пособие по новейшей предсказательной аналитике, обязательное для более глубокого понимания методологии машинного обучения / пер. с англ. А.В. Логунова. – М.: ДМК Пресс, 2017. – 418 с.: ил.  \n",
        "1. Репозиторий с кодом к книге *Рашка С.* Python и машинное обучение / github.com. URL: <https://github.com/rasbt/python-machine-learning-book-3rd-edition>  \n",
        "1. *Xueting Bai*, *Lingbo Wang*, *Hanning Li* Identification of red wine categories based on physicochemical properties / 2019 5th International Conference on Education Technology, Management and Humanities Science (ETMHS 2019). URL: <https://webofproceedings.org/proceedings_series/ESSP/ETMHS%202019/ETMHS19309.pdf>  \n",
        "\n"
      ],
      "id": "af39298f"
    }
  ]
}