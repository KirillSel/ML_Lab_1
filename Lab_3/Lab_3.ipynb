{
  "nbformat": 4,
  "nbformat_minor": 5,
  "metadata": {
    "kernelspec": {
      "display_name": "Python 3",
      "language": "python",
      "name": "python3"
    },
    "language_info": {
      "codemirror_mode": {
        "name": "ipython",
        "version": 3
      },
      "file_extension": ".py",
      "mimetype": "text/x-python",
      "name": "python",
      "nbconvert_exporter": "python",
      "pygments_lexer": "ipython3",
      "version": "3.8.8"
    },
    "colab": {
      "name": "Lab_03.ipynb",
      "provenance": [],
      "collapsed_sections": []
    }
  },
  "cells": [
    {
      "cell_type": "markdown",
      "metadata": {
        "id": "a1aef29b"
      },
      "source": [
        "`Дисциплина: Методы и технологии машинного обучения`   \n",
        "`Уровень подготовки: бакалавриат`   \n",
        "`Направление подготовки: 01.03.02 Прикладная математика и информатика`   \n",
        "`Семестр: осень 2021/2022`   \n",
        "\n",
        "\n",
        "\n",
        "\n",
        "# Упражнение №3: Методы снижения размерности. Регуляризация логистической регрессии. \n",
        "\n",
        "\n",
        "\n",
        "Точность всех моделей оценивается методом перекрёстной проверки по 10 блокам.  \n",
        "\n",
        "*Модели*: множественная линейная регрессия \n"
      ],
      "id": "a1aef29b"
    },
    {
      "cell_type": "markdown",
      "metadata": {
        "id": "61b9ab5d"
      },
      "source": [
        "# Указания к выполнению\n",
        "\n",
        "\n",
        "## Загружаем пакеты"
      ],
      "id": "61b9ab5d"
    },
    {
      "cell_type": "code",
      "metadata": {
        "id": "c8fa189c"
      },
      "source": [
        "# загрузка пакетов: инструменты --------------------------------------------\n",
        "#  работа с массивами\n",
        "import numpy as np\n",
        "#  фреймы данных\n",
        "import pandas as pd\n",
        "#  распределение Стьюдента для проверки значимости\n",
        "from scipy.stats import t\n",
        "# подсчёт частот внутри массива\n",
        "from collections import Counter\n",
        "#  графики\n",
        "import matplotlib as mpl\n",
        "#  стили и шаблоны графиков на основе matplotlib\n",
        "import seaborn as sns\n",
        "\n",
        "# загрузка пакетов: данные -------------------------------------------------\n",
        "from sklearn import datasets\n",
        "\n",
        "# загрузка пакетов: модели -------------------------------------------------\n",
        "#  стандартизация показателей\n",
        "from sklearn.preprocessing import StandardScaler\n",
        "#  метод главных компонент\n",
        "from sklearn.decomposition import PCA\n",
        "# метод частных наименьших квадратов\n",
        "from sklearn.cross_decomposition import PLSRegression\n",
        "#  логистическая регрессия (ММП)\n",
        "from sklearn.linear_model import LogisticRegression, LogisticRegressionCV\n",
        "#  перекрёстная проверка по k блокам\n",
        "from sklearn.model_selection import KFold, cross_val_score\n",
        "#  расчёт Acc и сводка по точности классификации\n",
        "from sklearn.metrics import accuracy_score, classification_report"
      ],
      "id": "c8fa189c",
      "execution_count": 2,
      "outputs": []
    },
    {
      "cell_type": "code",
      "metadata": {
        "id": "43a4a48e"
      },
      "source": [
        "# константы\n",
        "#  ядро для генератора случайных чисел\n",
        "my_seed = 20\n",
        "#  создаём псевдоним для короткого обращения к графикам\n",
        "plt = mpl.pyplot\n",
        "# настройка стиля и отображения графиков\n",
        "#  примеры стилей и шаблонов графиков: \n",
        "#  http://tonysyu.github.io/raw_content/matplotlib-style-gallery/gallery.html\n",
        "mpl.style.use('seaborn-whitegrid')\n",
        "sns.set_palette(\"Set2\")\n",
        "# раскомментируйте следующую строку, чтобы посмотреть палитру\n",
        "# sns.color_palette(\"Set2\")"
      ],
      "id": "43a4a48e",
      "execution_count": 3,
      "outputs": []
    },
    {
      "cell_type": "code",
      "metadata": {
        "id": "29d97f61"
      },
      "source": [
        "# функция, которая строит график сжатия коэффициентов в ридж и лассо\n",
        "#  из репозитория к книге С.Рашки Python и машинное обучение,\n",
        "#  слегка переработанная\n",
        "def plot_coeffs_traces (X, y, class_number, penalty_name, C_opt, col_names,\n",
        "                        C_min_pow=-4, C_max_pow=3.) :\n",
        "    fig = plt.figure()\n",
        "    ax = plt.subplot(111)    \n",
        "    \n",
        "    # палитра\n",
        "    colors = sns.color_palette(\"Spectral\", len(col_names)-1)\n",
        "    \n",
        "    weights, params = [], []\n",
        "    for c in np.arange(C_min_pow, C_max_pow+1):\n",
        "        lr = LogisticRegression(penalty=penalty_name, \n",
        "                                C=10.**c, solver='liblinear', \n",
        "                                multi_class='ovr', random_state=my_seed)\n",
        "        lr.fit(X, y)\n",
        "        weights.append(lr.coef_[class_number])\n",
        "        params.append(10**c)\n",
        "\n",
        "    weights = np.array(weights)\n",
        "\n",
        "    for column, color in zip(range(weights.shape[1]), colors):\n",
        "        plt.plot(params, weights[:, column],\n",
        "                 label=col_names[column],\n",
        "                 color=color)\n",
        "\n",
        "    # отсечки по оптимальным C\n",
        "    plt.axvline(x=C_opt[class_number], color='magenta', \n",
        "                linestyle='--', linewidth=1)\n",
        "\n",
        "    plt.axhline(0, color='black', linestyle='--', linewidth=1)\n",
        "    plt.xlim([10**(C_min_pow), 10**C_max_pow])\n",
        "    plt.ylabel('weight coefficient')\n",
        "    plt.xlabel('C')\n",
        "    plt.xscale('log')\n",
        "    plt.legend(loc='upper left')\n",
        "    ax.legend(loc='upper center', \n",
        "              bbox_to_anchor=(1.38, 1.03),\n",
        "              ncol=1, fancybox=True)\n",
        "    plt.show()"
      ],
      "id": "29d97f61",
      "execution_count": 4,
      "outputs": []
    },
    {
      "cell_type": "markdown",
      "metadata": {
        "id": "ScS7XFwDmewd"
      },
      "source": [
        "## If you choose to work in Colab,\n",
        "\n",
        "1. Visit [Drive folder](https://drive.google.com/drive/folders/1E9_u-v8chGmPwgROBEorD9hT609ysv_W?usp=sharing).\n",
        "\n",
        "2. Right click on folder name -> \"Add a shortcut to Drive\" -> select \"My Drive\" -> \"Add shortcut\"."
      ],
      "id": "ScS7XFwDmewd"
    },
    {
      "cell_type": "code",
      "metadata": {
        "colab": {
          "base_uri": "https://localhost:8080/"
        },
        "id": "VLAXospdj6uQ",
        "outputId": "17680e32-6fd3-4d72-c098-8e07264db235"
      },
      "source": [
        "# Detect if we are in Google Colaboratory\n",
        "try:\n",
        "    import google.colab\n",
        "    IN_COLAB = True\n",
        "except ImportError:\n",
        "    IN_COLAB = False\n",
        "\n",
        "from pathlib import Path\n",
        "# Determine the locations of auxiliary libraries and datasets.\n",
        "# AUX_DATA_ROOT is where 'notmnist.py', 'animation.py' and 'tiny-imagenet-2020.zip' are.\n",
        "if IN_COLAB:\n",
        "    google.colab.drive.mount(\"/content/drive\")\n",
        "    \n",
        "    # Change this if you created the shortcut in a different location\n",
        "    AUX_DATA_ROOT = Path(\"/content/drive/My Drive/data\")\n",
        "    \n",
        "    assert AUX_DATA_ROOT.is_dir(), \"Have you forgot to 'Add a shortcut to Drive'?\"\n",
        "    \n",
        "    import sys\n",
        "    sys.path.insert(0, str(AUX_DATA_ROOT))\n",
        "else:\n",
        "    AUX_DATA_ROOT = Path(\".\")"
      ],
      "id": "VLAXospdj6uQ",
      "execution_count": 52,
      "outputs": [
        {
          "output_type": "stream",
          "name": "stdout",
          "text": [
            "Drive already mounted at /content/drive; to attempt to forcibly remount, call drive.mount(\"/content/drive\", force_remount=True).\n"
          ]
        }
      ]
    },
    {
      "cell_type": "code",
      "metadata": {
        "colab": {
          "base_uri": "https://localhost:8080/"
        },
        "id": "a7e42f2c",
        "outputId": "a6c338dd-3dbd-448e-c29a-4efcfe37ceb0"
      },
      "source": [
        "# загружаем таблицу и превращаем её во фрейм\n",
        "import os \n",
        "\n",
        "DF_all = pd.read_csv(os.path.join(AUX_DATA_ROOT, 'default_of_credit_card_clients.csv'))\n",
        "\n",
        "# выясняем размерность фрейма\n",
        "print('Число строк и столбцов в наборе данных:\\n', DF_all.shape)"
      ],
      "id": "a7e42f2c",
      "execution_count": 53,
      "outputs": [
        {
          "output_type": "stream",
          "name": "stdout",
          "text": [
            "Число строк и столбцов в наборе данных:\n",
            " (30000, 24)\n"
          ]
        }
      ]
    },
    {
      "cell_type": "code",
      "metadata": {
        "id": "Ivg2eRk3qITa"
      },
      "source": [
        "# удаляем ненужные объясняющие переменные\n",
        "DF_all = DF_all.drop('PAY_3', 1)\n",
        "DF_all = DF_all.drop('PAY_4', 1)\n",
        "DF_all = DF_all.drop('PAY_5', 1)\n",
        "DF_all = DF_all.drop('PAY_6', 1)\n",
        "DF_all = DF_all.drop('BILL_AMT3', 1)\n",
        "DF_all = DF_all.drop('BILL_AMT4', 1)\n",
        "DF_all = DF_all.drop('BILL_AMT5', 1)\n",
        "DF_all = DF_all.drop('BILL_AMT6', 1)"
      ],
      "id": "Ivg2eRk3qITa",
      "execution_count": 54,
      "outputs": []
    },
    {
      "cell_type": "code",
      "metadata": {
        "colab": {
          "base_uri": "https://localhost:8080/"
        },
        "id": "mNP7rvlz7UZM",
        "outputId": "de0704cf-b9f1-444c-d2de-2dc4a0964a9c"
      },
      "source": [
        "# выясняем размерность фрейма\n",
        "print('Число строк и столбцов в наборе данных:\\n', DF_all.shape)"
      ],
      "id": "mNP7rvlz7UZM",
      "execution_count": 55,
      "outputs": [
        {
          "output_type": "stream",
          "name": "stdout",
          "text": [
            "Число строк и столбцов в наборе данных:\n",
            " (30000, 16)\n"
          ]
        }
      ]
    },
    {
      "cell_type": "code",
      "metadata": {
        "colab": {
          "base_uri": "https://localhost:8080/",
          "height": 204
        },
        "id": "MHayWzu-n01u",
        "outputId": "6facc10e-1ec1-45d8-9e9a-f6c127a42cd2"
      },
      "source": [
        "DF_all.head (5)"
      ],
      "id": "MHayWzu-n01u",
      "execution_count": 56,
      "outputs": [
        {
          "output_type": "execute_result",
          "data": {
            "text/html": [
              "<div>\n",
              "<style scoped>\n",
              "    .dataframe tbody tr th:only-of-type {\n",
              "        vertical-align: middle;\n",
              "    }\n",
              "\n",
              "    .dataframe tbody tr th {\n",
              "        vertical-align: top;\n",
              "    }\n",
              "\n",
              "    .dataframe thead th {\n",
              "        text-align: right;\n",
              "    }\n",
              "</style>\n",
              "<table border=\"1\" class=\"dataframe\">\n",
              "  <thead>\n",
              "    <tr style=\"text-align: right;\">\n",
              "      <th></th>\n",
              "      <th>LIMIT_BAL</th>\n",
              "      <th>SEX</th>\n",
              "      <th>EDUCATION</th>\n",
              "      <th>MARRIAGE</th>\n",
              "      <th>AGE</th>\n",
              "      <th>PAY_0</th>\n",
              "      <th>PAY_2</th>\n",
              "      <th>BILL_AMT1</th>\n",
              "      <th>BILL_AMT2</th>\n",
              "      <th>PAY_AMT1</th>\n",
              "      <th>PAY_AMT2</th>\n",
              "      <th>PAY_AMT3</th>\n",
              "      <th>PAY_AMT4</th>\n",
              "      <th>PAY_AMT5</th>\n",
              "      <th>PAY_AMT6</th>\n",
              "      <th>Y</th>\n",
              "    </tr>\n",
              "  </thead>\n",
              "  <tbody>\n",
              "    <tr>\n",
              "      <th>0</th>\n",
              "      <td>20000</td>\n",
              "      <td>2</td>\n",
              "      <td>2</td>\n",
              "      <td>1</td>\n",
              "      <td>24</td>\n",
              "      <td>2</td>\n",
              "      <td>2</td>\n",
              "      <td>3913</td>\n",
              "      <td>3102</td>\n",
              "      <td>0</td>\n",
              "      <td>689</td>\n",
              "      <td>0</td>\n",
              "      <td>0</td>\n",
              "      <td>0</td>\n",
              "      <td>0</td>\n",
              "      <td>1</td>\n",
              "    </tr>\n",
              "    <tr>\n",
              "      <th>1</th>\n",
              "      <td>120000</td>\n",
              "      <td>2</td>\n",
              "      <td>2</td>\n",
              "      <td>2</td>\n",
              "      <td>26</td>\n",
              "      <td>-1</td>\n",
              "      <td>2</td>\n",
              "      <td>2682</td>\n",
              "      <td>1725</td>\n",
              "      <td>0</td>\n",
              "      <td>1000</td>\n",
              "      <td>1000</td>\n",
              "      <td>1000</td>\n",
              "      <td>0</td>\n",
              "      <td>2000</td>\n",
              "      <td>1</td>\n",
              "    </tr>\n",
              "    <tr>\n",
              "      <th>2</th>\n",
              "      <td>90000</td>\n",
              "      <td>2</td>\n",
              "      <td>2</td>\n",
              "      <td>2</td>\n",
              "      <td>34</td>\n",
              "      <td>0</td>\n",
              "      <td>0</td>\n",
              "      <td>29239</td>\n",
              "      <td>14027</td>\n",
              "      <td>1518</td>\n",
              "      <td>1500</td>\n",
              "      <td>1000</td>\n",
              "      <td>1000</td>\n",
              "      <td>1000</td>\n",
              "      <td>5000</td>\n",
              "      <td>0</td>\n",
              "    </tr>\n",
              "    <tr>\n",
              "      <th>3</th>\n",
              "      <td>50000</td>\n",
              "      <td>2</td>\n",
              "      <td>2</td>\n",
              "      <td>1</td>\n",
              "      <td>37</td>\n",
              "      <td>0</td>\n",
              "      <td>0</td>\n",
              "      <td>46990</td>\n",
              "      <td>48233</td>\n",
              "      <td>2000</td>\n",
              "      <td>2019</td>\n",
              "      <td>1200</td>\n",
              "      <td>1100</td>\n",
              "      <td>1069</td>\n",
              "      <td>1000</td>\n",
              "      <td>0</td>\n",
              "    </tr>\n",
              "    <tr>\n",
              "      <th>4</th>\n",
              "      <td>50000</td>\n",
              "      <td>1</td>\n",
              "      <td>2</td>\n",
              "      <td>1</td>\n",
              "      <td>57</td>\n",
              "      <td>-1</td>\n",
              "      <td>0</td>\n",
              "      <td>8617</td>\n",
              "      <td>5670</td>\n",
              "      <td>2000</td>\n",
              "      <td>36681</td>\n",
              "      <td>10000</td>\n",
              "      <td>9000</td>\n",
              "      <td>689</td>\n",
              "      <td>679</td>\n",
              "      <td>0</td>\n",
              "    </tr>\n",
              "  </tbody>\n",
              "</table>\n",
              "</div>"
            ],
            "text/plain": [
              "   LIMIT_BAL  SEX  EDUCATION  MARRIAGE  ...  PAY_AMT4  PAY_AMT5  PAY_AMT6  Y\n",
              "0      20000    2          2         1  ...         0         0         0  1\n",
              "1     120000    2          2         2  ...      1000         0      2000  1\n",
              "2      90000    2          2         2  ...      1000      1000      5000  0\n",
              "3      50000    2          2         1  ...      1100      1069      1000  0\n",
              "4      50000    1          2         1  ...      9000       689       679  0\n",
              "\n",
              "[5 rows x 16 columns]"
            ]
          },
          "metadata": {},
          "execution_count": 56
        }
      ]
    },
    {
      "cell_type": "markdown",
      "metadata": {
        "id": "5ce7ffd1"
      },
      "source": [
        "Отложим 15% наблюдений для прогноза (теста).  "
      ],
      "id": "5ce7ffd1"
    },
    {
      "cell_type": "code",
      "metadata": {
        "id": "13f9300b"
      },
      "source": [
        "# наблюдения для моделирования\n",
        "DF = DF_all.sample(frac=0.85, random_state=my_seed)\n",
        "# отложенные наблюдения\n",
        "DF_predict = DF_all.drop(DF.index)"
      ],
      "id": "13f9300b",
      "execution_count": 57,
      "outputs": []
    },
    {
      "cell_type": "code",
      "metadata": {
        "colab": {
          "base_uri": "https://localhost:8080/"
        },
        "id": "1e97a472",
        "outputId": "80c63733-4819-493b-cc7f-fd790f0a8ef2"
      },
      "source": [
        "# типы столбцов фрейма\n",
        "DF.dtypes"
      ],
      "id": "1e97a472",
      "execution_count": 58,
      "outputs": [
        {
          "output_type": "execute_result",
          "data": {
            "text/plain": [
              "LIMIT_BAL    int64\n",
              "SEX          int64\n",
              "EDUCATION    int64\n",
              "MARRIAGE     int64\n",
              "AGE          int64\n",
              "PAY_0        int64\n",
              "PAY_2        int64\n",
              "BILL_AMT1    int64\n",
              "BILL_AMT2    int64\n",
              "PAY_AMT1     int64\n",
              "PAY_AMT2     int64\n",
              "PAY_AMT3     int64\n",
              "PAY_AMT4     int64\n",
              "PAY_AMT5     int64\n",
              "PAY_AMT6     int64\n",
              "Y            int64\n",
              "dtype: object"
            ]
          },
          "metadata": {},
          "execution_count": 58
        }
      ]
    },
    {
      "cell_type": "markdown",
      "metadata": {
        "id": "d4a540a2"
      },
      "source": [
        "Проверим, нет ли в таблице пропусков.  "
      ],
      "id": "d4a540a2"
    },
    {
      "cell_type": "code",
      "metadata": {
        "colab": {
          "base_uri": "https://localhost:8080/"
        },
        "id": "42a96cd9",
        "outputId": "6b133df0-1eab-4e8f-e2dc-f453cb9a1636"
      },
      "source": [
        "# считаем пропуски в каждом столбце\n",
        "DF.isna().sum()"
      ],
      "id": "42a96cd9",
      "execution_count": 13,
      "outputs": [
        {
          "output_type": "execute_result",
          "data": {
            "text/plain": [
              "LIMIT_BAL    0\n",
              "SEX          0\n",
              "EDUCATION    0\n",
              "MARRIAGE     0\n",
              "AGE          0\n",
              "PAY_0        0\n",
              "PAY_2        0\n",
              "BILL_AMT1    0\n",
              "BILL_AMT2    0\n",
              "PAY_AMT1     0\n",
              "PAY_AMT2     0\n",
              "PAY_AMT3     0\n",
              "PAY_AMT4     0\n",
              "PAY_AMT5     0\n",
              "PAY_AMT6     0\n",
              "Y            0\n",
              "dtype: int64"
            ]
          },
          "metadata": {},
          "execution_count": 13
        }
      ]
    },
    {
      "cell_type": "markdown",
      "metadata": {
        "id": "2941191c"
      },
      "source": [
        "Пропусков не обнаружено.  \n",
        "\n",
        "# Предварительный анализ данных  \n",
        "\n",
        "## Описательные статистики  \n",
        "\n",
        "Считаем доли классов целевой переменной `Y`.  "
      ],
      "id": "2941191c"
    },
    {
      "cell_type": "code",
      "metadata": {
        "colab": {
          "base_uri": "https://localhost:8080/"
        },
        "id": "ad9c9120",
        "outputId": "243553b3-882b-431e-d2c3-d5f468ef26d6"
      },
      "source": [
        "# метки классов\n",
        "DF.Y.unique()"
      ],
      "id": "ad9c9120",
      "execution_count": 14,
      "outputs": [
        {
          "output_type": "execute_result",
          "data": {
            "text/plain": [
              "array([0, 1])"
            ]
          },
          "metadata": {},
          "execution_count": 14
        }
      ]
    },
    {
      "cell_type": "code",
      "metadata": {
        "colab": {
          "base_uri": "https://localhost:8080/"
        },
        "id": "1807f21e",
        "outputId": "520cf504-e813-4901-f52a-54d8b6732201"
      },
      "source": [
        "# доли классов\n",
        "np.around(DF.Y.value_counts() / len(DF.index), 3)"
      ],
      "id": "1807f21e",
      "execution_count": 15,
      "outputs": [
        {
          "output_type": "execute_result",
          "data": {
            "text/plain": [
              "0    0.779\n",
              "1    0.221\n",
              "Name: Y, dtype: float64"
            ]
          },
          "metadata": {},
          "execution_count": 15
        }
      ]
    },
    {
      "cell_type": "markdown",
      "metadata": {
        "id": "nvzKf9e1vRKq"
      },
      "source": [
        "Всего 2 целевых класса, их доли сильно различаются"
      ],
      "id": "nvzKf9e1vRKq"
    },
    {
      "cell_type": "markdown",
      "metadata": {
        "id": "e3216487"
      },
      "source": [
        "Все объясняющие переменные набора данных непрерывные, кроме SEX, EDUCATION и MARRIAGE. Рассчитаем для них описательные статистики.  "
      ],
      "id": "e3216487"
    },
    {
      "cell_type": "code",
      "metadata": {
        "colab": {
          "base_uri": "https://localhost:8080/",
          "height": 317
        },
        "id": "goS9o2TTO8d8",
        "outputId": "561853c2-1970-4405-d5ea-97ae4f8cc7fa"
      },
      "source": [
        "DF.drop(['SEX', 'EDUCATION', 'MARRIAGE'], axis=1).describe()"
      ],
      "id": "goS9o2TTO8d8",
      "execution_count": 20,
      "outputs": [
        {
          "output_type": "execute_result",
          "data": {
            "text/html": [
              "<div>\n",
              "<style scoped>\n",
              "    .dataframe tbody tr th:only-of-type {\n",
              "        vertical-align: middle;\n",
              "    }\n",
              "\n",
              "    .dataframe tbody tr th {\n",
              "        vertical-align: top;\n",
              "    }\n",
              "\n",
              "    .dataframe thead th {\n",
              "        text-align: right;\n",
              "    }\n",
              "</style>\n",
              "<table border=\"1\" class=\"dataframe\">\n",
              "  <thead>\n",
              "    <tr style=\"text-align: right;\">\n",
              "      <th></th>\n",
              "      <th>LIMIT_BAL</th>\n",
              "      <th>AGE</th>\n",
              "      <th>PAY_0</th>\n",
              "      <th>PAY_2</th>\n",
              "      <th>BILL_AMT1</th>\n",
              "      <th>BILL_AMT2</th>\n",
              "      <th>PAY_AMT1</th>\n",
              "      <th>PAY_AMT2</th>\n",
              "      <th>PAY_AMT3</th>\n",
              "      <th>PAY_AMT4</th>\n",
              "      <th>PAY_AMT5</th>\n",
              "      <th>PAY_AMT6</th>\n",
              "      <th>Y</th>\n",
              "    </tr>\n",
              "  </thead>\n",
              "  <tbody>\n",
              "    <tr>\n",
              "      <th>count</th>\n",
              "      <td>25500.000000</td>\n",
              "      <td>25500.000000</td>\n",
              "      <td>25500.000000</td>\n",
              "      <td>25500.000000</td>\n",
              "      <td>25500.000000</td>\n",
              "      <td>25500.000000</td>\n",
              "      <td>25500.000000</td>\n",
              "      <td>2.550000e+04</td>\n",
              "      <td>25500.000000</td>\n",
              "      <td>25500.000000</td>\n",
              "      <td>25500.000000</td>\n",
              "      <td>25500.000000</td>\n",
              "      <td>25500.000000</td>\n",
              "    </tr>\n",
              "    <tr>\n",
              "      <th>mean</th>\n",
              "      <td>168077.242353</td>\n",
              "      <td>35.486471</td>\n",
              "      <td>-0.015608</td>\n",
              "      <td>-0.131882</td>\n",
              "      <td>51399.370471</td>\n",
              "      <td>49355.392471</td>\n",
              "      <td>5699.709020</td>\n",
              "      <td>5.963576e+03</td>\n",
              "      <td>5221.213333</td>\n",
              "      <td>4820.416824</td>\n",
              "      <td>4850.173843</td>\n",
              "      <td>5255.832627</td>\n",
              "      <td>0.220588</td>\n",
              "    </tr>\n",
              "    <tr>\n",
              "      <th>std</th>\n",
              "      <td>129837.678356</td>\n",
              "      <td>9.213824</td>\n",
              "      <td>1.126387</td>\n",
              "      <td>1.201093</td>\n",
              "      <td>73891.950872</td>\n",
              "      <td>71405.114321</td>\n",
              "      <td>16687.930104</td>\n",
              "      <td>2.327991e+04</td>\n",
              "      <td>16875.401546</td>\n",
              "      <td>15353.273877</td>\n",
              "      <td>15584.945606</td>\n",
              "      <td>17773.623966</td>\n",
              "      <td>0.414651</td>\n",
              "    </tr>\n",
              "    <tr>\n",
              "      <th>min</th>\n",
              "      <td>10000.000000</td>\n",
              "      <td>21.000000</td>\n",
              "      <td>-2.000000</td>\n",
              "      <td>-2.000000</td>\n",
              "      <td>-165580.000000</td>\n",
              "      <td>-69777.000000</td>\n",
              "      <td>0.000000</td>\n",
              "      <td>0.000000e+00</td>\n",
              "      <td>0.000000</td>\n",
              "      <td>0.000000</td>\n",
              "      <td>0.000000</td>\n",
              "      <td>0.000000</td>\n",
              "      <td>0.000000</td>\n",
              "    </tr>\n",
              "    <tr>\n",
              "      <th>25%</th>\n",
              "      <td>50000.000000</td>\n",
              "      <td>28.000000</td>\n",
              "      <td>-1.000000</td>\n",
              "      <td>-1.000000</td>\n",
              "      <td>3538.500000</td>\n",
              "      <td>2983.000000</td>\n",
              "      <td>1000.000000</td>\n",
              "      <td>8.500000e+02</td>\n",
              "      <td>390.000000</td>\n",
              "      <td>298.000000</td>\n",
              "      <td>265.000000</td>\n",
              "      <td>133.000000</td>\n",
              "      <td>0.000000</td>\n",
              "    </tr>\n",
              "    <tr>\n",
              "      <th>50%</th>\n",
              "      <td>140000.000000</td>\n",
              "      <td>34.000000</td>\n",
              "      <td>0.000000</td>\n",
              "      <td>0.000000</td>\n",
              "      <td>22407.000000</td>\n",
              "      <td>21241.500000</td>\n",
              "      <td>2103.000000</td>\n",
              "      <td>2.010000e+03</td>\n",
              "      <td>1800.000000</td>\n",
              "      <td>1500.000000</td>\n",
              "      <td>1500.000000</td>\n",
              "      <td>1500.000000</td>\n",
              "      <td>0.000000</td>\n",
              "    </tr>\n",
              "    <tr>\n",
              "      <th>75%</th>\n",
              "      <td>240000.000000</td>\n",
              "      <td>41.000000</td>\n",
              "      <td>0.000000</td>\n",
              "      <td>0.000000</td>\n",
              "      <td>67255.750000</td>\n",
              "      <td>64150.000000</td>\n",
              "      <td>5019.000000</td>\n",
              "      <td>5.000000e+03</td>\n",
              "      <td>4523.250000</td>\n",
              "      <td>4030.750000</td>\n",
              "      <td>4078.000000</td>\n",
              "      <td>4045.250000</td>\n",
              "      <td>0.000000</td>\n",
              "    </tr>\n",
              "    <tr>\n",
              "      <th>max</th>\n",
              "      <td>800000.000000</td>\n",
              "      <td>79.000000</td>\n",
              "      <td>8.000000</td>\n",
              "      <td>8.000000</td>\n",
              "      <td>653062.000000</td>\n",
              "      <td>743970.000000</td>\n",
              "      <td>873552.000000</td>\n",
              "      <td>1.684259e+06</td>\n",
              "      <td>889043.000000</td>\n",
              "      <td>621000.000000</td>\n",
              "      <td>426529.000000</td>\n",
              "      <td>528666.000000</td>\n",
              "      <td>1.000000</td>\n",
              "    </tr>\n",
              "  </tbody>\n",
              "</table>\n",
              "</div>"
            ],
            "text/plain": [
              "           LIMIT_BAL           AGE  ...       PAY_AMT6             Y\n",
              "count   25500.000000  25500.000000  ...   25500.000000  25500.000000\n",
              "mean   168077.242353     35.486471  ...    5255.832627      0.220588\n",
              "std    129837.678356      9.213824  ...   17773.623966      0.414651\n",
              "min     10000.000000     21.000000  ...       0.000000      0.000000\n",
              "25%     50000.000000     28.000000  ...     133.000000      0.000000\n",
              "50%    140000.000000     34.000000  ...    1500.000000      0.000000\n",
              "75%    240000.000000     41.000000  ...    4045.250000      0.000000\n",
              "max    800000.000000     79.000000  ...  528666.000000      1.000000\n",
              "\n",
              "[8 rows x 13 columns]"
            ]
          },
          "metadata": {},
          "execution_count": 20
        }
      ]
    },
    {
      "cell_type": "markdown",
      "metadata": {
        "id": "AE18oK9XCErc"
      },
      "source": [
        "Выводы по описательным статистикам: есть отрицательные значения объясняющих переменных, масштабы измерения отличаются. Для работы с методами снижения размерности и регуляризации понадобится стандартизация значений. "
      ],
      "id": "AE18oK9XCErc"
    },
    {
      "cell_type": "markdown",
      "metadata": {
        "id": "v-30P0nEBxNd"
      },
      "source": [
        "Для категориальных переменных SEX, EDUCATION и MARRIAGE подсчитаем частоты значений\n"
      ],
      "id": "v-30P0nEBxNd"
    },
    {
      "cell_type": "code",
      "metadata": {
        "colab": {
          "base_uri": "https://localhost:8080/",
          "height": 111
        },
        "id": "BJB8mjkkBYZc",
        "outputId": "d6bc9a75-45e9-40ac-fcf9-f6dfd083fcbe"
      },
      "source": [
        "count_sex = DF['SEX'].value_counts()\n",
        "pd.DataFrame(count_sex)"
      ],
      "id": "BJB8mjkkBYZc",
      "execution_count": 23,
      "outputs": [
        {
          "output_type": "execute_result",
          "data": {
            "text/html": [
              "<div>\n",
              "<style scoped>\n",
              "    .dataframe tbody tr th:only-of-type {\n",
              "        vertical-align: middle;\n",
              "    }\n",
              "\n",
              "    .dataframe tbody tr th {\n",
              "        vertical-align: top;\n",
              "    }\n",
              "\n",
              "    .dataframe thead th {\n",
              "        text-align: right;\n",
              "    }\n",
              "</style>\n",
              "<table border=\"1\" class=\"dataframe\">\n",
              "  <thead>\n",
              "    <tr style=\"text-align: right;\">\n",
              "      <th></th>\n",
              "      <th>SEX</th>\n",
              "    </tr>\n",
              "  </thead>\n",
              "  <tbody>\n",
              "    <tr>\n",
              "      <th>2</th>\n",
              "      <td>15408</td>\n",
              "    </tr>\n",
              "    <tr>\n",
              "      <th>1</th>\n",
              "      <td>10092</td>\n",
              "    </tr>\n",
              "  </tbody>\n",
              "</table>\n",
              "</div>"
            ],
            "text/plain": [
              "     SEX\n",
              "2  15408\n",
              "1  10092"
            ]
          },
          "metadata": {},
          "execution_count": 23
        }
      ]
    },
    {
      "cell_type": "code",
      "metadata": {
        "colab": {
          "base_uri": "https://localhost:8080/",
          "height": 266
        },
        "id": "_tWKKPW9Bi5H",
        "outputId": "8864412f-67bf-414d-adbb-6c714f1d9b2d"
      },
      "source": [
        "count_edu = DF['EDUCATION'].value_counts()\n",
        "pd.DataFrame(count_edu)"
      ],
      "id": "_tWKKPW9Bi5H",
      "execution_count": 24,
      "outputs": [
        {
          "output_type": "execute_result",
          "data": {
            "text/html": [
              "<div>\n",
              "<style scoped>\n",
              "    .dataframe tbody tr th:only-of-type {\n",
              "        vertical-align: middle;\n",
              "    }\n",
              "\n",
              "    .dataframe tbody tr th {\n",
              "        vertical-align: top;\n",
              "    }\n",
              "\n",
              "    .dataframe thead th {\n",
              "        text-align: right;\n",
              "    }\n",
              "</style>\n",
              "<table border=\"1\" class=\"dataframe\">\n",
              "  <thead>\n",
              "    <tr style=\"text-align: right;\">\n",
              "      <th></th>\n",
              "      <th>EDUCATION</th>\n",
              "    </tr>\n",
              "  </thead>\n",
              "  <tbody>\n",
              "    <tr>\n",
              "      <th>2</th>\n",
              "      <td>11894</td>\n",
              "    </tr>\n",
              "    <tr>\n",
              "      <th>1</th>\n",
              "      <td>9055</td>\n",
              "    </tr>\n",
              "    <tr>\n",
              "      <th>3</th>\n",
              "      <td>4141</td>\n",
              "    </tr>\n",
              "    <tr>\n",
              "      <th>5</th>\n",
              "      <td>253</td>\n",
              "    </tr>\n",
              "    <tr>\n",
              "      <th>4</th>\n",
              "      <td>100</td>\n",
              "    </tr>\n",
              "    <tr>\n",
              "      <th>6</th>\n",
              "      <td>46</td>\n",
              "    </tr>\n",
              "    <tr>\n",
              "      <th>0</th>\n",
              "      <td>11</td>\n",
              "    </tr>\n",
              "  </tbody>\n",
              "</table>\n",
              "</div>"
            ],
            "text/plain": [
              "   EDUCATION\n",
              "2      11894\n",
              "1       9055\n",
              "3       4141\n",
              "5        253\n",
              "4        100\n",
              "6         46\n",
              "0         11"
            ]
          },
          "metadata": {},
          "execution_count": 24
        }
      ]
    },
    {
      "cell_type": "code",
      "metadata": {
        "colab": {
          "base_uri": "https://localhost:8080/",
          "height": 173
        },
        "id": "5L-I-8YcBnDx",
        "outputId": "17d2b54d-8e2d-41a4-b327-f7bfb3cd7332"
      },
      "source": [
        "count_mar = DF['MARRIAGE'].value_counts()\n",
        "pd.DataFrame(count_mar)"
      ],
      "id": "5L-I-8YcBnDx",
      "execution_count": 25,
      "outputs": [
        {
          "output_type": "execute_result",
          "data": {
            "text/html": [
              "<div>\n",
              "<style scoped>\n",
              "    .dataframe tbody tr th:only-of-type {\n",
              "        vertical-align: middle;\n",
              "    }\n",
              "\n",
              "    .dataframe tbody tr th {\n",
              "        vertical-align: top;\n",
              "    }\n",
              "\n",
              "    .dataframe thead th {\n",
              "        text-align: right;\n",
              "    }\n",
              "</style>\n",
              "<table border=\"1\" class=\"dataframe\">\n",
              "  <thead>\n",
              "    <tr style=\"text-align: right;\">\n",
              "      <th></th>\n",
              "      <th>MARRIAGE</th>\n",
              "    </tr>\n",
              "  </thead>\n",
              "  <tbody>\n",
              "    <tr>\n",
              "      <th>2</th>\n",
              "      <td>13585</td>\n",
              "    </tr>\n",
              "    <tr>\n",
              "      <th>1</th>\n",
              "      <td>11605</td>\n",
              "    </tr>\n",
              "    <tr>\n",
              "      <th>3</th>\n",
              "      <td>261</td>\n",
              "    </tr>\n",
              "    <tr>\n",
              "      <th>0</th>\n",
              "      <td>49</td>\n",
              "    </tr>\n",
              "  </tbody>\n",
              "</table>\n",
              "</div>"
            ],
            "text/plain": [
              "   MARRIAGE\n",
              "2     13585\n",
              "1     11605\n",
              "3       261\n",
              "0        49"
            ]
          },
          "metadata": {},
          "execution_count": 25
        }
      ]
    },
    {
      "cell_type": "markdown",
      "metadata": {
        "id": "8fe7bbef"
      },
      "source": [
        "  \n",
        "\n",
        "## Визуализация разброса переменных внутри классов  \n",
        "\n",
        "Поскольку в наборе данных 15 объясняющих переменных, и все они непрерывные, анализ матричного графика разброса будет затруднительным. Построим коробчатые диаграммы для объясняющих переменных, чтобы сравнить средние уровни и разброс по классам.  "
      ],
      "id": "8fe7bbef"
    },
    {
      "cell_type": "code",
      "metadata": {
        "colab": {
          "base_uri": "https://localhost:8080/",
          "height": 369
        },
        "id": "d4ee5069",
        "outputId": "e93a03ad-ddab-477e-e421-826e63510268"
      },
      "source": [
        "# создаём полотно и делим его на четыре части\n",
        "fig = plt.figure(figsize=(12, 5))\n",
        "gs = mpl.gridspec.GridSpec(1, 1)\n",
        "ax1 = plt.subplot(gs[0, 0])\n",
        "\n",
        "\n",
        "axs = [ax1]\n",
        "\n",
        "cols_loop = list(DF.columns[:1].values)\n",
        "for col_name in cols_loop :\n",
        "    i = cols_loop.index(col_name)\n",
        "    sns.boxplot(x='Y', y=col_name, data=DF, ax=axs[i])\n",
        "    axs[i].set_ylabel(col_name)\n",
        "    axs[i].set_title(col_name)\n",
        "\n",
        "# корректируем расположение графиков на полотне\n",
        "gs.tight_layout(plt.gcf())\n",
        "plt.show()"
      ],
      "id": "d4ee5069",
      "execution_count": 34,
      "outputs": [
        {
          "output_type": "display_data",
          "data": {
            "image/png": "[encoded data removed]",
            "text/plain": [
              "<Figure size 864x360 with 1 Axes>"
            ]
          },
          "metadata": {}
        }
      ]
    },
    {
      "cell_type": "code",
      "metadata": {
        "colab": {
          "base_uri": "https://localhost:8080/",
          "height": 369
        },
        "id": "D3ar6qq9DZ32",
        "outputId": "957f5f18-60ad-4a1d-e94f-b10ac906386d"
      },
      "source": [
        "fig = plt.figure(figsize=(12, 5))\n",
        "gs = mpl.gridspec.GridSpec(1, 2)\n",
        "ax1 = plt.subplot(gs[0, 0])\n",
        "ax2 = plt.subplot(gs[0, 1])\n",
        "\n",
        "\n",
        "\n",
        "axs = [ax1, ax2]\n",
        "\n",
        "cols_loop = list(DF.columns[4:6].values)\n",
        "for col_name in cols_loop :\n",
        "    i = cols_loop.index(col_name)\n",
        "    sns.boxplot(x='Y', y=col_name, data=DF, ax=axs[i])\n",
        "    axs[i].set_ylabel(col_name)\n",
        "    axs[i].set_title(col_name)\n",
        "\n",
        "# корректируем расположение графиков на полотне\n",
        "gs.tight_layout(plt.gcf())\n",
        "plt.show()"
      ],
      "id": "D3ar6qq9DZ32",
      "execution_count": 35,
      "outputs": [
        {
          "output_type": "display_data",
          "data": {
            "image/png": "[encoded data removed]",
            "text/plain": [
              "<Figure size 864x360 with 2 Axes>"
            ]
          },
          "metadata": {}
        }
      ]
    },
    {
      "cell_type": "code",
      "metadata": {
        "colab": {
          "base_uri": "https://localhost:8080/",
          "height": 369
        },
        "id": "af48928a",
        "outputId": "407c8a4d-9db3-4c43-abdd-a2775e6b5684"
      },
      "source": [
        "# создаём полотно и делим его на четыре части\n",
        "fig = plt.figure(figsize=(15, 5))\n",
        "gs = mpl.gridspec.GridSpec(1, 5)\n",
        "ax1 = plt.subplot(gs[0, 0])\n",
        "ax2 = plt.subplot(gs[0, 1])\n",
        "ax3 = plt.subplot(gs[0, 2])\n",
        "ax4 = plt.subplot(gs[0, 3])\n",
        "ax5 = plt.subplot(gs[0, 4])\n",
        "\n",
        "axs = [ax1, ax2, ax3, ax4, ax5]\n",
        "\n",
        "cols_loop = list(DF.columns[5:10].values)\n",
        "for col_name in cols_loop :\n",
        "    i = cols_loop.index(col_name)\n",
        "    sns.boxplot(x='Y', y=col_name, data=DF, ax=axs[i])\n",
        "    axs[i].set_ylabel(col_name)\n",
        "    axs[i].set_title(col_name)\n",
        "\n",
        "plt.ylim(0, 20000)\n",
        "# корректируем расположение графиков на полотне\n",
        "gs.tight_layout(plt.gcf())\n",
        "plt.show()"
      ],
      "id": "af48928a",
      "execution_count": null,
      "outputs": [
        {
          "output_type": "display_data",
          "data": {
            "image/png": "[encoded data removed]",
            "text/plain": [
              "<Figure size 1080x360 with 5 Axes>"
            ]
          },
          "metadata": {}
        }
      ]
    },
    {
      "cell_type": "code",
      "metadata": {
        "colab": {
          "base_uri": "https://localhost:8080/",
          "height": 369
        },
        "id": "742bbdd3",
        "outputId": "72d91e82-6701-42dd-81be-97c3104357fe"
      },
      "source": [
        "# создаём полотно и делим его на четыре части\n",
        "fig = plt.figure(figsize=(12, 5))\n",
        "gs = mpl.gridspec.GridSpec(1, 5)\n",
        "ax1 = plt.subplot(gs[0, 0])\n",
        "ax2 = plt.subplot(gs[0, 1])\n",
        "ax3 = plt.subplot(gs[0, 2])\n",
        "ax4 = plt.subplot(gs[0, 3])\n",
        "ax5 = plt.subplot(gs[0, 4])\n",
        "axs = [ax1, ax2, ax3, ax4, ax5]\n",
        "\n",
        "cols_loop = list(DF.columns[10:15].values)\n",
        "for col_name in cols_loop :\n",
        "    i = cols_loop.index(col_name)\n",
        "    sns.boxplot(x='Y', y=col_name, data=DF, ax=axs[i])\n",
        "    axs[i].set_ylabel(col_name)\n",
        "    axs[i].set_title(col_name)\n",
        "    axs[i].set_ylim(0, 10000)\n",
        "\n",
        "# корректируем расположение графиков на полотне\n",
        "gs.tight_layout(plt.gcf())\n",
        "plt.show()"
      ],
      "id": "742bbdd3",
      "execution_count": null,
      "outputs": [
        {
          "output_type": "display_data",
          "data": {
            "image/png": "[encoded data removed]",
            "text/plain": [
              "<Figure size 864x360 with 5 Axes>"
            ]
          },
          "metadata": {}
        }
      ]
    },
    {
      "cell_type": "markdown",
      "metadata": {
        "id": "c4e9584f"
      },
      "source": [
        "Меньше всего различаются коробчатые диаграммы по переменным `AGE`. Но классы по зависимой переменной `Y` неплохо разделяются по всем остальным объясняющим переменным.  "
      ],
      "id": "c4e9584f"
    },
    {
      "cell_type": "code",
      "metadata": {
        "colab": {
          "base_uri": "https://localhost:8080/",
          "height": 494
        },
        "id": "Rtx7r8vYSS3j",
        "outputId": "47f3b3e6-bea7-433c-cbc4-bd9a14886ffe"
      },
      "source": [
        "plt.figure(figsize=(10,8))\n",
        "plt.bar(count_sex.index, count_sex);\n",
        "plt.title(\"Частоты признака SEX\")\n",
        "plt.xticks([1,2]);"
      ],
      "id": "Rtx7r8vYSS3j",
      "execution_count": 36,
      "outputs": [
        {
          "output_type": "display_data",
          "data": {
            "image/png": "[encoded data removed]",
            "text/plain": [
              "<Figure size 720x576 with 1 Axes>"
            ]
          },
          "metadata": {}
        }
      ]
    },
    {
      "cell_type": "code",
      "metadata": {
        "colab": {
          "base_uri": "https://localhost:8080/",
          "height": 494
        },
        "id": "66cxZRucRTIV",
        "outputId": "dfff2fbf-959d-416e-c8db-173f8d51eec5"
      },
      "source": [
        "plt.figure(figsize=(10,8))\n",
        "plt.bar(count_edu.index, count_edu)\n",
        "plt.title(\"Частоты признака EDUCATION\");"
      ],
      "id": "66cxZRucRTIV",
      "execution_count": 38,
      "outputs": [
        {
          "output_type": "display_data",
          "data": {
            "image/png": "[encoded data removed]",
            "text/plain": [
              "<Figure size 720x576 with 1 Axes>"
            ]
          },
          "metadata": {}
        }
      ]
    },
    {
      "cell_type": "code",
      "metadata": {
        "colab": {
          "base_uri": "https://localhost:8080/",
          "height": 494
        },
        "id": "cW37yTouSs3U",
        "outputId": "8a1c952d-1481-45d9-8ccb-b4abbea0ba75"
      },
      "source": [
        "plt.figure(figsize=(10,8))\n",
        "plt.bar(count_mar.index, count_mar)\n",
        "plt.title(\"Частоты признака MARRIAGE\")\n",
        "plt.xticks([0,1,2,3]);"
      ],
      "id": "cW37yTouSs3U",
      "execution_count": 40,
      "outputs": [
        {
          "output_type": "display_data",
          "data": {
            "image/png": "[encoded data removed]",
            "text/plain": [
              "<Figure size 720x576 with 1 Axes>"
            ]
          },
          "metadata": {}
        }
      ]
    },
    {
      "cell_type": "markdown",
      "metadata": {
        "id": "I7wnPQoeW_nJ"
      },
      "source": [
        "Теперь перекодируем категориальные переменные SEX, EDUCATION и MARRIAGE с помощью OneHotEncoder"
      ],
      "id": "I7wnPQoeW_nJ"
    },
    {
      "cell_type": "code",
      "metadata": {
        "colab": {
          "base_uri": "https://localhost:8080/",
          "height": 222
        },
        "id": "URuQGBw_TrAI",
        "outputId": "300274b7-5df5-47e5-82be-7a6852c7abfc"
      },
      "source": [
        "from sklearn.preprocessing import OneHotEncoder\n",
        "\n",
        "nom_col_names=['SEX', 'EDUCATION', 'MARRIAGE']\n",
        "\n",
        "one_hot=OneHotEncoder()\n",
        "\n",
        "recoded=one_hot.fit_transform(DF[nom_col_names]).toarray()\n",
        "clmns=one_hot.get_feature_names(nom_col_names)\n",
        "df_dummy_nom=pd.DataFrame(recoded, columns=clmns)\n",
        "\n",
        "print(df_dummy_nom.shape)\n",
        "df_dummy_nom.head()"
      ],
      "id": "URuQGBw_TrAI",
      "execution_count": 59,
      "outputs": [
        {
          "output_type": "stream",
          "name": "stdout",
          "text": [
            "(25500, 13)\n"
          ]
        },
        {
          "output_type": "execute_result",
          "data": {
            "text/html": [
              "<div>\n",
              "<style scoped>\n",
              "    .dataframe tbody tr th:only-of-type {\n",
              "        vertical-align: middle;\n",
              "    }\n",
              "\n",
              "    .dataframe tbody tr th {\n",
              "        vertical-align: top;\n",
              "    }\n",
              "\n",
              "    .dataframe thead th {\n",
              "        text-align: right;\n",
              "    }\n",
              "</style>\n",
              "<table border=\"1\" class=\"dataframe\">\n",
              "  <thead>\n",
              "    <tr style=\"text-align: right;\">\n",
              "      <th></th>\n",
              "      <th>SEX_1</th>\n",
              "      <th>SEX_2</th>\n",
              "      <th>EDUCATION_0</th>\n",
              "      <th>EDUCATION_1</th>\n",
              "      <th>EDUCATION_2</th>\n",
              "      <th>EDUCATION_3</th>\n",
              "      <th>EDUCATION_4</th>\n",
              "      <th>EDUCATION_5</th>\n",
              "      <th>EDUCATION_6</th>\n",
              "      <th>MARRIAGE_0</th>\n",
              "      <th>MARRIAGE_1</th>\n",
              "      <th>MARRIAGE_2</th>\n",
              "      <th>MARRIAGE_3</th>\n",
              "    </tr>\n",
              "  </thead>\n",
              "  <tbody>\n",
              "    <tr>\n",
              "      <th>0</th>\n",
              "      <td>0.0</td>\n",
              "      <td>1.0</td>\n",
              "      <td>0.0</td>\n",
              "      <td>1.0</td>\n",
              "      <td>0.0</td>\n",
              "      <td>0.0</td>\n",
              "      <td>0.0</td>\n",
              "      <td>0.0</td>\n",
              "      <td>0.0</td>\n",
              "      <td>0.0</td>\n",
              "      <td>0.0</td>\n",
              "      <td>1.0</td>\n",
              "      <td>0.0</td>\n",
              "    </tr>\n",
              "    <tr>\n",
              "      <th>1</th>\n",
              "      <td>0.0</td>\n",
              "      <td>1.0</td>\n",
              "      <td>0.0</td>\n",
              "      <td>0.0</td>\n",
              "      <td>1.0</td>\n",
              "      <td>0.0</td>\n",
              "      <td>0.0</td>\n",
              "      <td>0.0</td>\n",
              "      <td>0.0</td>\n",
              "      <td>0.0</td>\n",
              "      <td>0.0</td>\n",
              "      <td>1.0</td>\n",
              "      <td>0.0</td>\n",
              "    </tr>\n",
              "    <tr>\n",
              "      <th>2</th>\n",
              "      <td>1.0</td>\n",
              "      <td>0.0</td>\n",
              "      <td>0.0</td>\n",
              "      <td>1.0</td>\n",
              "      <td>0.0</td>\n",
              "      <td>0.0</td>\n",
              "      <td>0.0</td>\n",
              "      <td>0.0</td>\n",
              "      <td>0.0</td>\n",
              "      <td>0.0</td>\n",
              "      <td>0.0</td>\n",
              "      <td>1.0</td>\n",
              "      <td>0.0</td>\n",
              "    </tr>\n",
              "    <tr>\n",
              "      <th>3</th>\n",
              "      <td>1.0</td>\n",
              "      <td>0.0</td>\n",
              "      <td>0.0</td>\n",
              "      <td>0.0</td>\n",
              "      <td>0.0</td>\n",
              "      <td>1.0</td>\n",
              "      <td>0.0</td>\n",
              "      <td>0.0</td>\n",
              "      <td>0.0</td>\n",
              "      <td>0.0</td>\n",
              "      <td>1.0</td>\n",
              "      <td>0.0</td>\n",
              "      <td>0.0</td>\n",
              "    </tr>\n",
              "    <tr>\n",
              "      <th>4</th>\n",
              "      <td>0.0</td>\n",
              "      <td>1.0</td>\n",
              "      <td>0.0</td>\n",
              "      <td>0.0</td>\n",
              "      <td>1.0</td>\n",
              "      <td>0.0</td>\n",
              "      <td>0.0</td>\n",
              "      <td>0.0</td>\n",
              "      <td>0.0</td>\n",
              "      <td>0.0</td>\n",
              "      <td>0.0</td>\n",
              "      <td>1.0</td>\n",
              "      <td>0.0</td>\n",
              "    </tr>\n",
              "  </tbody>\n",
              "</table>\n",
              "</div>"
            ],
            "text/plain": [
              "   SEX_1  SEX_2  EDUCATION_0  ...  MARRIAGE_1  MARRIAGE_2  MARRIAGE_3\n",
              "0    0.0    1.0          0.0  ...         0.0         1.0         0.0\n",
              "1    0.0    1.0          0.0  ...         0.0         1.0         0.0\n",
              "2    1.0    0.0          0.0  ...         0.0         1.0         0.0\n",
              "3    1.0    0.0          0.0  ...         1.0         0.0         0.0\n",
              "4    0.0    1.0          0.0  ...         0.0         1.0         0.0\n",
              "\n",
              "[5 rows x 13 columns]"
            ]
          },
          "metadata": {},
          "execution_count": 59
        }
      ]
    },
    {
      "cell_type": "markdown",
      "metadata": {
        "id": "zFDaJhLWXP-2"
      },
      "source": [
        "Сконкатенируем наши датафреймы и удалим ненужные столбцы"
      ],
      "id": "zFDaJhLWXP-2"
    },
    {
      "cell_type": "code",
      "metadata": {
        "colab": {
          "base_uri": "https://localhost:8080/",
          "height": 260
        },
        "id": "cC6_EOPlVJz2",
        "outputId": "a2d0609b-3fa1-4259-c8aa-a260210ca445"
      },
      "source": [
        "DF_num = pd.concat([DF.loc[:,DF.dtypes=='int64'].reset_index(),df_dummy_nom], axis=1)\n",
        "DF_num = DF_num.drop(['SEX', 'EDUCATION', 'MARRIAGE', 'index'], axis=1)\n",
        "print('Размерность обучающего фрейма после перекодировки:', DF_num.shape)\n",
        "\n",
        "print()\n",
        "DF_num.head()"
      ],
      "id": "cC6_EOPlVJz2",
      "execution_count": 63,
      "outputs": [
        {
          "output_type": "stream",
          "name": "stdout",
          "text": [
            "Размерность обучающего фрейма после перекодировки: (25500, 26)\n",
            "\n"
          ]
        },
        {
          "output_type": "execute_result",
          "data": {
            "text/html": [
              "<div>\n",
              "<style scoped>\n",
              "    .dataframe tbody tr th:only-of-type {\n",
              "        vertical-align: middle;\n",
              "    }\n",
              "\n",
              "    .dataframe tbody tr th {\n",
              "        vertical-align: top;\n",
              "    }\n",
              "\n",
              "    .dataframe thead th {\n",
              "        text-align: right;\n",
              "    }\n",
              "</style>\n",
              "<table border=\"1\" class=\"dataframe\">\n",
              "  <thead>\n",
              "    <tr style=\"text-align: right;\">\n",
              "      <th></th>\n",
              "      <th>LIMIT_BAL</th>\n",
              "      <th>AGE</th>\n",
              "      <th>PAY_0</th>\n",
              "      <th>PAY_2</th>\n",
              "      <th>BILL_AMT1</th>\n",
              "      <th>BILL_AMT2</th>\n",
              "      <th>PAY_AMT1</th>\n",
              "      <th>PAY_AMT2</th>\n",
              "      <th>PAY_AMT3</th>\n",
              "      <th>PAY_AMT4</th>\n",
              "      <th>PAY_AMT5</th>\n",
              "      <th>PAY_AMT6</th>\n",
              "      <th>Y</th>\n",
              "      <th>SEX_1</th>\n",
              "      <th>SEX_2</th>\n",
              "      <th>EDUCATION_0</th>\n",
              "      <th>EDUCATION_1</th>\n",
              "      <th>EDUCATION_2</th>\n",
              "      <th>EDUCATION_3</th>\n",
              "      <th>EDUCATION_4</th>\n",
              "      <th>EDUCATION_5</th>\n",
              "      <th>EDUCATION_6</th>\n",
              "      <th>MARRIAGE_0</th>\n",
              "      <th>MARRIAGE_1</th>\n",
              "      <th>MARRIAGE_2</th>\n",
              "      <th>MARRIAGE_3</th>\n",
              "    </tr>\n",
              "  </thead>\n",
              "  <tbody>\n",
              "    <tr>\n",
              "      <th>0</th>\n",
              "      <td>60000</td>\n",
              "      <td>28</td>\n",
              "      <td>1</td>\n",
              "      <td>2</td>\n",
              "      <td>47262</td>\n",
              "      <td>46226</td>\n",
              "      <td>0</td>\n",
              "      <td>2100</td>\n",
              "      <td>2000</td>\n",
              "      <td>2000</td>\n",
              "      <td>2000</td>\n",
              "      <td>3000</td>\n",
              "      <td>0</td>\n",
              "      <td>0.0</td>\n",
              "      <td>1.0</td>\n",
              "      <td>0.0</td>\n",
              "      <td>1.0</td>\n",
              "      <td>0.0</td>\n",
              "      <td>0.0</td>\n",
              "      <td>0.0</td>\n",
              "      <td>0.0</td>\n",
              "      <td>0.0</td>\n",
              "      <td>0.0</td>\n",
              "      <td>0.0</td>\n",
              "      <td>1.0</td>\n",
              "      <td>0.0</td>\n",
              "    </tr>\n",
              "    <tr>\n",
              "      <th>1</th>\n",
              "      <td>30000</td>\n",
              "      <td>34</td>\n",
              "      <td>2</td>\n",
              "      <td>-1</td>\n",
              "      <td>99568</td>\n",
              "      <td>32326</td>\n",
              "      <td>33000</td>\n",
              "      <td>33000</td>\n",
              "      <td>5810</td>\n",
              "      <td>1325</td>\n",
              "      <td>0</td>\n",
              "      <td>3095</td>\n",
              "      <td>0</td>\n",
              "      <td>0.0</td>\n",
              "      <td>1.0</td>\n",
              "      <td>0.0</td>\n",
              "      <td>0.0</td>\n",
              "      <td>1.0</td>\n",
              "      <td>0.0</td>\n",
              "      <td>0.0</td>\n",
              "      <td>0.0</td>\n",
              "      <td>0.0</td>\n",
              "      <td>0.0</td>\n",
              "      <td>0.0</td>\n",
              "      <td>1.0</td>\n",
              "      <td>0.0</td>\n",
              "    </tr>\n",
              "    <tr>\n",
              "      <th>2</th>\n",
              "      <td>50000</td>\n",
              "      <td>30</td>\n",
              "      <td>0</td>\n",
              "      <td>0</td>\n",
              "      <td>45948</td>\n",
              "      <td>50813</td>\n",
              "      <td>6012</td>\n",
              "      <td>10</td>\n",
              "      <td>8212</td>\n",
              "      <td>1200</td>\n",
              "      <td>4008</td>\n",
              "      <td>4407</td>\n",
              "      <td>0</td>\n",
              "      <td>1.0</td>\n",
              "      <td>0.0</td>\n",
              "      <td>0.0</td>\n",
              "      <td>1.0</td>\n",
              "      <td>0.0</td>\n",
              "      <td>0.0</td>\n",
              "      <td>0.0</td>\n",
              "      <td>0.0</td>\n",
              "      <td>0.0</td>\n",
              "      <td>0.0</td>\n",
              "      <td>0.0</td>\n",
              "      <td>1.0</td>\n",
              "      <td>0.0</td>\n",
              "    </tr>\n",
              "    <tr>\n",
              "      <th>3</th>\n",
              "      <td>240000</td>\n",
              "      <td>42</td>\n",
              "      <td>2</td>\n",
              "      <td>2</td>\n",
              "      <td>259511</td>\n",
              "      <td>258208</td>\n",
              "      <td>11000</td>\n",
              "      <td>0</td>\n",
              "      <td>12300</td>\n",
              "      <td>14288</td>\n",
              "      <td>0</td>\n",
              "      <td>6887</td>\n",
              "      <td>0</td>\n",
              "      <td>1.0</td>\n",
              "      <td>0.0</td>\n",
              "      <td>0.0</td>\n",
              "      <td>0.0</td>\n",
              "      <td>0.0</td>\n",
              "      <td>1.0</td>\n",
              "      <td>0.0</td>\n",
              "      <td>0.0</td>\n",
              "      <td>0.0</td>\n",
              "      <td>0.0</td>\n",
              "      <td>1.0</td>\n",
              "      <td>0.0</td>\n",
              "      <td>0.0</td>\n",
              "    </tr>\n",
              "    <tr>\n",
              "      <th>4</th>\n",
              "      <td>300000</td>\n",
              "      <td>28</td>\n",
              "      <td>0</td>\n",
              "      <td>0</td>\n",
              "      <td>275855</td>\n",
              "      <td>286812</td>\n",
              "      <td>15000</td>\n",
              "      <td>7000</td>\n",
              "      <td>50000</td>\n",
              "      <td>12000</td>\n",
              "      <td>0</td>\n",
              "      <td>13000</td>\n",
              "      <td>1</td>\n",
              "      <td>0.0</td>\n",
              "      <td>1.0</td>\n",
              "      <td>0.0</td>\n",
              "      <td>0.0</td>\n",
              "      <td>1.0</td>\n",
              "      <td>0.0</td>\n",
              "      <td>0.0</td>\n",
              "      <td>0.0</td>\n",
              "      <td>0.0</td>\n",
              "      <td>0.0</td>\n",
              "      <td>0.0</td>\n",
              "      <td>1.0</td>\n",
              "      <td>0.0</td>\n",
              "    </tr>\n",
              "  </tbody>\n",
              "</table>\n",
              "</div>"
            ],
            "text/plain": [
              "   LIMIT_BAL  AGE  PAY_0  PAY_2  ...  MARRIAGE_0  MARRIAGE_1  MARRIAGE_2  MARRIAGE_3\n",
              "0      60000   28      1      2  ...         0.0         0.0         1.0         0.0\n",
              "1      30000   34      2     -1  ...         0.0         0.0         1.0         0.0\n",
              "2      50000   30      0      0  ...         0.0         0.0         1.0         0.0\n",
              "3     240000   42      2      2  ...         0.0         1.0         0.0         0.0\n",
              "4     300000   28      0      0  ...         0.0         0.0         1.0         0.0\n",
              "\n",
              "[5 rows x 26 columns]"
            ]
          },
          "metadata": {},
          "execution_count": 63
        }
      ]
    },
    {
      "cell_type": "markdown",
      "metadata": {
        "id": "qoSwTGt8Xqo1"
      },
      "source": [
        "Теперь сделаем то же самое на отложенных данных DF_predict"
      ],
      "id": "qoSwTGt8Xqo1"
    },
    {
      "cell_type": "code",
      "metadata": {
        "colab": {
          "base_uri": "https://localhost:8080/",
          "height": 222
        },
        "id": "75KxqrfpXwcc",
        "outputId": "707b72d8-4d22-46f0-a37b-3a03fb526cba"
      },
      "source": [
        "nom_col_names=['SEX', 'EDUCATION', 'MARRIAGE']\n",
        "\n",
        "recoded = one_hot.fit_transform(DF_predict[nom_col_names]).toarray()\n",
        "clmns = one_hot.get_feature_names(nom_col_names)\n",
        "df_dummy_nom = pd.DataFrame(recoded, columns=clmns)\n",
        "\n",
        "print(df_dummy_nom.shape)\n",
        "df_dummy_nom.head()"
      ],
      "id": "75KxqrfpXwcc",
      "execution_count": 64,
      "outputs": [
        {
          "output_type": "stream",
          "name": "stdout",
          "text": [
            "(4500, 13)\n"
          ]
        },
        {
          "output_type": "execute_result",
          "data": {
            "text/html": [
              "<div>\n",
              "<style scoped>\n",
              "    .dataframe tbody tr th:only-of-type {\n",
              "        vertical-align: middle;\n",
              "    }\n",
              "\n",
              "    .dataframe tbody tr th {\n",
              "        vertical-align: top;\n",
              "    }\n",
              "\n",
              "    .dataframe thead th {\n",
              "        text-align: right;\n",
              "    }\n",
              "</style>\n",
              "<table border=\"1\" class=\"dataframe\">\n",
              "  <thead>\n",
              "    <tr style=\"text-align: right;\">\n",
              "      <th></th>\n",
              "      <th>SEX_1</th>\n",
              "      <th>SEX_2</th>\n",
              "      <th>EDUCATION_0</th>\n",
              "      <th>EDUCATION_1</th>\n",
              "      <th>EDUCATION_2</th>\n",
              "      <th>EDUCATION_3</th>\n",
              "      <th>EDUCATION_4</th>\n",
              "      <th>EDUCATION_5</th>\n",
              "      <th>EDUCATION_6</th>\n",
              "      <th>MARRIAGE_0</th>\n",
              "      <th>MARRIAGE_1</th>\n",
              "      <th>MARRIAGE_2</th>\n",
              "      <th>MARRIAGE_3</th>\n",
              "    </tr>\n",
              "  </thead>\n",
              "  <tbody>\n",
              "    <tr>\n",
              "      <th>0</th>\n",
              "      <td>0.0</td>\n",
              "      <td>1.0</td>\n",
              "      <td>0.0</td>\n",
              "      <td>0.0</td>\n",
              "      <td>1.0</td>\n",
              "      <td>0.0</td>\n",
              "      <td>0.0</td>\n",
              "      <td>0.0</td>\n",
              "      <td>0.0</td>\n",
              "      <td>0.0</td>\n",
              "      <td>0.0</td>\n",
              "      <td>1.0</td>\n",
              "      <td>0.0</td>\n",
              "    </tr>\n",
              "    <tr>\n",
              "      <th>1</th>\n",
              "      <td>1.0</td>\n",
              "      <td>0.0</td>\n",
              "      <td>0.0</td>\n",
              "      <td>0.0</td>\n",
              "      <td>1.0</td>\n",
              "      <td>0.0</td>\n",
              "      <td>0.0</td>\n",
              "      <td>0.0</td>\n",
              "      <td>0.0</td>\n",
              "      <td>0.0</td>\n",
              "      <td>1.0</td>\n",
              "      <td>0.0</td>\n",
              "      <td>0.0</td>\n",
              "    </tr>\n",
              "    <tr>\n",
              "      <th>2</th>\n",
              "      <td>0.0</td>\n",
              "      <td>1.0</td>\n",
              "      <td>0.0</td>\n",
              "      <td>0.0</td>\n",
              "      <td>0.0</td>\n",
              "      <td>1.0</td>\n",
              "      <td>0.0</td>\n",
              "      <td>0.0</td>\n",
              "      <td>0.0</td>\n",
              "      <td>0.0</td>\n",
              "      <td>1.0</td>\n",
              "      <td>0.0</td>\n",
              "      <td>0.0</td>\n",
              "    </tr>\n",
              "    <tr>\n",
              "      <th>3</th>\n",
              "      <td>0.0</td>\n",
              "      <td>1.0</td>\n",
              "      <td>0.0</td>\n",
              "      <td>0.0</td>\n",
              "      <td>0.0</td>\n",
              "      <td>1.0</td>\n",
              "      <td>0.0</td>\n",
              "      <td>0.0</td>\n",
              "      <td>0.0</td>\n",
              "      <td>0.0</td>\n",
              "      <td>0.0</td>\n",
              "      <td>0.0</td>\n",
              "      <td>1.0</td>\n",
              "    </tr>\n",
              "    <tr>\n",
              "      <th>4</th>\n",
              "      <td>1.0</td>\n",
              "      <td>0.0</td>\n",
              "      <td>0.0</td>\n",
              "      <td>1.0</td>\n",
              "      <td>0.0</td>\n",
              "      <td>0.0</td>\n",
              "      <td>0.0</td>\n",
              "      <td>0.0</td>\n",
              "      <td>0.0</td>\n",
              "      <td>0.0</td>\n",
              "      <td>1.0</td>\n",
              "      <td>0.0</td>\n",
              "      <td>0.0</td>\n",
              "    </tr>\n",
              "  </tbody>\n",
              "</table>\n",
              "</div>"
            ],
            "text/plain": [
              "   SEX_1  SEX_2  EDUCATION_0  ...  MARRIAGE_1  MARRIAGE_2  MARRIAGE_3\n",
              "0    0.0    1.0          0.0  ...         0.0         1.0         0.0\n",
              "1    1.0    0.0          0.0  ...         1.0         0.0         0.0\n",
              "2    0.0    1.0          0.0  ...         1.0         0.0         0.0\n",
              "3    0.0    1.0          0.0  ...         0.0         0.0         1.0\n",
              "4    1.0    0.0          0.0  ...         1.0         0.0         0.0\n",
              "\n",
              "[5 rows x 13 columns]"
            ]
          },
          "metadata": {},
          "execution_count": 64
        }
      ]
    },
    {
      "cell_type": "markdown",
      "metadata": {
        "id": "E8tAErKuYoIc"
      },
      "source": [
        "Соединим и удалим ненужное"
      ],
      "id": "E8tAErKuYoIc"
    },
    {
      "cell_type": "code",
      "metadata": {
        "colab": {
          "base_uri": "https://localhost:8080/",
          "height": 260
        },
        "id": "C-4mP6WyYnSs",
        "outputId": "96a33512-6672-4839-92a1-a3e8d5d1169e"
      },
      "source": [
        "DF_predict = pd.concat([DF_predict.loc[:, DF_predict.dtypes=='int64'].reset_index(), df_dummy_nom], axis=1)\n",
        "DF_predict = DF_predict.drop(['SEX', 'EDUCATION', 'MARRIAGE', 'index'], axis=1)\n",
        "print('Размерность тестового фрейма после перекодировки:', DF_predict.shape)\n",
        "\n",
        "print()\n",
        "DF_predict.head()"
      ],
      "id": "C-4mP6WyYnSs",
      "execution_count": 65,
      "outputs": [
        {
          "output_type": "stream",
          "name": "stdout",
          "text": [
            "Размерность тестового фрейма после перекодировки: (4500, 26)\n",
            "\n"
          ]
        },
        {
          "output_type": "execute_result",
          "data": {
            "text/html": [
              "<div>\n",
              "<style scoped>\n",
              "    .dataframe tbody tr th:only-of-type {\n",
              "        vertical-align: middle;\n",
              "    }\n",
              "\n",
              "    .dataframe tbody tr th {\n",
              "        vertical-align: top;\n",
              "    }\n",
              "\n",
              "    .dataframe thead th {\n",
              "        text-align: right;\n",
              "    }\n",
              "</style>\n",
              "<table border=\"1\" class=\"dataframe\">\n",
              "  <thead>\n",
              "    <tr style=\"text-align: right;\">\n",
              "      <th></th>\n",
              "      <th>LIMIT_BAL</th>\n",
              "      <th>AGE</th>\n",
              "      <th>PAY_0</th>\n",
              "      <th>PAY_2</th>\n",
              "      <th>BILL_AMT1</th>\n",
              "      <th>BILL_AMT2</th>\n",
              "      <th>PAY_AMT1</th>\n",
              "      <th>PAY_AMT2</th>\n",
              "      <th>PAY_AMT3</th>\n",
              "      <th>PAY_AMT4</th>\n",
              "      <th>PAY_AMT5</th>\n",
              "      <th>PAY_AMT6</th>\n",
              "      <th>Y</th>\n",
              "      <th>SEX_1</th>\n",
              "      <th>SEX_2</th>\n",
              "      <th>EDUCATION_0</th>\n",
              "      <th>EDUCATION_1</th>\n",
              "      <th>EDUCATION_2</th>\n",
              "      <th>EDUCATION_3</th>\n",
              "      <th>EDUCATION_4</th>\n",
              "      <th>EDUCATION_5</th>\n",
              "      <th>EDUCATION_6</th>\n",
              "      <th>MARRIAGE_0</th>\n",
              "      <th>MARRIAGE_1</th>\n",
              "      <th>MARRIAGE_2</th>\n",
              "      <th>MARRIAGE_3</th>\n",
              "    </tr>\n",
              "  </thead>\n",
              "  <tbody>\n",
              "    <tr>\n",
              "      <th>0</th>\n",
              "      <td>90000</td>\n",
              "      <td>34</td>\n",
              "      <td>0</td>\n",
              "      <td>0</td>\n",
              "      <td>29239</td>\n",
              "      <td>14027</td>\n",
              "      <td>1518</td>\n",
              "      <td>1500</td>\n",
              "      <td>1000</td>\n",
              "      <td>1000</td>\n",
              "      <td>1000</td>\n",
              "      <td>5000</td>\n",
              "      <td>0</td>\n",
              "      <td>0.0</td>\n",
              "      <td>1.0</td>\n",
              "      <td>0.0</td>\n",
              "      <td>0.0</td>\n",
              "      <td>1.0</td>\n",
              "      <td>0.0</td>\n",
              "      <td>0.0</td>\n",
              "      <td>0.0</td>\n",
              "      <td>0.0</td>\n",
              "      <td>0.0</td>\n",
              "      <td>0.0</td>\n",
              "      <td>1.0</td>\n",
              "      <td>0.0</td>\n",
              "    </tr>\n",
              "    <tr>\n",
              "      <th>1</th>\n",
              "      <td>50000</td>\n",
              "      <td>57</td>\n",
              "      <td>-1</td>\n",
              "      <td>0</td>\n",
              "      <td>8617</td>\n",
              "      <td>5670</td>\n",
              "      <td>2000</td>\n",
              "      <td>36681</td>\n",
              "      <td>10000</td>\n",
              "      <td>9000</td>\n",
              "      <td>689</td>\n",
              "      <td>679</td>\n",
              "      <td>0</td>\n",
              "      <td>1.0</td>\n",
              "      <td>0.0</td>\n",
              "      <td>0.0</td>\n",
              "      <td>0.0</td>\n",
              "      <td>1.0</td>\n",
              "      <td>0.0</td>\n",
              "      <td>0.0</td>\n",
              "      <td>0.0</td>\n",
              "      <td>0.0</td>\n",
              "      <td>0.0</td>\n",
              "      <td>1.0</td>\n",
              "      <td>0.0</td>\n",
              "      <td>0.0</td>\n",
              "    </tr>\n",
              "    <tr>\n",
              "      <th>2</th>\n",
              "      <td>140000</td>\n",
              "      <td>28</td>\n",
              "      <td>0</td>\n",
              "      <td>0</td>\n",
              "      <td>11285</td>\n",
              "      <td>14096</td>\n",
              "      <td>3329</td>\n",
              "      <td>0</td>\n",
              "      <td>432</td>\n",
              "      <td>1000</td>\n",
              "      <td>1000</td>\n",
              "      <td>1000</td>\n",
              "      <td>0</td>\n",
              "      <td>0.0</td>\n",
              "      <td>1.0</td>\n",
              "      <td>0.0</td>\n",
              "      <td>0.0</td>\n",
              "      <td>0.0</td>\n",
              "      <td>1.0</td>\n",
              "      <td>0.0</td>\n",
              "      <td>0.0</td>\n",
              "      <td>0.0</td>\n",
              "      <td>0.0</td>\n",
              "      <td>1.0</td>\n",
              "      <td>0.0</td>\n",
              "      <td>0.0</td>\n",
              "    </tr>\n",
              "    <tr>\n",
              "      <th>3</th>\n",
              "      <td>50000</td>\n",
              "      <td>23</td>\n",
              "      <td>1</td>\n",
              "      <td>2</td>\n",
              "      <td>50614</td>\n",
              "      <td>29173</td>\n",
              "      <td>0</td>\n",
              "      <td>1500</td>\n",
              "      <td>1100</td>\n",
              "      <td>1200</td>\n",
              "      <td>1300</td>\n",
              "      <td>1100</td>\n",
              "      <td>0</td>\n",
              "      <td>0.0</td>\n",
              "      <td>1.0</td>\n",
              "      <td>0.0</td>\n",
              "      <td>0.0</td>\n",
              "      <td>0.0</td>\n",
              "      <td>1.0</td>\n",
              "      <td>0.0</td>\n",
              "      <td>0.0</td>\n",
              "      <td>0.0</td>\n",
              "      <td>0.0</td>\n",
              "      <td>0.0</td>\n",
              "      <td>0.0</td>\n",
              "      <td>1.0</td>\n",
              "    </tr>\n",
              "    <tr>\n",
              "      <th>4</th>\n",
              "      <td>320000</td>\n",
              "      <td>49</td>\n",
              "      <td>0</td>\n",
              "      <td>0</td>\n",
              "      <td>253286</td>\n",
              "      <td>246536</td>\n",
              "      <td>10358</td>\n",
              "      <td>10000</td>\n",
              "      <td>75940</td>\n",
              "      <td>20000</td>\n",
              "      <td>195599</td>\n",
              "      <td>50000</td>\n",
              "      <td>0</td>\n",
              "      <td>1.0</td>\n",
              "      <td>0.0</td>\n",
              "      <td>0.0</td>\n",
              "      <td>1.0</td>\n",
              "      <td>0.0</td>\n",
              "      <td>0.0</td>\n",
              "      <td>0.0</td>\n",
              "      <td>0.0</td>\n",
              "      <td>0.0</td>\n",
              "      <td>0.0</td>\n",
              "      <td>1.0</td>\n",
              "      <td>0.0</td>\n",
              "      <td>0.0</td>\n",
              "    </tr>\n",
              "  </tbody>\n",
              "</table>\n",
              "</div>"
            ],
            "text/plain": [
              "   LIMIT_BAL  AGE  PAY_0  PAY_2  ...  MARRIAGE_0  MARRIAGE_1  MARRIAGE_2  MARRIAGE_3\n",
              "0      90000   34      0      0  ...         0.0         0.0         1.0         0.0\n",
              "1      50000   57     -1      0  ...         0.0         1.0         0.0         0.0\n",
              "2     140000   28      0      0  ...         0.0         1.0         0.0         0.0\n",
              "3      50000   23      1      2  ...         0.0         0.0         0.0         1.0\n",
              "4     320000   49      0      0  ...         0.0         1.0         0.0         0.0\n",
              "\n",
              "[5 rows x 26 columns]"
            ]
          },
          "metadata": {},
          "execution_count": 65
        }
      ]
    },
    {
      "cell_type": "markdown",
      "metadata": {
        "id": "bac7542b"
      },
      "source": [
        "## Корреляционный анализ   \n",
        "\n",
        "Теперь посмотрим на взаимодействие объясняющих переменных.  "
      ],
      "id": "bac7542b"
    },
    {
      "cell_type": "code",
      "metadata": {
        "colab": {
          "base_uri": "https://localhost:8080/",
          "height": 586
        },
        "id": "11a7b0c4",
        "outputId": "d36e757f-f0e8-4a32-a706-fc91e55111bf"
      },
      "source": [
        "# рассчитываем корреляционную матрицу\n",
        "corr_mat = DF_num.drop('Y', axis=1).corr()\n",
        "col_names = DF_num.drop('Y', axis=1).columns\n",
        "\n",
        "# переключаем стиль оформления, чтобы убрать сетку с тепловой карты\n",
        "mpl.style.use('seaborn-white')\n",
        "\n",
        "# рисуем корреляционную матрицу\n",
        "f = plt.figure(figsize=(10, 8))\n",
        "plt.matshow(corr_mat, fignum=f.number, cmap='PiYG')\n",
        "# координаты для названий строк и столбцов\n",
        "tics_coords = np.arange(0, len(col_names))\n",
        "# рисуем подписи\n",
        "plt.xticks(tics_coords, col_names, fontsize=14, rotation=90)\n",
        "plt.yticks(tics_coords, col_names, fontsize=14)\n",
        "# настраиваем легенду справа от тепловой карты\n",
        "cb = plt.colorbar()\n",
        "cb.ax.tick_params(labelsize=14)\n",
        "cb.ax.tick_params(labelsize=14)\n",
        "plt.show()"
      ],
      "id": "11a7b0c4",
      "execution_count": 66,
      "outputs": [
        {
          "output_type": "display_data",
          "data": {
            "image/png": "[encoded data removed]",
            "text/plain": [
              "<Figure size 720x576 with 2 Axes>"
            ]
          },
          "metadata": {}
        }
      ]
    },
    {
      "cell_type": "markdown",
      "metadata": {
        "id": "b47250c6"
      },
      "source": [
        "Между объясняющими переменными обнаруживаются как прямые, так и обратные линейные взаимосвязи. Выведем все значимые коэффициенты в одной таблице и определим минимальный / максимальный из них.     "
      ],
      "id": "b47250c6"
    },
    {
      "cell_type": "code",
      "metadata": {
        "colab": {
          "base_uri": "https://localhost:8080/",
          "height": 419
        },
        "id": "bf56e251",
        "outputId": "a707c08a-fb4f-46b9-a836-956b8ecebad2"
      },
      "source": [
        "# делаем фрейм из корреляционной матрицы и стираем диагональные значения\n",
        "#  и нижний треугольник матрицы\n",
        "df = corr_mat\n",
        "df = df.where(np.triu(np.ones(df.shape), k=1).astype(bool))\n",
        "# меняем размерность с матрицы на таблицу: показатель 1, показатель 2,\n",
        "#  корреляция\n",
        "df = df.stack().reset_index()\n",
        "df.columns = ['Показатель_1', 'Показатель_2', 'Корреляция']\n",
        "# считаем двусторонние p-значения для проверки значимости\n",
        "t_stat = np.sqrt((len(DF.index) - 2) / (1 - df.Корреляция ** 2))\n",
        "df['P_значение'] = 2 * (1 - t.cdf(abs(t_stat), len(DF.index) - 2))\n",
        "# получили все корреляционные коэффициенты без 1 и без повторов\n",
        "#  выводим все значимые с сортировкой\n",
        "df.loc[df['P_значение'] < 0.05].sort_values('Корреляция')"
      ],
      "id": "bf56e251",
      "execution_count": 67,
      "outputs": [
        {
          "output_type": "execute_result",
          "data": {
            "text/html": [
              "<div>\n",
              "<style scoped>\n",
              "    .dataframe tbody tr th:only-of-type {\n",
              "        vertical-align: middle;\n",
              "    }\n",
              "\n",
              "    .dataframe tbody tr th {\n",
              "        vertical-align: top;\n",
              "    }\n",
              "\n",
              "    .dataframe thead th {\n",
              "        text-align: right;\n",
              "    }\n",
              "</style>\n",
              "<table border=\"1\" class=\"dataframe\">\n",
              "  <thead>\n",
              "    <tr style=\"text-align: right;\">\n",
              "      <th></th>\n",
              "      <th>Показатель_1</th>\n",
              "      <th>Показатель_2</th>\n",
              "      <th>Корреляция</th>\n",
              "      <th>P_значение</th>\n",
              "    </tr>\n",
              "  </thead>\n",
              "  <tbody>\n",
              "    <tr>\n",
              "      <th>222</th>\n",
              "      <td>SEX_1</td>\n",
              "      <td>SEX_2</td>\n",
              "      <td>-1.000000</td>\n",
              "      <td>0.0</td>\n",
              "    </tr>\n",
              "    <tr>\n",
              "      <th>297</th>\n",
              "      <td>MARRIAGE_1</td>\n",
              "      <td>MARRIAGE_2</td>\n",
              "      <td>-0.975834</td>\n",
              "      <td>0.0</td>\n",
              "    </tr>\n",
              "    <tr>\n",
              "      <th>255</th>\n",
              "      <td>EDUCATION_1</td>\n",
              "      <td>EDUCATION_2</td>\n",
              "      <td>-0.693787</td>\n",
              "      <td>0.0</td>\n",
              "    </tr>\n",
              "    <tr>\n",
              "      <th>45</th>\n",
              "      <td>AGE</td>\n",
              "      <td>MARRIAGE_2</td>\n",
              "      <td>-0.467650</td>\n",
              "      <td>0.0</td>\n",
              "    </tr>\n",
              "    <tr>\n",
              "      <th>264</th>\n",
              "      <td>EDUCATION_2</td>\n",
              "      <td>EDUCATION_3</td>\n",
              "      <td>-0.411681</td>\n",
              "      <td>0.0</td>\n",
              "    </tr>\n",
              "    <tr>\n",
              "      <th>...</th>\n",
              "      <td>...</td>\n",
              "      <td>...</td>\n",
              "      <td>...</td>\n",
              "      <td>...</td>\n",
              "    </tr>\n",
              "    <tr>\n",
              "      <th>130</th>\n",
              "      <td>PAY_AMT1</td>\n",
              "      <td>PAY_AMT3</td>\n",
              "      <td>0.281398</td>\n",
              "      <td>0.0</td>\n",
              "    </tr>\n",
              "    <tr>\n",
              "      <th>129</th>\n",
              "      <td>PAY_AMT1</td>\n",
              "      <td>PAY_AMT2</td>\n",
              "      <td>0.305704</td>\n",
              "      <td>0.0</td>\n",
              "    </tr>\n",
              "    <tr>\n",
              "      <th>44</th>\n",
              "      <td>AGE</td>\n",
              "      <td>MARRIAGE_1</td>\n",
              "      <td>0.451400</td>\n",
              "      <td>0.0</td>\n",
              "    </tr>\n",
              "    <tr>\n",
              "      <th>47</th>\n",
              "      <td>PAY_0</td>\n",
              "      <td>PAY_2</td>\n",
              "      <td>0.673600</td>\n",
              "      <td>0.0</td>\n",
              "    </tr>\n",
              "    <tr>\n",
              "      <th>90</th>\n",
              "      <td>BILL_AMT1</td>\n",
              "      <td>BILL_AMT2</td>\n",
              "      <td>0.951969</td>\n",
              "      <td>0.0</td>\n",
              "    </tr>\n",
              "  </tbody>\n",
              "</table>\n",
              "<p>300 rows × 4 columns</p>\n",
              "</div>"
            ],
            "text/plain": [
              "    Показатель_1 Показатель_2  Корреляция  P_значение\n",
              "222        SEX_1        SEX_2   -1.000000         0.0\n",
              "297   MARRIAGE_1   MARRIAGE_2   -0.975834         0.0\n",
              "255  EDUCATION_1  EDUCATION_2   -0.693787         0.0\n",
              "45           AGE   MARRIAGE_2   -0.467650         0.0\n",
              "264  EDUCATION_2  EDUCATION_3   -0.411681         0.0\n",
              "..           ...          ...         ...         ...\n",
              "130     PAY_AMT1     PAY_AMT3    0.281398         0.0\n",
              "129     PAY_AMT1     PAY_AMT2    0.305704         0.0\n",
              "44           AGE   MARRIAGE_1    0.451400         0.0\n",
              "47         PAY_0        PAY_2    0.673600         0.0\n",
              "90     BILL_AMT1    BILL_AMT2    0.951969         0.0\n",
              "\n",
              "[300 rows x 4 columns]"
            ]
          },
          "metadata": {},
          "execution_count": 67
        }
      ]
    },
    {
      "cell_type": "markdown",
      "metadata": {
        "id": "d3a48810"
      },
      "source": [
        "# Методы снижения размерности  \n",
        "\n",
        "Посмотрим, как работают методы снижения размерности:  \n",
        "\n",
        "* регрессия на главные компоненты (PCR)   \n",
        "* частный метод наименьших квадратов (PLS)  \n",
        "\n",
        "Оба метода требуют предварительной стандартизации переменных.  "
      ],
      "id": "d3a48810"
    },
    {
      "cell_type": "code",
      "metadata": {
        "colab": {
          "base_uri": "https://localhost:8080/"
        },
        "id": "688312d9",
        "outputId": "5613378d-4cbe-4bf4-8060-d74cbee9a0be"
      },
      "source": [
        "# стандартизация\n",
        "sc = StandardScaler()\n",
        "X_train_std = sc.fit_transform(DF_num.drop('Y', axis=1).values)\n",
        "\n",
        "# проверяем средние и стандартные отклонения после стандартизации\n",
        "for i_col in range(X_train_std.shape[1]) :\n",
        "    print('Столбец ', i_col, ': среднее = ',\n",
        "          np.round(np.mean(X_train_std[:, i_col]), 2),\n",
        "         '   Станд. отклонение = ', \n",
        "          np.round(np.std(X_train_std[:, i_col]), 2), sep='')"
      ],
      "id": "688312d9",
      "execution_count": 68,
      "outputs": [
        {
          "output_type": "stream",
          "name": "stdout",
          "text": [
            "Столбец 0: среднее = -0.0   Станд. отклонение = 1.0\n",
            "Столбец 1: среднее = 0.0   Станд. отклонение = 1.0\n",
            "Столбец 2: среднее = -0.0   Станд. отклонение = 1.0\n",
            "Столбец 3: среднее = 0.0   Станд. отклонение = 1.0\n",
            "Столбец 4: среднее = 0.0   Станд. отклонение = 1.0\n",
            "Столбец 5: среднее = -0.0   Станд. отклонение = 1.0\n",
            "Столбец 6: среднее = -0.0   Станд. отклонение = 1.0\n",
            "Столбец 7: среднее = -0.0   Станд. отклонение = 1.0\n",
            "Столбец 8: среднее = 0.0   Станд. отклонение = 1.0\n",
            "Столбец 9: среднее = -0.0   Станд. отклонение = 1.0\n",
            "Столбец 10: среднее = -0.0   Станд. отклонение = 1.0\n",
            "Столбец 11: среднее = 0.0   Станд. отклонение = 1.0\n",
            "Столбец 12: среднее = -0.0   Станд. отклонение = 1.0\n",
            "Столбец 13: среднее = -0.0   Станд. отклонение = 1.0\n",
            "Столбец 14: среднее = -0.0   Станд. отклонение = 1.0\n",
            "Столбец 15: среднее = -0.0   Станд. отклонение = 1.0\n",
            "Столбец 16: среднее = -0.0   Станд. отклонение = 1.0\n",
            "Столбец 17: среднее = 0.0   Станд. отклонение = 1.0\n",
            "Столбец 18: среднее = -0.0   Станд. отклонение = 1.0\n",
            "Столбец 19: среднее = -0.0   Станд. отклонение = 1.0\n",
            "Столбец 20: среднее = 0.0   Станд. отклонение = 1.0\n",
            "Столбец 21: среднее = 0.0   Станд. отклонение = 1.0\n",
            "Столбец 22: среднее = 0.0   Станд. отклонение = 1.0\n",
            "Столбец 23: среднее = -0.0   Станд. отклонение = 1.0\n",
            "Столбец 24: среднее = 0.0   Станд. отклонение = 1.0\n"
          ]
        }
      ]
    },
    {
      "cell_type": "markdown",
      "metadata": {
        "id": "8c555295"
      },
      "source": [
        "## Метод частных наименьших квадратов  \n",
        "\n",
        "Сначала посмотрим, как работает метод на всех наблюдениях обучающего набора.  "
      ],
      "id": "8c555295"
    },
    {
      "cell_type": "code",
      "metadata": {
        "colab": {
          "base_uri": "https://localhost:8080/"
        },
        "id": "0f3b638f",
        "outputId": "9ab26598-bcfd-423e-abb4-c797f9ae889b"
      },
      "source": [
        "# функция для оценки модели, берём все компоненты, по числу столбцов X\n",
        "pls = PLSRegression(n_components=25)\n",
        "# значения зависимой переменной превращаем в фиктивные по классам\n",
        "Y_train = pd.get_dummies(DF_num.Y.astype(str))\n",
        "# оцениваем\n",
        "pls.fit(X_train_std, Y_train)\n",
        "\n",
        "# считаем долю объяснённой дисперсии\n",
        "frac_var_expl = np.var(pls.x_scores_, axis=0) / np.sum(np.var(X_train_std, axis=0))\n",
        "print('Доли объяснённой дисперсии по компонентам в PLS:\\n',\n",
        "     np.around(frac_var_expl, 3),\n",
        "     '\\nОбщая сумма долей:', np.around(sum(frac_var_expl), 3))"
      ],
      "id": "0f3b638f",
      "execution_count": 81,
      "outputs": [
        {
          "output_type": "stream",
          "name": "stdout",
          "text": [
            "Доли объяснённой дисперсии по компонентам в PLS:\n",
            " [0.087 0.052 0.066 0.032 0.045 0.042 0.031 0.009 0.016 0.04  0.039 0.032\n",
            " 0.036 0.032 0.035 0.034 0.002 0.001 0.    0.    0.    0.    0.    0.\n",
            " 0.   ] \n",
            "Общая сумма долей: 0.63\n"
          ]
        },
        {
          "output_type": "stream",
          "name": "stderr",
          "text": [
            "/usr/local/lib/python3.7/dist-packages/sklearn/cross_decomposition/_pls.py:351: UserWarning: X scores are null at iteration 22\n",
            "  warnings.warn('X scores are null at iteration %s' % k)\n"
          ]
        }
      ]
    },
    {
      "cell_type": "markdown",
      "metadata": {
        "id": "d5753d89"
      },
      "source": [
        "Из-за того, что при вычислении компонент метдом PLS мы учитываем корреляцию с $Y$, компоненты, во-первых, не ортогональны, а во-вторых сумма объяснённых долей дисперсии уже не равняется 1.  "
      ],
      "id": "d5753d89"
    },
    {
      "cell_type": "code",
      "metadata": {
        "colab": {
          "base_uri": "https://localhost:8080/",
          "height": 419
        },
        "id": "f4e6c748",
        "outputId": "1bef8ebb-ff96-4260-fc5b-c41a64cb884f"
      },
      "source": [
        "# сокращаем пространство компонент до 2\n",
        "pls = PLSRegression(n_components=3)\n",
        "# перестраиваем модель\n",
        "pls.fit(X_train_std, Y_train)\n",
        "# пересчитываем X\n",
        "X_train_pls = pls.transform(X_train_std)\n",
        "# предсказываем принадлежности классов для обучающего набора\n",
        "Y_train_pred = pls.predict(X_train_std)\n",
        "pd.DataFrame(Y_train_pred)"
      ],
      "id": "f4e6c748",
      "execution_count": 111,
      "outputs": [
        {
          "output_type": "execute_result",
          "data": {
            "text/html": [
              "<div>\n",
              "<style scoped>\n",
              "    .dataframe tbody tr th:only-of-type {\n",
              "        vertical-align: middle;\n",
              "    }\n",
              "\n",
              "    .dataframe tbody tr th {\n",
              "        vertical-align: top;\n",
              "    }\n",
              "\n",
              "    .dataframe thead th {\n",
              "        text-align: right;\n",
              "    }\n",
              "</style>\n",
              "<table border=\"1\" class=\"dataframe\">\n",
              "  <thead>\n",
              "    <tr style=\"text-align: right;\">\n",
              "      <th></th>\n",
              "      <th>0</th>\n",
              "      <th>1</th>\n",
              "    </tr>\n",
              "  </thead>\n",
              "  <tbody>\n",
              "    <tr>\n",
              "      <th>0</th>\n",
              "      <td>0.585719</td>\n",
              "      <td>0.414281</td>\n",
              "    </tr>\n",
              "    <tr>\n",
              "      <th>1</th>\n",
              "      <td>0.679065</td>\n",
              "      <td>0.320935</td>\n",
              "    </tr>\n",
              "    <tr>\n",
              "      <th>2</th>\n",
              "      <td>0.748330</td>\n",
              "      <td>0.251670</td>\n",
              "    </tr>\n",
              "    <tr>\n",
              "      <th>3</th>\n",
              "      <td>0.593634</td>\n",
              "      <td>0.406366</td>\n",
              "    </tr>\n",
              "    <tr>\n",
              "      <th>4</th>\n",
              "      <td>0.939527</td>\n",
              "      <td>0.060473</td>\n",
              "    </tr>\n",
              "    <tr>\n",
              "      <th>...</th>\n",
              "      <td>...</td>\n",
              "      <td>...</td>\n",
              "    </tr>\n",
              "    <tr>\n",
              "      <th>25495</th>\n",
              "      <td>0.558593</td>\n",
              "      <td>0.441407</td>\n",
              "    </tr>\n",
              "    <tr>\n",
              "      <th>25496</th>\n",
              "      <td>0.780802</td>\n",
              "      <td>0.219198</td>\n",
              "    </tr>\n",
              "    <tr>\n",
              "      <th>25497</th>\n",
              "      <td>1.032512</td>\n",
              "      <td>-0.032512</td>\n",
              "    </tr>\n",
              "    <tr>\n",
              "      <th>25498</th>\n",
              "      <td>0.783539</td>\n",
              "      <td>0.216461</td>\n",
              "    </tr>\n",
              "    <tr>\n",
              "      <th>25499</th>\n",
              "      <td>0.759159</td>\n",
              "      <td>0.240841</td>\n",
              "    </tr>\n",
              "  </tbody>\n",
              "</table>\n",
              "<p>25500 rows × 2 columns</p>\n",
              "</div>"
            ],
            "text/plain": [
              "              0         1\n",
              "0      0.585719  0.414281\n",
              "1      0.679065  0.320935\n",
              "2      0.748330  0.251670\n",
              "3      0.593634  0.406366\n",
              "4      0.939527  0.060473\n",
              "...         ...       ...\n",
              "25495  0.558593  0.441407\n",
              "25496  0.780802  0.219198\n",
              "25497  1.032512 -0.032512\n",
              "25498  0.783539  0.216461\n",
              "25499  0.759159  0.240841\n",
              "\n",
              "[25500 rows x 2 columns]"
            ]
          },
          "metadata": {},
          "execution_count": 111
        }
      ]
    },
    {
      "cell_type": "code",
      "metadata": {
        "colab": {
          "base_uri": "https://localhost:8080/"
        },
        "id": "2ee36387",
        "outputId": "70564786-6974-446d-96fe-3bf60addf455"
      },
      "source": [
        "# вычисляем классы\n",
        "Y_train_hat = list()\n",
        "for y_i in Y_train_pred : \n",
        "    Y_train_hat.append([i for i in range(len(y_i)) if y_i[i] == max(y_i)][0])\n",
        "# Y_train_hat\n",
        "# сколько наблюдений попали в каждый класс по модели\n",
        "Counter(Y_train_hat).items()"
      ],
      "id": "2ee36387",
      "execution_count": 112,
      "outputs": [
        {
          "output_type": "execute_result",
          "data": {
            "text/plain": [
              "dict_items([(0, 24299), (1, 1201)])"
            ]
          },
          "metadata": {},
          "execution_count": 112
        }
      ]
    },
    {
      "cell_type": "markdown",
      "metadata": {
        "id": "3cd7c05e"
      },
      "source": [
        "Рисуем классы на графике в координатах 2 главных компонент по PLS.  "
      ],
      "id": "3cd7c05e"
    },
    {
      "cell_type": "code",
      "metadata": {
        "colab": {
          "base_uri": "https://localhost:8080/",
          "height": 493
        },
        "id": "cf167983",
        "outputId": "2250fa5b-a924-489c-87de-eb9eb6bb0e31"
      },
      "source": [
        "# график классов в пространстве ГК\n",
        "plt.figure(figsize = (13,8))\n",
        "plt.scatter(X_train_pls[DF_num['Y'] == 0][:, 0],\n",
        "            X_train_pls[DF_num['Y'] == 0][:, 2], label='Y: 0')\n",
        "plt.scatter(X_train_pls[DF_num['Y'] == 1][:, 0], \n",
        "            X_train_pls[DF_num['Y'] == 1][:, 2], label='Y: 1')\n",
        "\n",
        "plt.xlabel('ГК 1 по PLS')\n",
        "plt.ylabel('ГК 2 по PLS')\n",
        "plt.legend()\n",
        "plt.show()"
      ],
      "id": "cf167983",
      "execution_count": 118,
      "outputs": [
        {
          "output_type": "display_data",
          "data": {
            "image/png": "[encoded data removed]",
            "text/plain": [
              "<Figure size 936x576 with 1 Axes>"
            ]
          },
          "metadata": {}
        }
      ]
    },
    {
      "cell_type": "markdown",
      "metadata": {
        "id": "1360f1b8"
      },
      "source": [
        "Я провел много экспериментов с разным количеством главных компонент и попробовал построить срезы, чтобы найти когда классы можно будет визуально разделить. И наилучшие визуально результаты удалось добиться с количеством компонент 3 в двумерном пространстве 2 главных компонент первой и третьей."
      ],
      "id": "1360f1b8"
    },
    {
      "cell_type": "code",
      "metadata": {
        "id": "2a7f9f6f",
        "colab": {
          "base_uri": "https://localhost:8080/"
        },
        "outputId": "da749791-6a5e-40f4-e7e0-63f35fccf973"
      },
      "source": [
        "# функция разбиения на блоки для перекрёстной проверки\n",
        "#  для чистоты эксперимента возьмём другое ядро генератора случайных чисел\n",
        "kf_10 = KFold(n_splits=10, random_state=my_seed+1, shuffle=True)\n",
        "# считаем точность модели (Acc) с перекрёстной проверкой по блокам\n",
        "#  функция cross_val_score не сработает, т.к. у нас мультиклассовая\n",
        "#  классификация, поэтому делаем вручную\n",
        "# значения Y как метки классов\n",
        "Y_train = DF_num.Y.values\n",
        "# значения Y как фиктивные переменные\n",
        "Y_train_dummy = pd.get_dummies(Y_train.astype(str))\n",
        "# модель внутри блока\n",
        "pls_cv = PLSRegression(n_components=3)\n",
        "# для записи Acc по блокам\n",
        "acc_blocks = list()\n",
        "# цикл по блокам\n",
        "for train_index, test_index in kf_10.split(X_train_std, DF_num.Y.values) : \n",
        "    # данные для модели внутри блока\n",
        "    X_i_train = X_train_std[train_index]\n",
        "    Y_i_train = Y_train_dummy.iloc[train_index, :]\n",
        "\n",
        "    # данные для прогноза вне блока\n",
        "    X_i_test = X_train_std[test_index]\n",
        "    Y_i_test = Y_train[test_index]\n",
        "\n",
        "    # оцениваем модель на блоке\n",
        "    pls_cv.fit(X_i_train, Y_i_train)\n",
        "    # делаем прогноз y вне блока\n",
        "    Y_pred = pls.predict(X_i_test)\n",
        "    Y_hat = list()\n",
        "    for y_i in Y_pred : \n",
        "        Y_hat.append([i for i in range(len(y_i)) if y_i[i] == max(y_i)][0])\n",
        "    # считаем точность\n",
        "    acc = accuracy_score(Y_i_test, Y_hat)\n",
        "    acc_blocks.append(acc)\n",
        "score=list()\n",
        "score.append(np.around(np.mean(acc_blocks), 3))\n",
        "score_models=list()\n",
        "score_models.append('logit_PLS')\n",
        "print('Модель ', score_models[0], ', перекрёстная проверка по 10 блокам',\n",
        "      '\\nAcc = ', np.around(score[0], 2), sep='')"
      ],
      "id": "2a7f9f6f",
      "execution_count": 119,
      "outputs": [
        {
          "output_type": "stream",
          "name": "stdout",
          "text": [
            "Модель logit_PLS, перекрёстная проверка по 10 блокам\n",
            "Acc = 0.8\n"
          ]
        }
      ]
    },
    {
      "cell_type": "markdown",
      "metadata": {
        "id": "09a02626"
      },
      "source": [
        "## Лассо-регрессия\n",
        "\n",
        "Технически реализация лассо-регрессии отличается от ридж единственным аргументом `penalty='l1'` в функции `LogisticRegression`.    "
      ],
      "id": "09a02626"
    },
    {
      "cell_type": "code",
      "metadata": {
        "id": "bf20f8ec",
        "colab": {
          "base_uri": "https://localhost:8080/"
        },
        "outputId": "dd7069ed-1170-4c37-c782-34158f020600"
      },
      "source": [
        "# функция для построения модели\n",
        "logit_lasso = LogisticRegression(penalty='l1', solver='liblinear', multi_class='ovr')\n",
        "# оцениваем параметры\n",
        "logit_lasso.fit(X_train_std, Y_train)\n",
        "# выводим параметры\n",
        "print('Константы моделей для классов:\\n', np.around(logit_lasso.intercept_, 3),\n",
        "     '\\nКоэффициенты моделей для классов:\\n', np.around(logit_lasso.coef_, 3))"
      ],
      "id": "bf20f8ec",
      "execution_count": 120,
      "outputs": [
        {
          "output_type": "stream",
          "name": "stdout",
          "text": [
            "Константы моделей для классов:\n",
            " [-1.472] \n",
            "Коэффициенты моделей для классов:\n",
            " [[-0.102  0.047  0.677  0.193 -0.359  0.267 -0.193 -0.156 -0.048 -0.069\n",
            "  -0.041 -0.036  0.062 -0.    -0.091  0.033  0.    -0.005 -0.051 -0.133\n",
            "  -0.013 -0.059  0.08  -0.014  0.004]]\n"
          ]
        }
      ]
    },
    {
      "cell_type": "markdown",
      "metadata": {
        "id": "3bd8cfb4"
      },
      "source": [
        "Метод лассо позволяет обнулять коэффициенты, тем самым отбрасывая слабые объясняющие переменные, и в данном случае мы видим что занулился вес при двух признаках.  "
      ],
      "id": "3bd8cfb4"
    },
    {
      "cell_type": "code",
      "metadata": {
        "id": "92a80a3b",
        "colab": {
          "base_uri": "https://localhost:8080/"
        },
        "outputId": "f7f28e4f-c9f9-4a45-f644-f898b0c6a9f2"
      },
      "source": [
        "# поиск оптимального значения C:\n",
        "#  подбираем C по наибольшей точности с перекрёстной проверкой\n",
        "lasso_cv = LogisticRegressionCV(cv=10, random_state=my_seed+3,\n",
        "                               penalty='l1', solver='liblinear')\n",
        "lasso_cv.fit(X_train_std, Y_train)\n",
        "# значения параметра C (инверсия лямбды), которые дают наилучшую\n",
        "#  точность для каждого класса\n",
        "lasso_cv.C_"
      ],
      "id": "92a80a3b",
      "execution_count": 121,
      "outputs": [
        {
          "output_type": "execute_result",
          "data": {
            "text/plain": [
              "array([0.35938137])"
            ]
          },
          "metadata": {},
          "execution_count": 121
        }
      ]
    },
    {
      "cell_type": "code",
      "metadata": {
        "id": "6ae71683",
        "colab": {
          "base_uri": "https://localhost:8080/"
        },
        "outputId": "11007a11-b7fd-4dec-f805-2674ef3f2668"
      },
      "source": [
        "# сохраняем и выводим Acc для модели\n",
        "score.append(np.around(lasso_cv.score(X_train_std, Y_train), 3))\n",
        "score_models.append('logit_lasso')\n",
        "print('Модель ', score_models[1], ', перекрёстная проверка по 10 блокам',\n",
        "      '\\nAcc = ', score[1], sep='')"
      ],
      "id": "6ae71683",
      "execution_count": 122,
      "outputs": [
        {
          "output_type": "stream",
          "name": "stdout",
          "text": [
            "Модель logit_lasso, перекрёстная проверка по 10 блокам\n",
            "Acc = 0.811\n"
          ]
        }
      ]
    },
    {
      "cell_type": "code",
      "metadata": {
        "id": "c15ed701",
        "colab": {
          "base_uri": "https://localhost:8080/",
          "height": 409
        },
        "outputId": "e39be377-7039-4492-edbc-25fec1e5cd0d"
      },
      "source": [
        "# график динамики коэффициентов в лассо-регрессии    \n",
        "#  модель для класса 0\n",
        "plot_coeffs_traces(X_train_std, Y_train, 0, 'l1', lasso_cv.C_, DF_num.columns)"
      ],
      "id": "c15ed701",
      "execution_count": 123,
      "outputs": [
        {
          "output_type": "display_data",
          "data": {
            "image/png": "[encoded data removed]",
            "text/plain": [
              "<Figure size 432x288 with 1 Axes>"
            ]
          },
          "metadata": {}
        }
      ]
    },
    {
      "cell_type": "markdown",
      "metadata": {
        "id": "041010d5"
      },
      "source": [
        "Итак, судя по графикам, для значения гиперпараметра, дающего самую точную модель, некоторые коэффициенты при объясняющих переменных обнуляются. \n",
        "На этапе предварительного анализа мы заметили что один два признака плохо разделяют наши классы, что мы видим и здесь (коэффициенты при двух признаках близки к нулю). Все остальные объясняющие переменные неплохо разделяют классы.   \n",
        "\n",
        "\n",
        "# Прогноз на отложенные наблюдения по лучшей модели\n",
        "\n",
        "Ещё раз посмотрим на точность построенных моделей.  "
      ],
      "id": "041010d5"
    },
    {
      "cell_type": "code",
      "metadata": {
        "id": "13f506f8",
        "colab": {
          "base_uri": "https://localhost:8080/",
          "height": 111
        },
        "outputId": "25ac9124-19b6-479b-f327-d4b939b81bbe"
      },
      "source": [
        "# сводка по точности моделей\n",
        "pd.DataFrame({'Модель' : score_models, 'Acc' : score})"
      ],
      "id": "13f506f8",
      "execution_count": 124,
      "outputs": [
        {
          "output_type": "execute_result",
          "data": {
            "text/html": [
              "<div>\n",
              "<style scoped>\n",
              "    .dataframe tbody tr th:only-of-type {\n",
              "        vertical-align: middle;\n",
              "    }\n",
              "\n",
              "    .dataframe tbody tr th {\n",
              "        vertical-align: top;\n",
              "    }\n",
              "\n",
              "    .dataframe thead th {\n",
              "        text-align: right;\n",
              "    }\n",
              "</style>\n",
              "<table border=\"1\" class=\"dataframe\">\n",
              "  <thead>\n",
              "    <tr style=\"text-align: right;\">\n",
              "      <th></th>\n",
              "      <th>Модель</th>\n",
              "      <th>Acc</th>\n",
              "    </tr>\n",
              "  </thead>\n",
              "  <tbody>\n",
              "    <tr>\n",
              "      <th>0</th>\n",
              "      <td>logit_PLS</td>\n",
              "      <td>0.800</td>\n",
              "    </tr>\n",
              "    <tr>\n",
              "      <th>1</th>\n",
              "      <td>logit_lasso</td>\n",
              "      <td>0.811</td>\n",
              "    </tr>\n",
              "  </tbody>\n",
              "</table>\n",
              "</div>"
            ],
            "text/plain": [
              "        Модель    Acc\n",
              "0    logit_PLS  0.800\n",
              "1  logit_lasso  0.811"
            ]
          },
          "metadata": {},
          "execution_count": 124
        }
      ]
    },
    {
      "cell_type": "markdown",
      "metadata": {
        "id": "99c7c905"
      },
      "source": [
        "Все модели показывают высокую точность по показателю $Acc$, при этом самой точной оказывается Лассо-регрессия. Сделаем прогноз на отложенные наблюдения.   "
      ],
      "id": "99c7c905"
    },
    {
      "cell_type": "code",
      "metadata": {
        "id": "6f19fd52",
        "colab": {
          "base_uri": "https://localhost:8080/"
        },
        "outputId": "7019cc45-1168-4adb-d764-064fa174ebf6"
      },
      "source": [
        "# формируем объекты с данными отложенной выборки\n",
        "X_pred_std = sc.fit_transform(DF_predict.drop('Y', axis=1).values)\n",
        "Y_pred = DF_predict.Y\n",
        "Y_hat = logit_lasso.predict(X_pred_std)\n",
        "# отчёт по точности на отложенных наблюдениях\n",
        "print(classification_report(Y_pred, Y_hat))"
      ],
      "id": "6f19fd52",
      "execution_count": 125,
      "outputs": [
        {
          "output_type": "stream",
          "name": "stdout",
          "text": [
            "              precision    recall  f1-score   support\n",
            "\n",
            "           0       0.82      0.97      0.89      3489\n",
            "           1       0.72      0.24      0.36      1011\n",
            "\n",
            "    accuracy                           0.81      4500\n",
            "   macro avg       0.77      0.61      0.62      4500\n",
            "weighted avg       0.79      0.81      0.77      4500\n",
            "\n"
          ]
        }
      ]
    },
    {
      "cell_type": "markdown",
      "metadata": {
        "id": "15e4aa0a"
      },
      "source": [
        "Итак, методом логистической регрессии со сжатием коэффициенты с L1\n",
        "-регуляризацией мы получили идеально точную модель классификации ДВУХ КЛАССОВ данных.  "
      ],
      "id": "15e4aa0a"
    },
    {
      "cell_type": "markdown",
      "metadata": {
        "id": "af39298f"
      },
      "source": [
        "# Источники \n",
        "\n",
        "1. *Рашка С.* Python и машинное обучение: крайне необходимое пособие по новейшей предсказательной аналитике, обязательное для более глубокого понимания методологии машинного обучения / пер. с англ. А.В. Логунова. – М.: ДМК Пресс, 2017. – 418 с.: ил.  \n",
        "1. Репозиторий с кодом к книге *Рашка С.* Python и машинное обучение / github.com. URL: <https://github.com/rasbt/python-machine-learning-book-3rd-edition>  \n",
        "1. *Xueting Bai*, *Lingbo Wang*, *Hanning Li* Identification of red wine categories based on physicochemical properties / 2019 5th International Conference on Education Technology, Management and Humanities Science (ETMHS 2019). URL: <https://webofproceedings.org/proceedings_series/ESSP/ETMHS%202019/ETMHS19309.pdf>  \n",
        "\n"
      ],
      "id": "af39298f"
    }
  ]
}