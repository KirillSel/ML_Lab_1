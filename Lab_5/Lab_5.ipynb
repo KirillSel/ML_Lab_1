{
  "nbformat": 4,
  "nbformat_minor": 0,
  "metadata": {
    "colab": {
      "name": "Lab_5.ipynb",
      "provenance": []
    },
    "kernelspec": {
      "name": "python3",
      "display_name": "Python 3"
    },
    "language_info": {
      "name": "python"
    }
  },
  "cells": [
    {
      "cell_type": "code",
      "metadata": {
        "colab": {
          "base_uri": "https://localhost:8080/"
        },
        "id": "6VHJcgHJG8hC",
        "outputId": "ebf19ac0-cdbc-4c3e-ed07-817ed0796141"
      },
      "source": [
        "!pip install watermark\n",
        "%load_ext watermark\n",
        "# выводим информацию о версиях python и пакетов\n",
        "\n",
        "%watermark -a \"KirillSel@github.com\" -d -v -p numpy,pandas,matplotlib,sklearn "
      ],
      "execution_count": 1,
      "outputs": [
        {
          "output_type": "stream",
          "name": "stdout",
          "text": [
            "Collecting watermark\n",
            "  Downloading watermark-2.2.0-py2.py3-none-any.whl (6.8 kB)\n",
            "Collecting importlib-metadata<3.0\n",
            "  Downloading importlib_metadata-2.1.2-py2.py3-none-any.whl (10 kB)\n",
            "Requirement already satisfied: ipython in /usr/local/lib/python3.7/dist-packages (from watermark) (5.5.0)\n",
            "Requirement already satisfied: zipp>=0.5 in /usr/local/lib/python3.7/dist-packages (from importlib-metadata<3.0->watermark) (3.6.0)\n",
            "Requirement already satisfied: pexpect in /usr/local/lib/python3.7/dist-packages (from ipython->watermark) (4.8.0)\n",
            "Requirement already satisfied: pygments in /usr/local/lib/python3.7/dist-packages (from ipython->watermark) (2.6.1)\n",
            "Requirement already satisfied: traitlets>=4.2 in /usr/local/lib/python3.7/dist-packages (from ipython->watermark) (5.1.1)\n",
            "Requirement already satisfied: setuptools>=18.5 in /usr/local/lib/python3.7/dist-packages (from ipython->watermark) (57.4.0)\n",
            "Requirement already satisfied: prompt-toolkit<2.0.0,>=1.0.4 in /usr/local/lib/python3.7/dist-packages (from ipython->watermark) (1.0.18)\n",
            "Requirement already satisfied: simplegeneric>0.8 in /usr/local/lib/python3.7/dist-packages (from ipython->watermark) (0.8.1)\n",
            "Requirement already satisfied: decorator in /usr/local/lib/python3.7/dist-packages (from ipython->watermark) (4.4.2)\n",
            "Requirement already satisfied: pickleshare in /usr/local/lib/python3.7/dist-packages (from ipython->watermark) (0.7.5)\n",
            "Requirement already satisfied: wcwidth in /usr/local/lib/python3.7/dist-packages (from prompt-toolkit<2.0.0,>=1.0.4->ipython->watermark) (0.2.5)\n",
            "Requirement already satisfied: six>=1.9.0 in /usr/local/lib/python3.7/dist-packages (from prompt-toolkit<2.0.0,>=1.0.4->ipython->watermark) (1.15.0)\n",
            "Requirement already satisfied: ptyprocess>=0.5 in /usr/local/lib/python3.7/dist-packages (from pexpect->ipython->watermark) (0.7.0)\n",
            "Installing collected packages: importlib-metadata, watermark\n",
            "  Attempting uninstall: importlib-metadata\n",
            "    Found existing installation: importlib-metadata 4.8.2\n",
            "    Uninstalling importlib-metadata-4.8.2:\n",
            "      Successfully uninstalled importlib-metadata-4.8.2\n",
            "\u001b[31mERROR: pip's dependency resolver does not currently take into account all the packages that are installed. This behaviour is the source of the following dependency conflicts.\n",
            "markdown 3.3.6 requires importlib-metadata>=4.4; python_version < \"3.10\", but you have importlib-metadata 2.1.2 which is incompatible.\u001b[0m\n",
            "Successfully installed importlib-metadata-2.1.2 watermark-2.2.0\n",
            "Author: KirillSel@github.com\n",
            "\n",
            "Python implementation: CPython\n",
            "Python version       : 3.7.12\n",
            "IPython version      : 5.5.0\n",
            "\n",
            "numpy     : 1.19.5\n",
            "pandas    : 1.1.5\n",
            "matplotlib: 3.2.2\n",
            "sklearn   : 0.0\n",
            "\n"
          ]
        }
      ]
    },
    {
      "cell_type": "markdown",
      "metadata": {
        "id": "TF9BCLtgQua0"
      },
      "source": [
        "#Загружаем пакеты"
      ]
    },
    {
      "cell_type": "code",
      "metadata": {
        "id": "oX7wMFXtIGHd"
      },
      "source": [
        "# загрузка пакетов: инструменты --------------------------------------------\n",
        "#  работа с массивами\n",
        "import numpy as np\n",
        "#  фреймы данных\n",
        "import pandas as pd\n",
        "#  графики\n",
        "import matplotlib as mpl\n",
        "#  стили и шаблоны графиков на основе matplotlib\n",
        "import seaborn as sns \n",
        "# перекодировка символьных показателей \n",
        "from sklearn.preprocessing import LabelEncoder\n",
        "#  для таймера\n",
        "import time\n",
        "# загрузка пакетов: модели -------------------------------------------------\n",
        "#  SVM\n",
        "from sklearn.svm import SVC\n",
        "# логистическая рагрессия\n",
        "from sklearn.linear_model import LogisticRegression\n",
        "# стандартизация\n",
        "from sklearn.preprocessing import StandardScaler\n",
        "# метод главных компонент\n",
        "from sklearn.decomposition import PCA\n",
        "# конвейеры\n",
        "from sklearn.pipeline import make_pipeline\n",
        "# перекрёстная проверка и метод проверочной выборки\n",
        "from sklearn.model_selection import cross_val_score, train_test_split\n",
        "# для перекрёстной проверки и сеточного поиска\n",
        "from sklearn.model_selection import KFold,GridSearchCV\n",
        "#  сводка по точности классификации\n",
        "from sklearn.metrics import classification_report"
      ],
      "execution_count": 2,
      "outputs": []
    },
    {
      "cell_type": "code",
      "metadata": {
        "colab": {
          "base_uri": "https://localhost:8080/",
          "height": 76
        },
        "id": "ZstCOR_PJwFb",
        "outputId": "b31454ea-4e73-477a-b09a-bdbe10479a10"
      },
      "source": [
        "# константы\n",
        "#  ядро для генератора случайных чисел\n",
        "my_seed=20\n",
        "#  создаём псевдоним для короткого обращения к графикам\n",
        "plt=mpl.pyplot\n",
        "# настройка стиля и отображения графиков\n",
        "#  примеры стилей и шаблонов графиков: \n",
        "#  http://tonysyu.github.io/raw_content/matplotlib-style-gallery/gallery.html\n",
        "mpl.style.use('seaborn-whitegrid')\n",
        "sns.set_palette(\"Set2\")\n",
        "# раскомментируйте следующую строку, чтобы посмотреть палитру\n",
        "sns.color_palette(\"Set2\")"
      ],
      "execution_count": 3,
      "outputs": [
        {
          "output_type": "execute_result",
          "data": {
            "text/html": [
              "<svg  width=\"440\" height=\"55\"><rect x=\"0\" y=\"0\" width=\"55\" height=\"55\" style=\"fill:#66c2a5;stroke-width:2;stroke:rgb(255,255,255)\"/><rect x=\"55\" y=\"0\" width=\"55\" height=\"55\" style=\"fill:#fc8d62;stroke-width:2;stroke:rgb(255,255,255)\"/><rect x=\"110\" y=\"0\" width=\"55\" height=\"55\" style=\"fill:#8da0cb;stroke-width:2;stroke:rgb(255,255,255)\"/><rect x=\"165\" y=\"0\" width=\"55\" height=\"55\" style=\"fill:#e78ac3;stroke-width:2;stroke:rgb(255,255,255)\"/><rect x=\"220\" y=\"0\" width=\"55\" height=\"55\" style=\"fill:#a6d854;stroke-width:2;stroke:rgb(255,255,255)\"/><rect x=\"275\" y=\"0\" width=\"55\" height=\"55\" style=\"fill:#ffd92f;stroke-width:2;stroke:rgb(255,255,255)\"/><rect x=\"330\" y=\"0\" width=\"55\" height=\"55\" style=\"fill:#e5c494;stroke-width:2;stroke:rgb(255,255,255)\"/><rect x=\"385\" y=\"0\" width=\"55\" height=\"55\" style=\"fill:#b3b3b3;stroke-width:2;stroke:rgb(255,255,255)\"/></svg>"
            ],
            "text/plain": [
              "[(0.4, 0.7607843137254902, 0.6470588235294118),\n",
              " (0.9882352941176471, 0.5529411764705883, 0.3843137254901961),\n",
              " (0.5529411764705883, 0.6274509803921569, 0.796078431372549),\n",
              " (0.9058823529411765, 0.5411764705882353, 0.7647058823529411),\n",
              " (0.6509803921568628, 0.8470588235294118, 0.32941176470588235),\n",
              " (1.0, 0.8509803921568627, 0.1843137254901961),\n",
              " (0.8980392156862745, 0.7686274509803922, 0.5803921568627451),\n",
              " (0.7019607843137254, 0.7019607843137254, 0.7019607843137254)]"
            ]
          },
          "metadata": {},
          "execution_count": 3
        }
      ]
    },
    {
      "cell_type": "markdown",
      "metadata": {
        "id": "rWNUzMj1KcY5"
      },
      "source": [
        "# Загружаем данные\n"
      ]
    },
    {
      "cell_type": "markdown",
      "metadata": {
        "id": "7SXe_JtqKpJg"
      },
      "source": [
        "1. Visit [Drive folder](https://drive.google.com/drive/folders/1E9_u-v8chGmPwgROBEorD9hT609ysv_W?usp=sharing).\n",
        "\n",
        "2. Right click on folder name -> \"Add a shortcut to Drive\" -> select \"My Drive\" -> \"Add shortcut\".\n"
      ]
    },
    {
      "cell_type": "code",
      "metadata": {
        "colab": {
          "base_uri": "https://localhost:8080/"
        },
        "id": "Z1jbE5aqKy3f",
        "outputId": "87a64175-4685-4cd9-8998-95bb95c2fbd4"
      },
      "source": [
        "# Detect if we are in Google Colaboratory\n",
        "try:\n",
        "    import google.colab\n",
        "    IN_COLAB = True\n",
        "except ImportError:\n",
        "    IN_COLAB = False\n",
        "\n",
        "from pathlib import Path\n",
        "# Determine the locations of auxiliary libraries and datasets.\n",
        "# AUX_DATA_ROOT is where 'notmnist.py', 'animation.py' and 'tiny-imagenet-2020.zip' are.\n",
        "if IN_COLAB:\n",
        "    google.colab.drive.mount(\"/content/drive\")\n",
        "    \n",
        "    # Change this if you created the shortcut in a different location\n",
        "    AUX_DATA_ROOT = Path(\"/content/drive/My Drive/data\")\n",
        "    \n",
        "    assert AUX_DATA_ROOT.is_dir(), \"Have you forgot to 'Add a shortcut to Drive'?\"\n",
        "    \n",
        "    import sys\n",
        "    sys.path.insert(0, str(AUX_DATA_ROOT))\n",
        "else:\n",
        "    AUX_DATA_ROOT = Path(\".\")"
      ],
      "execution_count": 4,
      "outputs": [
        {
          "output_type": "stream",
          "name": "stdout",
          "text": [
            "Mounted at /content/drive\n"
          ]
        }
      ]
    },
    {
      "cell_type": "code",
      "metadata": {
        "colab": {
          "base_uri": "https://localhost:8080/"
        },
        "id": "cNgCridrK2Aq",
        "outputId": "c5ce3319-8d90-48fc-b35f-dd7e580712fb"
      },
      "source": [
        "import os \n",
        "DF_raw = pd.read_csv(os.path.join(AUX_DATA_ROOT, 'default_of_credit_card_clients.csv'))\n",
        "\n",
        "print('Число строк и столбцов в наборе данных:\\n', DF_raw.shape)"
      ],
      "execution_count": 5,
      "outputs": [
        {
          "output_type": "stream",
          "name": "stdout",
          "text": [
            "Число строк и столбцов в наборе данных:\n",
            " (30000, 24)\n"
          ]
        }
      ]
    },
    {
      "cell_type": "code",
      "metadata": {
        "colab": {
          "base_uri": "https://localhost:8080/"
        },
        "id": "hR4LSLB6RIv5",
        "outputId": "2757fc02-4c5c-457f-a13f-5023199be370"
      },
      "source": [
        "DF_raw.dtypes"
      ],
      "execution_count": 6,
      "outputs": [
        {
          "output_type": "execute_result",
          "data": {
            "text/plain": [
              "LIMIT_BAL    int64\n",
              "SEX          int64\n",
              "EDUCATION    int64\n",
              "MARRIAGE     int64\n",
              "AGE          int64\n",
              "PAY_0        int64\n",
              "PAY_2        int64\n",
              "PAY_3        int64\n",
              "PAY_4        int64\n",
              "PAY_5        int64\n",
              "PAY_6        int64\n",
              "BILL_AMT1    int64\n",
              "BILL_AMT2    int64\n",
              "BILL_AMT3    int64\n",
              "BILL_AMT4    int64\n",
              "BILL_AMT5    int64\n",
              "BILL_AMT6    int64\n",
              "PAY_AMT1     int64\n",
              "PAY_AMT2     int64\n",
              "PAY_AMT3     int64\n",
              "PAY_AMT4     int64\n",
              "PAY_AMT5     int64\n",
              "PAY_AMT6     int64\n",
              "Y            int64\n",
              "dtype: object"
            ]
          },
          "metadata": {},
          "execution_count": 6
        }
      ]
    },
    {
      "cell_type": "markdown",
      "metadata": {
        "id": "i-8K-2CNLPGs"
      },
      "source": [
        "Отложим 15% наблюдений для прогноза. "
      ]
    },
    {
      "cell_type": "code",
      "metadata": {
        "id": "bpLJZDPILMtu"
      },
      "source": [
        "# наблюдения для моделирования\n",
        "DF = DF_raw.sample(frac=0.85, random_state=my_seed)\n",
        "# отложенные наблюдения\n",
        "DF_predict = DF_raw.drop(DF.index)"
      ],
      "execution_count": 7,
      "outputs": []
    },
    {
      "cell_type": "markdown",
      "metadata": {
        "id": "tTovHmZELUkA"
      },
      "source": [
        "DF - TRAIN\n",
        "DF_predict - TEST"
      ]
    },
    {
      "cell_type": "markdown",
      "metadata": {
        "id": "u5ZAy1O9SijS"
      },
      "source": [
        "Все объясняющие переменные набора данных непрерывные, кроме SEX, EDUCATION и MARRIAGE. Рассчитаем для них описательные статистики. "
      ]
    },
    {
      "cell_type": "code",
      "metadata": {
        "colab": {
          "base_uri": "https://localhost:8080/",
          "height": 320
        },
        "id": "MWQ6wgAKSbaC",
        "outputId": "75c78e16-f905-42c3-fe79-f392fc346fac"
      },
      "source": [
        "DF.drop(['SEX', 'EDUCATION', 'MARRIAGE'], axis=1).describe()"
      ],
      "execution_count": 8,
      "outputs": [
        {
          "output_type": "execute_result",
          "data": {
            "text/html": [
              "<div>\n",
              "<style scoped>\n",
              "    .dataframe tbody tr th:only-of-type {\n",
              "        vertical-align: middle;\n",
              "    }\n",
              "\n",
              "    .dataframe tbody tr th {\n",
              "        vertical-align: top;\n",
              "    }\n",
              "\n",
              "    .dataframe thead th {\n",
              "        text-align: right;\n",
              "    }\n",
              "</style>\n",
              "<table border=\"1\" class=\"dataframe\">\n",
              "  <thead>\n",
              "    <tr style=\"text-align: right;\">\n",
              "      <th></th>\n",
              "      <th>LIMIT_BAL</th>\n",
              "      <th>AGE</th>\n",
              "      <th>PAY_0</th>\n",
              "      <th>PAY_2</th>\n",
              "      <th>PAY_3</th>\n",
              "      <th>PAY_4</th>\n",
              "      <th>PAY_5</th>\n",
              "      <th>PAY_6</th>\n",
              "      <th>BILL_AMT1</th>\n",
              "      <th>BILL_AMT2</th>\n",
              "      <th>BILL_AMT3</th>\n",
              "      <th>BILL_AMT4</th>\n",
              "      <th>BILL_AMT5</th>\n",
              "      <th>BILL_AMT6</th>\n",
              "      <th>PAY_AMT1</th>\n",
              "      <th>PAY_AMT2</th>\n",
              "      <th>PAY_AMT3</th>\n",
              "      <th>PAY_AMT4</th>\n",
              "      <th>PAY_AMT5</th>\n",
              "      <th>PAY_AMT6</th>\n",
              "      <th>Y</th>\n",
              "    </tr>\n",
              "  </thead>\n",
              "  <tbody>\n",
              "    <tr>\n",
              "      <th>count</th>\n",
              "      <td>25500.000000</td>\n",
              "      <td>25500.000000</td>\n",
              "      <td>25500.000000</td>\n",
              "      <td>25500.000000</td>\n",
              "      <td>25500.000000</td>\n",
              "      <td>25500.000000</td>\n",
              "      <td>25500.000000</td>\n",
              "      <td>25500.000000</td>\n",
              "      <td>25500.000000</td>\n",
              "      <td>25500.000000</td>\n",
              "      <td>2.550000e+04</td>\n",
              "      <td>25500.000000</td>\n",
              "      <td>25500.000000</td>\n",
              "      <td>25500.000000</td>\n",
              "      <td>25500.000000</td>\n",
              "      <td>2.550000e+04</td>\n",
              "      <td>25500.000000</td>\n",
              "      <td>25500.000000</td>\n",
              "      <td>25500.000000</td>\n",
              "      <td>25500.000000</td>\n",
              "      <td>25500.000000</td>\n",
              "    </tr>\n",
              "    <tr>\n",
              "      <th>mean</th>\n",
              "      <td>168077.242353</td>\n",
              "      <td>35.486471</td>\n",
              "      <td>-0.015608</td>\n",
              "      <td>-0.131882</td>\n",
              "      <td>-0.166000</td>\n",
              "      <td>-0.218196</td>\n",
              "      <td>-0.261647</td>\n",
              "      <td>-0.290118</td>\n",
              "      <td>51399.370471</td>\n",
              "      <td>49355.392471</td>\n",
              "      <td>4.720979e+04</td>\n",
              "      <td>43439.331490</td>\n",
              "      <td>40425.389725</td>\n",
              "      <td>39032.859098</td>\n",
              "      <td>5699.709020</td>\n",
              "      <td>5.963576e+03</td>\n",
              "      <td>5221.213333</td>\n",
              "      <td>4820.416824</td>\n",
              "      <td>4850.173843</td>\n",
              "      <td>5255.832627</td>\n",
              "      <td>0.220588</td>\n",
              "    </tr>\n",
              "    <tr>\n",
              "      <th>std</th>\n",
              "      <td>129837.678356</td>\n",
              "      <td>9.213824</td>\n",
              "      <td>1.126387</td>\n",
              "      <td>1.201093</td>\n",
              "      <td>1.199212</td>\n",
              "      <td>1.169805</td>\n",
              "      <td>1.135101</td>\n",
              "      <td>1.149237</td>\n",
              "      <td>73891.950872</td>\n",
              "      <td>71405.114321</td>\n",
              "      <td>6.946620e+04</td>\n",
              "      <td>64311.588682</td>\n",
              "      <td>60587.830600</td>\n",
              "      <td>59484.804698</td>\n",
              "      <td>16687.930104</td>\n",
              "      <td>2.327991e+04</td>\n",
              "      <td>16875.401546</td>\n",
              "      <td>15353.273877</td>\n",
              "      <td>15584.945606</td>\n",
              "      <td>17773.623966</td>\n",
              "      <td>0.414651</td>\n",
              "    </tr>\n",
              "    <tr>\n",
              "      <th>min</th>\n",
              "      <td>10000.000000</td>\n",
              "      <td>21.000000</td>\n",
              "      <td>-2.000000</td>\n",
              "      <td>-2.000000</td>\n",
              "      <td>-2.000000</td>\n",
              "      <td>-2.000000</td>\n",
              "      <td>-2.000000</td>\n",
              "      <td>-2.000000</td>\n",
              "      <td>-165580.000000</td>\n",
              "      <td>-69777.000000</td>\n",
              "      <td>-6.150600e+04</td>\n",
              "      <td>-81334.000000</td>\n",
              "      <td>-81334.000000</td>\n",
              "      <td>-339603.000000</td>\n",
              "      <td>0.000000</td>\n",
              "      <td>0.000000e+00</td>\n",
              "      <td>0.000000</td>\n",
              "      <td>0.000000</td>\n",
              "      <td>0.000000</td>\n",
              "      <td>0.000000</td>\n",
              "      <td>0.000000</td>\n",
              "    </tr>\n",
              "    <tr>\n",
              "      <th>25%</th>\n",
              "      <td>50000.000000</td>\n",
              "      <td>28.000000</td>\n",
              "      <td>-1.000000</td>\n",
              "      <td>-1.000000</td>\n",
              "      <td>-1.000000</td>\n",
              "      <td>-1.000000</td>\n",
              "      <td>-1.000000</td>\n",
              "      <td>-1.000000</td>\n",
              "      <td>3538.500000</td>\n",
              "      <td>2983.000000</td>\n",
              "      <td>2.733750e+03</td>\n",
              "      <td>2390.750000</td>\n",
              "      <td>1780.000000</td>\n",
              "      <td>1272.750000</td>\n",
              "      <td>1000.000000</td>\n",
              "      <td>8.500000e+02</td>\n",
              "      <td>390.000000</td>\n",
              "      <td>298.000000</td>\n",
              "      <td>265.000000</td>\n",
              "      <td>133.000000</td>\n",
              "      <td>0.000000</td>\n",
              "    </tr>\n",
              "    <tr>\n",
              "      <th>50%</th>\n",
              "      <td>140000.000000</td>\n",
              "      <td>34.000000</td>\n",
              "      <td>0.000000</td>\n",
              "      <td>0.000000</td>\n",
              "      <td>0.000000</td>\n",
              "      <td>0.000000</td>\n",
              "      <td>0.000000</td>\n",
              "      <td>0.000000</td>\n",
              "      <td>22407.000000</td>\n",
              "      <td>21241.500000</td>\n",
              "      <td>2.017750e+04</td>\n",
              "      <td>19158.500000</td>\n",
              "      <td>18275.000000</td>\n",
              "      <td>17199.000000</td>\n",
              "      <td>2103.000000</td>\n",
              "      <td>2.010000e+03</td>\n",
              "      <td>1800.000000</td>\n",
              "      <td>1500.000000</td>\n",
              "      <td>1500.000000</td>\n",
              "      <td>1500.000000</td>\n",
              "      <td>0.000000</td>\n",
              "    </tr>\n",
              "    <tr>\n",
              "      <th>75%</th>\n",
              "      <td>240000.000000</td>\n",
              "      <td>41.000000</td>\n",
              "      <td>0.000000</td>\n",
              "      <td>0.000000</td>\n",
              "      <td>0.000000</td>\n",
              "      <td>0.000000</td>\n",
              "      <td>0.000000</td>\n",
              "      <td>0.000000</td>\n",
              "      <td>67255.750000</td>\n",
              "      <td>64150.000000</td>\n",
              "      <td>6.049100e+04</td>\n",
              "      <td>54715.250000</td>\n",
              "      <td>50320.000000</td>\n",
              "      <td>49355.500000</td>\n",
              "      <td>5019.000000</td>\n",
              "      <td>5.000000e+03</td>\n",
              "      <td>4523.250000</td>\n",
              "      <td>4030.750000</td>\n",
              "      <td>4078.000000</td>\n",
              "      <td>4045.250000</td>\n",
              "      <td>0.000000</td>\n",
              "    </tr>\n",
              "    <tr>\n",
              "      <th>max</th>\n",
              "      <td>800000.000000</td>\n",
              "      <td>79.000000</td>\n",
              "      <td>8.000000</td>\n",
              "      <td>8.000000</td>\n",
              "      <td>8.000000</td>\n",
              "      <td>8.000000</td>\n",
              "      <td>8.000000</td>\n",
              "      <td>8.000000</td>\n",
              "      <td>653062.000000</td>\n",
              "      <td>743970.000000</td>\n",
              "      <td>1.664089e+06</td>\n",
              "      <td>706864.000000</td>\n",
              "      <td>823540.000000</td>\n",
              "      <td>699944.000000</td>\n",
              "      <td>873552.000000</td>\n",
              "      <td>1.684259e+06</td>\n",
              "      <td>889043.000000</td>\n",
              "      <td>621000.000000</td>\n",
              "      <td>426529.000000</td>\n",
              "      <td>528666.000000</td>\n",
              "      <td>1.000000</td>\n",
              "    </tr>\n",
              "  </tbody>\n",
              "</table>\n",
              "</div>"
            ],
            "text/plain": [
              "           LIMIT_BAL           AGE  ...       PAY_AMT6             Y\n",
              "count   25500.000000  25500.000000  ...   25500.000000  25500.000000\n",
              "mean   168077.242353     35.486471  ...    5255.832627      0.220588\n",
              "std    129837.678356      9.213824  ...   17773.623966      0.414651\n",
              "min     10000.000000     21.000000  ...       0.000000      0.000000\n",
              "25%     50000.000000     28.000000  ...     133.000000      0.000000\n",
              "50%    140000.000000     34.000000  ...    1500.000000      0.000000\n",
              "75%    240000.000000     41.000000  ...    4045.250000      0.000000\n",
              "max    800000.000000     79.000000  ...  528666.000000      1.000000\n",
              "\n",
              "[8 rows x 21 columns]"
            ]
          },
          "metadata": {},
          "execution_count": 8
        }
      ]
    },
    {
      "cell_type": "markdown",
      "metadata": {
        "id": "hh4eIeW_SjyF"
      },
      "source": [
        "Для категориальных переменных SEX, EDUCATION и MARRIAGE подсчитаем частоты значений\n"
      ]
    },
    {
      "cell_type": "code",
      "metadata": {
        "colab": {
          "base_uri": "https://localhost:8080/",
          "height": 112
        },
        "id": "8t5zcXavSoIK",
        "outputId": "03a3955e-1762-4fd3-ade3-122477e9424c"
      },
      "source": [
        "count_sex = DF['SEX'].value_counts()\n",
        "pd.DataFrame(count_sex)"
      ],
      "execution_count": 9,
      "outputs": [
        {
          "output_type": "execute_result",
          "data": {
            "text/html": [
              "<div>\n",
              "<style scoped>\n",
              "    .dataframe tbody tr th:only-of-type {\n",
              "        vertical-align: middle;\n",
              "    }\n",
              "\n",
              "    .dataframe tbody tr th {\n",
              "        vertical-align: top;\n",
              "    }\n",
              "\n",
              "    .dataframe thead th {\n",
              "        text-align: right;\n",
              "    }\n",
              "</style>\n",
              "<table border=\"1\" class=\"dataframe\">\n",
              "  <thead>\n",
              "    <tr style=\"text-align: right;\">\n",
              "      <th></th>\n",
              "      <th>SEX</th>\n",
              "    </tr>\n",
              "  </thead>\n",
              "  <tbody>\n",
              "    <tr>\n",
              "      <th>2</th>\n",
              "      <td>15408</td>\n",
              "    </tr>\n",
              "    <tr>\n",
              "      <th>1</th>\n",
              "      <td>10092</td>\n",
              "    </tr>\n",
              "  </tbody>\n",
              "</table>\n",
              "</div>"
            ],
            "text/plain": [
              "     SEX\n",
              "2  15408\n",
              "1  10092"
            ]
          },
          "metadata": {},
          "execution_count": 9
        }
      ]
    },
    {
      "cell_type": "code",
      "metadata": {
        "colab": {
          "base_uri": "https://localhost:8080/",
          "height": 269
        },
        "id": "18BuJa09S1D6",
        "outputId": "a994626a-ac7d-451b-d8f3-fdb0a1b61b7b"
      },
      "source": [
        "count_edu = DF['EDUCATION'].value_counts()\n",
        "pd.DataFrame(count_edu)"
      ],
      "execution_count": 10,
      "outputs": [
        {
          "output_type": "execute_result",
          "data": {
            "text/html": [
              "<div>\n",
              "<style scoped>\n",
              "    .dataframe tbody tr th:only-of-type {\n",
              "        vertical-align: middle;\n",
              "    }\n",
              "\n",
              "    .dataframe tbody tr th {\n",
              "        vertical-align: top;\n",
              "    }\n",
              "\n",
              "    .dataframe thead th {\n",
              "        text-align: right;\n",
              "    }\n",
              "</style>\n",
              "<table border=\"1\" class=\"dataframe\">\n",
              "  <thead>\n",
              "    <tr style=\"text-align: right;\">\n",
              "      <th></th>\n",
              "      <th>EDUCATION</th>\n",
              "    </tr>\n",
              "  </thead>\n",
              "  <tbody>\n",
              "    <tr>\n",
              "      <th>2</th>\n",
              "      <td>11894</td>\n",
              "    </tr>\n",
              "    <tr>\n",
              "      <th>1</th>\n",
              "      <td>9055</td>\n",
              "    </tr>\n",
              "    <tr>\n",
              "      <th>3</th>\n",
              "      <td>4141</td>\n",
              "    </tr>\n",
              "    <tr>\n",
              "      <th>5</th>\n",
              "      <td>253</td>\n",
              "    </tr>\n",
              "    <tr>\n",
              "      <th>4</th>\n",
              "      <td>100</td>\n",
              "    </tr>\n",
              "    <tr>\n",
              "      <th>6</th>\n",
              "      <td>46</td>\n",
              "    </tr>\n",
              "    <tr>\n",
              "      <th>0</th>\n",
              "      <td>11</td>\n",
              "    </tr>\n",
              "  </tbody>\n",
              "</table>\n",
              "</div>"
            ],
            "text/plain": [
              "   EDUCATION\n",
              "2      11894\n",
              "1       9055\n",
              "3       4141\n",
              "5        253\n",
              "4        100\n",
              "6         46\n",
              "0         11"
            ]
          },
          "metadata": {},
          "execution_count": 10
        }
      ]
    },
    {
      "cell_type": "code",
      "metadata": {
        "colab": {
          "base_uri": "https://localhost:8080/",
          "height": 174
        },
        "id": "wARDIDfQS4gM",
        "outputId": "6994433f-73a1-4181-92fd-4690f550f84e"
      },
      "source": [
        "count_mar = DF['MARRIAGE'].value_counts()\n",
        "pd.DataFrame(count_mar)"
      ],
      "execution_count": 11,
      "outputs": [
        {
          "output_type": "execute_result",
          "data": {
            "text/html": [
              "<div>\n",
              "<style scoped>\n",
              "    .dataframe tbody tr th:only-of-type {\n",
              "        vertical-align: middle;\n",
              "    }\n",
              "\n",
              "    .dataframe tbody tr th {\n",
              "        vertical-align: top;\n",
              "    }\n",
              "\n",
              "    .dataframe thead th {\n",
              "        text-align: right;\n",
              "    }\n",
              "</style>\n",
              "<table border=\"1\" class=\"dataframe\">\n",
              "  <thead>\n",
              "    <tr style=\"text-align: right;\">\n",
              "      <th></th>\n",
              "      <th>MARRIAGE</th>\n",
              "    </tr>\n",
              "  </thead>\n",
              "  <tbody>\n",
              "    <tr>\n",
              "      <th>2</th>\n",
              "      <td>13585</td>\n",
              "    </tr>\n",
              "    <tr>\n",
              "      <th>1</th>\n",
              "      <td>11605</td>\n",
              "    </tr>\n",
              "    <tr>\n",
              "      <th>3</th>\n",
              "      <td>261</td>\n",
              "    </tr>\n",
              "    <tr>\n",
              "      <th>0</th>\n",
              "      <td>49</td>\n",
              "    </tr>\n",
              "  </tbody>\n",
              "</table>\n",
              "</div>"
            ],
            "text/plain": [
              "   MARRIAGE\n",
              "2     13585\n",
              "1     11605\n",
              "3       261\n",
              "0        49"
            ]
          },
          "metadata": {},
          "execution_count": 11
        }
      ]
    },
    {
      "cell_type": "markdown",
      "metadata": {
        "id": "dfBrdwDjLWMa"
      },
      "source": [
        "Теперь перекодируем категориальные переменные SEX, EDUCATION и MARRIAGE с помощью OneHotEncoder"
      ]
    },
    {
      "cell_type": "code",
      "metadata": {
        "colab": {
          "base_uri": "https://localhost:8080/",
          "height": 282
        },
        "id": "pmtL45VoLe3F",
        "outputId": "272d46ca-6398-42c8-9b88-b676ddd083ff"
      },
      "source": [
        "from sklearn.preprocessing import OneHotEncoder\n",
        "\n",
        "nom_col_names=['SEX', 'EDUCATION', 'MARRIAGE']\n",
        "\n",
        "one_hot=OneHotEncoder()\n",
        "\n",
        "recoded=one_hot.fit_transform(DF[nom_col_names]).toarray()\n",
        "clmns=one_hot.get_feature_names(nom_col_names)\n",
        "df_dummy_nom=pd.DataFrame(recoded, columns=clmns)\n",
        "\n",
        "print(df_dummy_nom.shape)\n",
        "df_dummy_nom.head()"
      ],
      "execution_count": 12,
      "outputs": [
        {
          "output_type": "stream",
          "name": "stdout",
          "text": [
            "(25500, 13)\n"
          ]
        },
        {
          "output_type": "stream",
          "name": "stderr",
          "text": [
            "/usr/local/lib/python3.7/dist-packages/sklearn/utils/deprecation.py:87: FutureWarning: Function get_feature_names is deprecated; get_feature_names is deprecated in 1.0 and will be removed in 1.2. Please use get_feature_names_out instead.\n",
            "  warnings.warn(msg, category=FutureWarning)\n"
          ]
        },
        {
          "output_type": "execute_result",
          "data": {
            "text/html": [
              "<div>\n",
              "<style scoped>\n",
              "    .dataframe tbody tr th:only-of-type {\n",
              "        vertical-align: middle;\n",
              "    }\n",
              "\n",
              "    .dataframe tbody tr th {\n",
              "        vertical-align: top;\n",
              "    }\n",
              "\n",
              "    .dataframe thead th {\n",
              "        text-align: right;\n",
              "    }\n",
              "</style>\n",
              "<table border=\"1\" class=\"dataframe\">\n",
              "  <thead>\n",
              "    <tr style=\"text-align: right;\">\n",
              "      <th></th>\n",
              "      <th>SEX_1</th>\n",
              "      <th>SEX_2</th>\n",
              "      <th>EDUCATION_0</th>\n",
              "      <th>EDUCATION_1</th>\n",
              "      <th>EDUCATION_2</th>\n",
              "      <th>EDUCATION_3</th>\n",
              "      <th>EDUCATION_4</th>\n",
              "      <th>EDUCATION_5</th>\n",
              "      <th>EDUCATION_6</th>\n",
              "      <th>MARRIAGE_0</th>\n",
              "      <th>MARRIAGE_1</th>\n",
              "      <th>MARRIAGE_2</th>\n",
              "      <th>MARRIAGE_3</th>\n",
              "    </tr>\n",
              "  </thead>\n",
              "  <tbody>\n",
              "    <tr>\n",
              "      <th>0</th>\n",
              "      <td>0.0</td>\n",
              "      <td>1.0</td>\n",
              "      <td>0.0</td>\n",
              "      <td>1.0</td>\n",
              "      <td>0.0</td>\n",
              "      <td>0.0</td>\n",
              "      <td>0.0</td>\n",
              "      <td>0.0</td>\n",
              "      <td>0.0</td>\n",
              "      <td>0.0</td>\n",
              "      <td>0.0</td>\n",
              "      <td>1.0</td>\n",
              "      <td>0.0</td>\n",
              "    </tr>\n",
              "    <tr>\n",
              "      <th>1</th>\n",
              "      <td>0.0</td>\n",
              "      <td>1.0</td>\n",
              "      <td>0.0</td>\n",
              "      <td>0.0</td>\n",
              "      <td>1.0</td>\n",
              "      <td>0.0</td>\n",
              "      <td>0.0</td>\n",
              "      <td>0.0</td>\n",
              "      <td>0.0</td>\n",
              "      <td>0.0</td>\n",
              "      <td>0.0</td>\n",
              "      <td>1.0</td>\n",
              "      <td>0.0</td>\n",
              "    </tr>\n",
              "    <tr>\n",
              "      <th>2</th>\n",
              "      <td>1.0</td>\n",
              "      <td>0.0</td>\n",
              "      <td>0.0</td>\n",
              "      <td>1.0</td>\n",
              "      <td>0.0</td>\n",
              "      <td>0.0</td>\n",
              "      <td>0.0</td>\n",
              "      <td>0.0</td>\n",
              "      <td>0.0</td>\n",
              "      <td>0.0</td>\n",
              "      <td>0.0</td>\n",
              "      <td>1.0</td>\n",
              "      <td>0.0</td>\n",
              "    </tr>\n",
              "    <tr>\n",
              "      <th>3</th>\n",
              "      <td>1.0</td>\n",
              "      <td>0.0</td>\n",
              "      <td>0.0</td>\n",
              "      <td>0.0</td>\n",
              "      <td>0.0</td>\n",
              "      <td>1.0</td>\n",
              "      <td>0.0</td>\n",
              "      <td>0.0</td>\n",
              "      <td>0.0</td>\n",
              "      <td>0.0</td>\n",
              "      <td>1.0</td>\n",
              "      <td>0.0</td>\n",
              "      <td>0.0</td>\n",
              "    </tr>\n",
              "    <tr>\n",
              "      <th>4</th>\n",
              "      <td>0.0</td>\n",
              "      <td>1.0</td>\n",
              "      <td>0.0</td>\n",
              "      <td>0.0</td>\n",
              "      <td>1.0</td>\n",
              "      <td>0.0</td>\n",
              "      <td>0.0</td>\n",
              "      <td>0.0</td>\n",
              "      <td>0.0</td>\n",
              "      <td>0.0</td>\n",
              "      <td>0.0</td>\n",
              "      <td>1.0</td>\n",
              "      <td>0.0</td>\n",
              "    </tr>\n",
              "  </tbody>\n",
              "</table>\n",
              "</div>"
            ],
            "text/plain": [
              "   SEX_1  SEX_2  EDUCATION_0  ...  MARRIAGE_1  MARRIAGE_2  MARRIAGE_3\n",
              "0    0.0    1.0          0.0  ...         0.0         1.0         0.0\n",
              "1    0.0    1.0          0.0  ...         0.0         1.0         0.0\n",
              "2    1.0    0.0          0.0  ...         0.0         1.0         0.0\n",
              "3    1.0    0.0          0.0  ...         1.0         0.0         0.0\n",
              "4    0.0    1.0          0.0  ...         0.0         1.0         0.0\n",
              "\n",
              "[5 rows x 13 columns]"
            ]
          },
          "metadata": {},
          "execution_count": 12
        }
      ]
    },
    {
      "cell_type": "markdown",
      "metadata": {
        "id": "oCJZB-reLm5K"
      },
      "source": [
        "Сконкатенируем наши датафреймы и удалим ненужные столбцы"
      ]
    },
    {
      "cell_type": "code",
      "metadata": {
        "colab": {
          "base_uri": "https://localhost:8080/",
          "height": 264
        },
        "id": "sBZGd7X5LoKX",
        "outputId": "ca5db3fa-18c3-4e19-99af-d5f04d767933"
      },
      "source": [
        "DF_num = pd.concat([DF.loc[:,DF.dtypes=='int64'].reset_index(),df_dummy_nom], axis=1)\n",
        "DF_num = DF_num.drop(['SEX', 'EDUCATION', 'MARRIAGE', 'index'], axis=1)\n",
        "print('Размерность обучающего фрейма после перекодировки:', DF_num.shape)\n",
        "\n",
        "print()\n",
        "DF_num.head()"
      ],
      "execution_count": 13,
      "outputs": [
        {
          "output_type": "stream",
          "name": "stdout",
          "text": [
            "Размерность обучающего фрейма после перекодировки: (25500, 34)\n",
            "\n"
          ]
        },
        {
          "output_type": "execute_result",
          "data": {
            "text/html": [
              "<div>\n",
              "<style scoped>\n",
              "    .dataframe tbody tr th:only-of-type {\n",
              "        vertical-align: middle;\n",
              "    }\n",
              "\n",
              "    .dataframe tbody tr th {\n",
              "        vertical-align: top;\n",
              "    }\n",
              "\n",
              "    .dataframe thead th {\n",
              "        text-align: right;\n",
              "    }\n",
              "</style>\n",
              "<table border=\"1\" class=\"dataframe\">\n",
              "  <thead>\n",
              "    <tr style=\"text-align: right;\">\n",
              "      <th></th>\n",
              "      <th>LIMIT_BAL</th>\n",
              "      <th>AGE</th>\n",
              "      <th>PAY_0</th>\n",
              "      <th>PAY_2</th>\n",
              "      <th>PAY_3</th>\n",
              "      <th>PAY_4</th>\n",
              "      <th>PAY_5</th>\n",
              "      <th>PAY_6</th>\n",
              "      <th>BILL_AMT1</th>\n",
              "      <th>BILL_AMT2</th>\n",
              "      <th>BILL_AMT3</th>\n",
              "      <th>BILL_AMT4</th>\n",
              "      <th>BILL_AMT5</th>\n",
              "      <th>BILL_AMT6</th>\n",
              "      <th>PAY_AMT1</th>\n",
              "      <th>PAY_AMT2</th>\n",
              "      <th>PAY_AMT3</th>\n",
              "      <th>PAY_AMT4</th>\n",
              "      <th>PAY_AMT5</th>\n",
              "      <th>PAY_AMT6</th>\n",
              "      <th>Y</th>\n",
              "      <th>SEX_1</th>\n",
              "      <th>SEX_2</th>\n",
              "      <th>EDUCATION_0</th>\n",
              "      <th>EDUCATION_1</th>\n",
              "      <th>EDUCATION_2</th>\n",
              "      <th>EDUCATION_3</th>\n",
              "      <th>EDUCATION_4</th>\n",
              "      <th>EDUCATION_5</th>\n",
              "      <th>EDUCATION_6</th>\n",
              "      <th>MARRIAGE_0</th>\n",
              "      <th>MARRIAGE_1</th>\n",
              "      <th>MARRIAGE_2</th>\n",
              "      <th>MARRIAGE_3</th>\n",
              "    </tr>\n",
              "  </thead>\n",
              "  <tbody>\n",
              "    <tr>\n",
              "      <th>0</th>\n",
              "      <td>60000</td>\n",
              "      <td>28</td>\n",
              "      <td>1</td>\n",
              "      <td>2</td>\n",
              "      <td>0</td>\n",
              "      <td>0</td>\n",
              "      <td>0</td>\n",
              "      <td>0</td>\n",
              "      <td>47262</td>\n",
              "      <td>46226</td>\n",
              "      <td>47557</td>\n",
              "      <td>48464</td>\n",
              "      <td>49532</td>\n",
              "      <td>50552</td>\n",
              "      <td>0</td>\n",
              "      <td>2100</td>\n",
              "      <td>2000</td>\n",
              "      <td>2000</td>\n",
              "      <td>2000</td>\n",
              "      <td>3000</td>\n",
              "      <td>0</td>\n",
              "      <td>0.0</td>\n",
              "      <td>1.0</td>\n",
              "      <td>0.0</td>\n",
              "      <td>1.0</td>\n",
              "      <td>0.0</td>\n",
              "      <td>0.0</td>\n",
              "      <td>0.0</td>\n",
              "      <td>0.0</td>\n",
              "      <td>0.0</td>\n",
              "      <td>0.0</td>\n",
              "      <td>0.0</td>\n",
              "      <td>1.0</td>\n",
              "      <td>0.0</td>\n",
              "    </tr>\n",
              "    <tr>\n",
              "      <th>1</th>\n",
              "      <td>30000</td>\n",
              "      <td>34</td>\n",
              "      <td>2</td>\n",
              "      <td>-1</td>\n",
              "      <td>2</td>\n",
              "      <td>2</td>\n",
              "      <td>2</td>\n",
              "      <td>2</td>\n",
              "      <td>99568</td>\n",
              "      <td>32326</td>\n",
              "      <td>31840</td>\n",
              "      <td>37075</td>\n",
              "      <td>37662</td>\n",
              "      <td>36904</td>\n",
              "      <td>33000</td>\n",
              "      <td>33000</td>\n",
              "      <td>5810</td>\n",
              "      <td>1325</td>\n",
              "      <td>0</td>\n",
              "      <td>3095</td>\n",
              "      <td>0</td>\n",
              "      <td>0.0</td>\n",
              "      <td>1.0</td>\n",
              "      <td>0.0</td>\n",
              "      <td>0.0</td>\n",
              "      <td>1.0</td>\n",
              "      <td>0.0</td>\n",
              "      <td>0.0</td>\n",
              "      <td>0.0</td>\n",
              "      <td>0.0</td>\n",
              "      <td>0.0</td>\n",
              "      <td>0.0</td>\n",
              "      <td>1.0</td>\n",
              "      <td>0.0</td>\n",
              "    </tr>\n",
              "    <tr>\n",
              "      <th>2</th>\n",
              "      <td>50000</td>\n",
              "      <td>30</td>\n",
              "      <td>0</td>\n",
              "      <td>0</td>\n",
              "      <td>2</td>\n",
              "      <td>2</td>\n",
              "      <td>2</td>\n",
              "      <td>0</td>\n",
              "      <td>45948</td>\n",
              "      <td>50813</td>\n",
              "      <td>45393</td>\n",
              "      <td>49351</td>\n",
              "      <td>45473</td>\n",
              "      <td>48595</td>\n",
              "      <td>6012</td>\n",
              "      <td>10</td>\n",
              "      <td>8212</td>\n",
              "      <td>1200</td>\n",
              "      <td>4008</td>\n",
              "      <td>4407</td>\n",
              "      <td>0</td>\n",
              "      <td>1.0</td>\n",
              "      <td>0.0</td>\n",
              "      <td>0.0</td>\n",
              "      <td>1.0</td>\n",
              "      <td>0.0</td>\n",
              "      <td>0.0</td>\n",
              "      <td>0.0</td>\n",
              "      <td>0.0</td>\n",
              "      <td>0.0</td>\n",
              "      <td>0.0</td>\n",
              "      <td>0.0</td>\n",
              "      <td>1.0</td>\n",
              "      <td>0.0</td>\n",
              "    </tr>\n",
              "    <tr>\n",
              "      <th>3</th>\n",
              "      <td>240000</td>\n",
              "      <td>42</td>\n",
              "      <td>2</td>\n",
              "      <td>2</td>\n",
              "      <td>2</td>\n",
              "      <td>2</td>\n",
              "      <td>2</td>\n",
              "      <td>2</td>\n",
              "      <td>259511</td>\n",
              "      <td>258208</td>\n",
              "      <td>245397</td>\n",
              "      <td>245014</td>\n",
              "      <td>209834</td>\n",
              "      <td>195913</td>\n",
              "      <td>11000</td>\n",
              "      <td>0</td>\n",
              "      <td>12300</td>\n",
              "      <td>14288</td>\n",
              "      <td>0</td>\n",
              "      <td>6887</td>\n",
              "      <td>0</td>\n",
              "      <td>1.0</td>\n",
              "      <td>0.0</td>\n",
              "      <td>0.0</td>\n",
              "      <td>0.0</td>\n",
              "      <td>0.0</td>\n",
              "      <td>1.0</td>\n",
              "      <td>0.0</td>\n",
              "      <td>0.0</td>\n",
              "      <td>0.0</td>\n",
              "      <td>0.0</td>\n",
              "      <td>1.0</td>\n",
              "      <td>0.0</td>\n",
              "      <td>0.0</td>\n",
              "    </tr>\n",
              "    <tr>\n",
              "      <th>4</th>\n",
              "      <td>300000</td>\n",
              "      <td>28</td>\n",
              "      <td>0</td>\n",
              "      <td>0</td>\n",
              "      <td>2</td>\n",
              "      <td>2</td>\n",
              "      <td>2</td>\n",
              "      <td>2</td>\n",
              "      <td>275855</td>\n",
              "      <td>286812</td>\n",
              "      <td>280337</td>\n",
              "      <td>318248</td>\n",
              "      <td>316147</td>\n",
              "      <td>303666</td>\n",
              "      <td>15000</td>\n",
              "      <td>7000</td>\n",
              "      <td>50000</td>\n",
              "      <td>12000</td>\n",
              "      <td>0</td>\n",
              "      <td>13000</td>\n",
              "      <td>1</td>\n",
              "      <td>0.0</td>\n",
              "      <td>1.0</td>\n",
              "      <td>0.0</td>\n",
              "      <td>0.0</td>\n",
              "      <td>1.0</td>\n",
              "      <td>0.0</td>\n",
              "      <td>0.0</td>\n",
              "      <td>0.0</td>\n",
              "      <td>0.0</td>\n",
              "      <td>0.0</td>\n",
              "      <td>0.0</td>\n",
              "      <td>1.0</td>\n",
              "      <td>0.0</td>\n",
              "    </tr>\n",
              "  </tbody>\n",
              "</table>\n",
              "</div>"
            ],
            "text/plain": [
              "   LIMIT_BAL  AGE  PAY_0  PAY_2  ...  MARRIAGE_0  MARRIAGE_1  MARRIAGE_2  MARRIAGE_3\n",
              "0      60000   28      1      2  ...         0.0         0.0         1.0         0.0\n",
              "1      30000   34      2     -1  ...         0.0         0.0         1.0         0.0\n",
              "2      50000   30      0      0  ...         0.0         0.0         1.0         0.0\n",
              "3     240000   42      2      2  ...         0.0         1.0         0.0         0.0\n",
              "4     300000   28      0      0  ...         0.0         0.0         1.0         0.0\n",
              "\n",
              "[5 rows x 34 columns]"
            ]
          },
          "metadata": {},
          "execution_count": 13
        }
      ]
    },
    {
      "cell_type": "markdown",
      "metadata": {
        "id": "EYlM4V86LuBb"
      },
      "source": [
        "Теперь сделаем то же самое на отложенных данных DF_predict"
      ]
    },
    {
      "cell_type": "code",
      "metadata": {
        "colab": {
          "base_uri": "https://localhost:8080/",
          "height": 282
        },
        "id": "3dlUyaUsLxX5",
        "outputId": "14a98dd5-7a1a-4bf7-eef9-53bb340d6c59"
      },
      "source": [
        "nom_col_names=['SEX', 'EDUCATION', 'MARRIAGE']\n",
        "\n",
        "recoded = one_hot.fit_transform(DF_predict[nom_col_names]).toarray()\n",
        "clmns = one_hot.get_feature_names(nom_col_names)\n",
        "df_dummy_nom = pd.DataFrame(recoded, columns=clmns)\n",
        "\n",
        "print(df_dummy_nom.shape)\n",
        "df_dummy_nom.head()"
      ],
      "execution_count": 14,
      "outputs": [
        {
          "output_type": "stream",
          "name": "stdout",
          "text": [
            "(4500, 13)\n"
          ]
        },
        {
          "output_type": "stream",
          "name": "stderr",
          "text": [
            "/usr/local/lib/python3.7/dist-packages/sklearn/utils/deprecation.py:87: FutureWarning: Function get_feature_names is deprecated; get_feature_names is deprecated in 1.0 and will be removed in 1.2. Please use get_feature_names_out instead.\n",
            "  warnings.warn(msg, category=FutureWarning)\n"
          ]
        },
        {
          "output_type": "execute_result",
          "data": {
            "text/html": [
              "<div>\n",
              "<style scoped>\n",
              "    .dataframe tbody tr th:only-of-type {\n",
              "        vertical-align: middle;\n",
              "    }\n",
              "\n",
              "    .dataframe tbody tr th {\n",
              "        vertical-align: top;\n",
              "    }\n",
              "\n",
              "    .dataframe thead th {\n",
              "        text-align: right;\n",
              "    }\n",
              "</style>\n",
              "<table border=\"1\" class=\"dataframe\">\n",
              "  <thead>\n",
              "    <tr style=\"text-align: right;\">\n",
              "      <th></th>\n",
              "      <th>SEX_1</th>\n",
              "      <th>SEX_2</th>\n",
              "      <th>EDUCATION_0</th>\n",
              "      <th>EDUCATION_1</th>\n",
              "      <th>EDUCATION_2</th>\n",
              "      <th>EDUCATION_3</th>\n",
              "      <th>EDUCATION_4</th>\n",
              "      <th>EDUCATION_5</th>\n",
              "      <th>EDUCATION_6</th>\n",
              "      <th>MARRIAGE_0</th>\n",
              "      <th>MARRIAGE_1</th>\n",
              "      <th>MARRIAGE_2</th>\n",
              "      <th>MARRIAGE_3</th>\n",
              "    </tr>\n",
              "  </thead>\n",
              "  <tbody>\n",
              "    <tr>\n",
              "      <th>0</th>\n",
              "      <td>0.0</td>\n",
              "      <td>1.0</td>\n",
              "      <td>0.0</td>\n",
              "      <td>0.0</td>\n",
              "      <td>1.0</td>\n",
              "      <td>0.0</td>\n",
              "      <td>0.0</td>\n",
              "      <td>0.0</td>\n",
              "      <td>0.0</td>\n",
              "      <td>0.0</td>\n",
              "      <td>0.0</td>\n",
              "      <td>1.0</td>\n",
              "      <td>0.0</td>\n",
              "    </tr>\n",
              "    <tr>\n",
              "      <th>1</th>\n",
              "      <td>1.0</td>\n",
              "      <td>0.0</td>\n",
              "      <td>0.0</td>\n",
              "      <td>0.0</td>\n",
              "      <td>1.0</td>\n",
              "      <td>0.0</td>\n",
              "      <td>0.0</td>\n",
              "      <td>0.0</td>\n",
              "      <td>0.0</td>\n",
              "      <td>0.0</td>\n",
              "      <td>1.0</td>\n",
              "      <td>0.0</td>\n",
              "      <td>0.0</td>\n",
              "    </tr>\n",
              "    <tr>\n",
              "      <th>2</th>\n",
              "      <td>0.0</td>\n",
              "      <td>1.0</td>\n",
              "      <td>0.0</td>\n",
              "      <td>0.0</td>\n",
              "      <td>0.0</td>\n",
              "      <td>1.0</td>\n",
              "      <td>0.0</td>\n",
              "      <td>0.0</td>\n",
              "      <td>0.0</td>\n",
              "      <td>0.0</td>\n",
              "      <td>1.0</td>\n",
              "      <td>0.0</td>\n",
              "      <td>0.0</td>\n",
              "    </tr>\n",
              "    <tr>\n",
              "      <th>3</th>\n",
              "      <td>0.0</td>\n",
              "      <td>1.0</td>\n",
              "      <td>0.0</td>\n",
              "      <td>0.0</td>\n",
              "      <td>0.0</td>\n",
              "      <td>1.0</td>\n",
              "      <td>0.0</td>\n",
              "      <td>0.0</td>\n",
              "      <td>0.0</td>\n",
              "      <td>0.0</td>\n",
              "      <td>0.0</td>\n",
              "      <td>0.0</td>\n",
              "      <td>1.0</td>\n",
              "    </tr>\n",
              "    <tr>\n",
              "      <th>4</th>\n",
              "      <td>1.0</td>\n",
              "      <td>0.0</td>\n",
              "      <td>0.0</td>\n",
              "      <td>1.0</td>\n",
              "      <td>0.0</td>\n",
              "      <td>0.0</td>\n",
              "      <td>0.0</td>\n",
              "      <td>0.0</td>\n",
              "      <td>0.0</td>\n",
              "      <td>0.0</td>\n",
              "      <td>1.0</td>\n",
              "      <td>0.0</td>\n",
              "      <td>0.0</td>\n",
              "    </tr>\n",
              "  </tbody>\n",
              "</table>\n",
              "</div>"
            ],
            "text/plain": [
              "   SEX_1  SEX_2  EDUCATION_0  ...  MARRIAGE_1  MARRIAGE_2  MARRIAGE_3\n",
              "0    0.0    1.0          0.0  ...         0.0         1.0         0.0\n",
              "1    1.0    0.0          0.0  ...         1.0         0.0         0.0\n",
              "2    0.0    1.0          0.0  ...         1.0         0.0         0.0\n",
              "3    0.0    1.0          0.0  ...         0.0         0.0         1.0\n",
              "4    1.0    0.0          0.0  ...         1.0         0.0         0.0\n",
              "\n",
              "[5 rows x 13 columns]"
            ]
          },
          "metadata": {},
          "execution_count": 14
        }
      ]
    },
    {
      "cell_type": "markdown",
      "metadata": {
        "id": "fkbU5-EYL_dT"
      },
      "source": [
        "Соединим и удалим ненужное"
      ]
    },
    {
      "cell_type": "code",
      "metadata": {
        "colab": {
          "base_uri": "https://localhost:8080/",
          "height": 264
        },
        "id": "e37ndcxBMDaR",
        "outputId": "249e4dc0-937f-49a8-eb0f-d02164dd0226"
      },
      "source": [
        "DF_predict = pd.concat([DF_predict.loc[:, DF_predict.dtypes=='int64'].reset_index(), df_dummy_nom], axis=1)\n",
        "DF_predict = DF_predict.drop(['SEX', 'EDUCATION', 'MARRIAGE', 'index'], axis=1)\n",
        "print('Размерность тестового фрейма после перекодировки:', DF_predict.shape)\n",
        "\n",
        "print()\n",
        "DF_predict.head()"
      ],
      "execution_count": 15,
      "outputs": [
        {
          "output_type": "stream",
          "name": "stdout",
          "text": [
            "Размерность тестового фрейма после перекодировки: (4500, 34)\n",
            "\n"
          ]
        },
        {
          "output_type": "execute_result",
          "data": {
            "text/html": [
              "<div>\n",
              "<style scoped>\n",
              "    .dataframe tbody tr th:only-of-type {\n",
              "        vertical-align: middle;\n",
              "    }\n",
              "\n",
              "    .dataframe tbody tr th {\n",
              "        vertical-align: top;\n",
              "    }\n",
              "\n",
              "    .dataframe thead th {\n",
              "        text-align: right;\n",
              "    }\n",
              "</style>\n",
              "<table border=\"1\" class=\"dataframe\">\n",
              "  <thead>\n",
              "    <tr style=\"text-align: right;\">\n",
              "      <th></th>\n",
              "      <th>LIMIT_BAL</th>\n",
              "      <th>AGE</th>\n",
              "      <th>PAY_0</th>\n",
              "      <th>PAY_2</th>\n",
              "      <th>PAY_3</th>\n",
              "      <th>PAY_4</th>\n",
              "      <th>PAY_5</th>\n",
              "      <th>PAY_6</th>\n",
              "      <th>BILL_AMT1</th>\n",
              "      <th>BILL_AMT2</th>\n",
              "      <th>BILL_AMT3</th>\n",
              "      <th>BILL_AMT4</th>\n",
              "      <th>BILL_AMT5</th>\n",
              "      <th>BILL_AMT6</th>\n",
              "      <th>PAY_AMT1</th>\n",
              "      <th>PAY_AMT2</th>\n",
              "      <th>PAY_AMT3</th>\n",
              "      <th>PAY_AMT4</th>\n",
              "      <th>PAY_AMT5</th>\n",
              "      <th>PAY_AMT6</th>\n",
              "      <th>Y</th>\n",
              "      <th>SEX_1</th>\n",
              "      <th>SEX_2</th>\n",
              "      <th>EDUCATION_0</th>\n",
              "      <th>EDUCATION_1</th>\n",
              "      <th>EDUCATION_2</th>\n",
              "      <th>EDUCATION_3</th>\n",
              "      <th>EDUCATION_4</th>\n",
              "      <th>EDUCATION_5</th>\n",
              "      <th>EDUCATION_6</th>\n",
              "      <th>MARRIAGE_0</th>\n",
              "      <th>MARRIAGE_1</th>\n",
              "      <th>MARRIAGE_2</th>\n",
              "      <th>MARRIAGE_3</th>\n",
              "    </tr>\n",
              "  </thead>\n",
              "  <tbody>\n",
              "    <tr>\n",
              "      <th>0</th>\n",
              "      <td>90000</td>\n",
              "      <td>34</td>\n",
              "      <td>0</td>\n",
              "      <td>0</td>\n",
              "      <td>0</td>\n",
              "      <td>0</td>\n",
              "      <td>0</td>\n",
              "      <td>0</td>\n",
              "      <td>29239</td>\n",
              "      <td>14027</td>\n",
              "      <td>13559</td>\n",
              "      <td>14331</td>\n",
              "      <td>14948</td>\n",
              "      <td>15549</td>\n",
              "      <td>1518</td>\n",
              "      <td>1500</td>\n",
              "      <td>1000</td>\n",
              "      <td>1000</td>\n",
              "      <td>1000</td>\n",
              "      <td>5000</td>\n",
              "      <td>0</td>\n",
              "      <td>0.0</td>\n",
              "      <td>1.0</td>\n",
              "      <td>0.0</td>\n",
              "      <td>0.0</td>\n",
              "      <td>1.0</td>\n",
              "      <td>0.0</td>\n",
              "      <td>0.0</td>\n",
              "      <td>0.0</td>\n",
              "      <td>0.0</td>\n",
              "      <td>0.0</td>\n",
              "      <td>0.0</td>\n",
              "      <td>1.0</td>\n",
              "      <td>0.0</td>\n",
              "    </tr>\n",
              "    <tr>\n",
              "      <th>1</th>\n",
              "      <td>50000</td>\n",
              "      <td>57</td>\n",
              "      <td>-1</td>\n",
              "      <td>0</td>\n",
              "      <td>-1</td>\n",
              "      <td>0</td>\n",
              "      <td>0</td>\n",
              "      <td>0</td>\n",
              "      <td>8617</td>\n",
              "      <td>5670</td>\n",
              "      <td>35835</td>\n",
              "      <td>20940</td>\n",
              "      <td>19146</td>\n",
              "      <td>19131</td>\n",
              "      <td>2000</td>\n",
              "      <td>36681</td>\n",
              "      <td>10000</td>\n",
              "      <td>9000</td>\n",
              "      <td>689</td>\n",
              "      <td>679</td>\n",
              "      <td>0</td>\n",
              "      <td>1.0</td>\n",
              "      <td>0.0</td>\n",
              "      <td>0.0</td>\n",
              "      <td>0.0</td>\n",
              "      <td>1.0</td>\n",
              "      <td>0.0</td>\n",
              "      <td>0.0</td>\n",
              "      <td>0.0</td>\n",
              "      <td>0.0</td>\n",
              "      <td>0.0</td>\n",
              "      <td>1.0</td>\n",
              "      <td>0.0</td>\n",
              "      <td>0.0</td>\n",
              "    </tr>\n",
              "    <tr>\n",
              "      <th>2</th>\n",
              "      <td>140000</td>\n",
              "      <td>28</td>\n",
              "      <td>0</td>\n",
              "      <td>0</td>\n",
              "      <td>2</td>\n",
              "      <td>0</td>\n",
              "      <td>0</td>\n",
              "      <td>0</td>\n",
              "      <td>11285</td>\n",
              "      <td>14096</td>\n",
              "      <td>12108</td>\n",
              "      <td>12211</td>\n",
              "      <td>11793</td>\n",
              "      <td>3719</td>\n",
              "      <td>3329</td>\n",
              "      <td>0</td>\n",
              "      <td>432</td>\n",
              "      <td>1000</td>\n",
              "      <td>1000</td>\n",
              "      <td>1000</td>\n",
              "      <td>0</td>\n",
              "      <td>0.0</td>\n",
              "      <td>1.0</td>\n",
              "      <td>0.0</td>\n",
              "      <td>0.0</td>\n",
              "      <td>0.0</td>\n",
              "      <td>1.0</td>\n",
              "      <td>0.0</td>\n",
              "      <td>0.0</td>\n",
              "      <td>0.0</td>\n",
              "      <td>0.0</td>\n",
              "      <td>1.0</td>\n",
              "      <td>0.0</td>\n",
              "      <td>0.0</td>\n",
              "    </tr>\n",
              "    <tr>\n",
              "      <th>3</th>\n",
              "      <td>50000</td>\n",
              "      <td>23</td>\n",
              "      <td>1</td>\n",
              "      <td>2</td>\n",
              "      <td>0</td>\n",
              "      <td>0</td>\n",
              "      <td>0</td>\n",
              "      <td>0</td>\n",
              "      <td>50614</td>\n",
              "      <td>29173</td>\n",
              "      <td>28116</td>\n",
              "      <td>28771</td>\n",
              "      <td>29531</td>\n",
              "      <td>30211</td>\n",
              "      <td>0</td>\n",
              "      <td>1500</td>\n",
              "      <td>1100</td>\n",
              "      <td>1200</td>\n",
              "      <td>1300</td>\n",
              "      <td>1100</td>\n",
              "      <td>0</td>\n",
              "      <td>0.0</td>\n",
              "      <td>1.0</td>\n",
              "      <td>0.0</td>\n",
              "      <td>0.0</td>\n",
              "      <td>0.0</td>\n",
              "      <td>1.0</td>\n",
              "      <td>0.0</td>\n",
              "      <td>0.0</td>\n",
              "      <td>0.0</td>\n",
              "      <td>0.0</td>\n",
              "      <td>0.0</td>\n",
              "      <td>0.0</td>\n",
              "      <td>1.0</td>\n",
              "    </tr>\n",
              "    <tr>\n",
              "      <th>4</th>\n",
              "      <td>320000</td>\n",
              "      <td>49</td>\n",
              "      <td>0</td>\n",
              "      <td>0</td>\n",
              "      <td>0</td>\n",
              "      <td>-1</td>\n",
              "      <td>-1</td>\n",
              "      <td>-1</td>\n",
              "      <td>253286</td>\n",
              "      <td>246536</td>\n",
              "      <td>194663</td>\n",
              "      <td>70074</td>\n",
              "      <td>5856</td>\n",
              "      <td>195599</td>\n",
              "      <td>10358</td>\n",
              "      <td>10000</td>\n",
              "      <td>75940</td>\n",
              "      <td>20000</td>\n",
              "      <td>195599</td>\n",
              "      <td>50000</td>\n",
              "      <td>0</td>\n",
              "      <td>1.0</td>\n",
              "      <td>0.0</td>\n",
              "      <td>0.0</td>\n",
              "      <td>1.0</td>\n",
              "      <td>0.0</td>\n",
              "      <td>0.0</td>\n",
              "      <td>0.0</td>\n",
              "      <td>0.0</td>\n",
              "      <td>0.0</td>\n",
              "      <td>0.0</td>\n",
              "      <td>1.0</td>\n",
              "      <td>0.0</td>\n",
              "      <td>0.0</td>\n",
              "    </tr>\n",
              "  </tbody>\n",
              "</table>\n",
              "</div>"
            ],
            "text/plain": [
              "   LIMIT_BAL  AGE  PAY_0  PAY_2  ...  MARRIAGE_0  MARRIAGE_1  MARRIAGE_2  MARRIAGE_3\n",
              "0      90000   34      0      0  ...         0.0         0.0         1.0         0.0\n",
              "1      50000   57     -1      0  ...         0.0         1.0         0.0         0.0\n",
              "2     140000   28      0      0  ...         0.0         1.0         0.0         0.0\n",
              "3      50000   23      1      2  ...         0.0         0.0         0.0         1.0\n",
              "4     320000   49      0      0  ...         0.0         1.0         0.0         0.0\n",
              "\n",
              "[5 rows x 34 columns]"
            ]
          },
          "metadata": {},
          "execution_count": 15
        }
      ]
    },
    {
      "cell_type": "markdown",
      "metadata": {
        "id": "USNmRmndTLBg"
      },
      "source": [
        "#Стандартизация и переход к главным компонентам"
      ]
    },
    {
      "cell_type": "code",
      "metadata": {
        "id": "k6TJTYgmPowp"
      },
      "source": [
        "DF = DF_num"
      ],
      "execution_count": 61,
      "outputs": []
    },
    {
      "cell_type": "code",
      "metadata": {
        "id": "n4JQhA-hMEEq",
        "colab": {
          "base_uri": "https://localhost:8080/"
        },
        "outputId": "0830bf14-7908-413b-b1d8-972f4af28186"
      },
      "source": [
        "# стандартизация\n",
        "sc=StandardScaler()\n",
        "X_train_std=sc.fit_transform(DF.iloc[:,2:].values)\n",
        "# оцениваем объяснённую главными компонентами дисперсию\n",
        "pca=PCA()\n",
        "X_train_pca=pca.fit_transform(X_train_std)\n",
        "# считаем доли объяснённой дисперсии\n",
        "frac_var_expl=pca.explained_variance_ratio_\n",
        "print('Доли объяснённой дисперсии по компонентам в PLS:\\n',\n",
        "      np.around(frac_var_expl,3),\n",
        "      '\\nОбщая сумма долей:',np.around(sum(frac_var_expl),3))"
      ],
      "execution_count": 63,
      "outputs": [
        {
          "output_type": "stream",
          "name": "stdout",
          "text": [
            "Доли объяснённой дисперсии по компонентам в PLS:\n",
            " [0.204 0.122 0.068 0.061 0.05  0.048 0.038 0.032 0.032 0.031 0.031 0.031\n",
            " 0.03  0.029 0.028 0.027 0.027 0.023 0.022 0.02  0.012 0.008 0.008 0.006\n",
            " 0.004 0.002 0.001 0.001 0.001 0.    0.    0.   ] \n",
            "Общая сумма долей: 1.0\n"
          ]
        }
      ]
    },
    {
      "cell_type": "markdown",
      "metadata": {
        "id": "WsPM62b92YSj"
      },
      "source": [
        "Таким образом, первые 6 главных компонент объясняют 55.3% разброса 22 объясняющих переменных.Теперь объединим функции-преобразователи и оценщики в конвейер с помощью Pipeline и оценим точность логистической регрессии с помощью перекрёстной проверки."
      ]
    },
    {
      "cell_type": "code",
      "metadata": {
        "id": "1734hXK52D_a"
      },
      "source": [
        "# данные для обучения моделей\n",
        "X_train=DF.drop(['Y'], axis=1)\n",
        "y_train=DF['Y']"
      ],
      "execution_count": 64,
      "outputs": []
    },
    {
      "cell_type": "markdown",
      "metadata": {
        "id": "NUgiN9hz--hD"
      },
      "source": [
        "1 пайплайн с Логистической регрессией"
      ]
    },
    {
      "cell_type": "code",
      "metadata": {
        "colab": {
          "base_uri": "https://localhost:8080/"
        },
        "id": "lE1N7RlGE_Z0",
        "outputId": "b479dcf8-6f97-4ded-c93e-b6493f4313d7"
      },
      "source": [
        "pipe_lr = make_pipeline(StandardScaler(), LogisticRegression(random_state=my_seed))\n",
        "\n",
        "param_grid = {\"logisticregression__C\" : [0.0001, 0.001, 0.01, 0.1, 1, 10, 100, 1000, 10000], \"logisticregression__penalty\" : [\"l1\", \"l2\"]}\n",
        "kfold = KFold(n_splits = 5, random_state = my_seed, shuffle = True)\n",
        "\n",
        "gs = GridSearchCV(estimator=pipe_lr, param_grid = param_grid, scoring = 'accuracy', refit=True, cv = kfold, n_jobs=-1)\n",
        "\n",
        "tic = time.perf_counter()\n",
        "gs = gs.fit(X_train,y_train)\n",
        "\n",
        "toc = time.perf_counter()\n",
        "print(f\"Сеточный поиск занял {toc-tic:0.2f} секунд\",sep='')"
      ],
      "execution_count": 65,
      "outputs": [
        {
          "output_type": "stream",
          "name": "stderr",
          "text": [
            "/usr/local/lib/python3.7/dist-packages/sklearn/model_selection/_validation.py:372: FitFailedWarning: \n",
            "45 fits failed out of a total of 90.\n",
            "The score on these train-test partitions for these parameters will be set to nan.\n",
            "If these failures are not expected, you can try to debug them by setting error_score='raise'.\n",
            "\n",
            "Below are more details about the failures:\n",
            "--------------------------------------------------------------------------------\n",
            "45 fits failed with the following error:\n",
            "Traceback (most recent call last):\n",
            "  File \"/usr/local/lib/python3.7/dist-packages/sklearn/model_selection/_validation.py\", line 681, in _fit_and_score\n",
            "    estimator.fit(X_train, y_train, **fit_params)\n",
            "  File \"/usr/local/lib/python3.7/dist-packages/sklearn/pipeline.py\", line 394, in fit\n",
            "    self._final_estimator.fit(Xt, y, **fit_params_last_step)\n",
            "  File \"/usr/local/lib/python3.7/dist-packages/sklearn/linear_model/_logistic.py\", line 1461, in fit\n",
            "    solver = _check_solver(self.solver, self.penalty, self.dual)\n",
            "  File \"/usr/local/lib/python3.7/dist-packages/sklearn/linear_model/_logistic.py\", line 449, in _check_solver\n",
            "    % (solver, penalty)\n",
            "ValueError: Solver lbfgs supports only 'l2' or 'none' penalties, got l1 penalty.\n",
            "\n",
            "  warnings.warn(some_fits_failed_message, FitFailedWarning)\n",
            "/usr/local/lib/python3.7/dist-packages/sklearn/model_selection/_search.py:972: UserWarning: One or more of the test scores are non-finite: [       nan 0.7825098         nan 0.80290196        nan 0.81027451\n",
            "        nan 0.81117647        nan 0.81137255        nan 0.81145098\n",
            "        nan 0.81145098        nan 0.81145098        nan 0.81145098]\n",
            "  category=UserWarning,\n"
          ]
        },
        {
          "output_type": "stream",
          "name": "stdout",
          "text": [
            "Сеточный поиск занял 8.72 секунд\n"
          ]
        }
      ]
    },
    {
      "cell_type": "markdown",
      "metadata": {
        "id": "H-5uu5uWHWub"
      },
      "source": [
        "Варнинги говорят о том, что некоторые параметры не могут быть использованы вместе и GridSearch автоматически их пропускает, присваивая им score = NAN"
      ]
    },
    {
      "cell_type": "code",
      "metadata": {
        "colab": {
          "base_uri": "https://localhost:8080/"
        },
        "id": "TTtqWS81Gxrl",
        "outputId": "8ce56fdd-fde6-4e55-f859-3c5e1303c8c0"
      },
      "source": [
        "print(f'Best Score for pipeline with Logistic Regression: {np.around(gs.best_score_,3)}')"
      ],
      "execution_count": 66,
      "outputs": [
        {
          "output_type": "stream",
          "name": "stdout",
          "text": [
            "Best Score for pipeline with Logistic Regression: 0.811\n"
          ]
        }
      ]
    },
    {
      "cell_type": "code",
      "metadata": {
        "colab": {
          "base_uri": "https://localhost:8080/"
        },
        "id": "dNd5K_cCGymT",
        "outputId": "505d24ee-c0ee-4147-9f6b-a9a77d1b8e79"
      },
      "source": [
        "print(\"Penalty =\", gs.best_estimator_.get_params()['logisticregression__penalty'])\n",
        "print(\"C = \", gs.best_estimator_.get_params()['logisticregression__C'])\n",
        "\n",
        "\n",
        "print(\"Params\", gs.cv_results_['params'])\n",
        "\n",
        "print(\"Mean Test Scores\", gs.cv_results_['mean_test_score'])"
      ],
      "execution_count": 67,
      "outputs": [
        {
          "output_type": "stream",
          "name": "stdout",
          "text": [
            "Penalty = l2\n",
            "C =  10\n",
            "Params [{'logisticregression__C': 0.0001, 'logisticregression__penalty': 'l1'}, {'logisticregression__C': 0.0001, 'logisticregression__penalty': 'l2'}, {'logisticregression__C': 0.001, 'logisticregression__penalty': 'l1'}, {'logisticregression__C': 0.001, 'logisticregression__penalty': 'l2'}, {'logisticregression__C': 0.01, 'logisticregression__penalty': 'l1'}, {'logisticregression__C': 0.01, 'logisticregression__penalty': 'l2'}, {'logisticregression__C': 0.1, 'logisticregression__penalty': 'l1'}, {'logisticregression__C': 0.1, 'logisticregression__penalty': 'l2'}, {'logisticregression__C': 1, 'logisticregression__penalty': 'l1'}, {'logisticregression__C': 1, 'logisticregression__penalty': 'l2'}, {'logisticregression__C': 10, 'logisticregression__penalty': 'l1'}, {'logisticregression__C': 10, 'logisticregression__penalty': 'l2'}, {'logisticregression__C': 100, 'logisticregression__penalty': 'l1'}, {'logisticregression__C': 100, 'logisticregression__penalty': 'l2'}, {'logisticregression__C': 1000, 'logisticregression__penalty': 'l1'}, {'logisticregression__C': 1000, 'logisticregression__penalty': 'l2'}, {'logisticregression__C': 10000, 'logisticregression__penalty': 'l1'}, {'logisticregression__C': 10000, 'logisticregression__penalty': 'l2'}]\n",
            "Mean Test Scores [       nan 0.7825098         nan 0.80290196        nan 0.81027451\n",
            "        nan 0.81117647        nan 0.81137255        nan 0.81145098\n",
            "        nan 0.81145098        nan 0.81145098        nan 0.81145098]\n"
          ]
        }
      ]
    },
    {
      "cell_type": "markdown",
      "metadata": {
        "id": "ZQeZ16XaABSw"
      },
      "source": [
        "2 пайплайн с Random Forest"
      ]
    },
    {
      "cell_type": "code",
      "metadata": {
        "colab": {
          "base_uri": "https://localhost:8080/"
        },
        "id": "wzJsvGxvDkkH",
        "outputId": "6cd8a5ae-a786-4190-b93f-b1a82bef53e4"
      },
      "source": [
        "from sklearn.ensemble import RandomForestClassifier\n",
        "\n",
        "pipe_rf = make_pipeline(StandardScaler(), RandomForestClassifier(random_state=my_seed, max_features='auto'))\n",
        "\n",
        "param_grid = { \n",
        "    'randomforestclassifier__n_estimators': [200, 500],\n",
        "    'randomforestclassifier__max_depth' : [5, 7, 9],\n",
        "    'randomforestclassifier__criterion' :['gini', 'entropy']\n",
        "}\n",
        "\n",
        "kfold = KFold(n_splits = 5, random_state = my_seed, shuffle = True)\n",
        "\n",
        "gs = GridSearchCV(estimator=pipe_rf, param_grid = param_grid, scoring = 'accuracy', refit = True, cv = kfold, n_jobs = -1)\n",
        "\n",
        "tic = time.perf_counter()\n",
        "gs = gs.fit(X_train,y_train)\n",
        "\n",
        "toc = time.perf_counter()\n",
        "print(f\"Сеточный поиск занял {toc-tic:0.2f} секунд\",sep='')"
      ],
      "execution_count": 79,
      "outputs": [
        {
          "output_type": "stream",
          "name": "stdout",
          "text": [
            "Сеточный поиск занял 479.31 секунд\n"
          ]
        }
      ]
    },
    {
      "cell_type": "code",
      "metadata": {
        "colab": {
          "base_uri": "https://localhost:8080/"
        },
        "id": "-DB1Y0cTGUVM",
        "outputId": "8afb18b5-1286-45ff-8598-0fdcfab87de3"
      },
      "source": [
        "print(f'Best Score for pipeline with Random Forest:: {np.around(gs.best_score_,3)}')"
      ],
      "execution_count": 80,
      "outputs": [
        {
          "output_type": "stream",
          "name": "stdout",
          "text": [
            "Best Score for pipeline with Random Forest:: 0.821\n"
          ]
        }
      ]
    },
    {
      "cell_type": "code",
      "metadata": {
        "colab": {
          "base_uri": "https://localhost:8080/"
        },
        "id": "Uvxs5bVYGVBW",
        "outputId": "7a6f43a6-1d98-4a14-e070-e0ffb782019d"
      },
      "source": [
        "print(gs.best_estimator_.get_params()['randomforestclassifier__n_estimators'])\n",
        "print(gs.best_estimator_.get_params()['randomforestclassifier__max_features'])\n",
        "print(gs.best_estimator_.get_params()['randomforestclassifier__max_depth'])\n",
        "print(gs.best_estimator_.get_params()['randomforestclassifier__criterion'])\n",
        "\n",
        "\n",
        "print(gs.cv_results_['params'])\n",
        "\n",
        "print(gs.cv_results_['mean_test_score'])"
      ],
      "execution_count": 81,
      "outputs": [
        {
          "output_type": "stream",
          "name": "stdout",
          "text": [
            "200\n",
            "auto\n",
            "9\n",
            "gini\n",
            "[{'randomforestclassifier__criterion': 'gini', 'randomforestclassifier__max_depth': 5, 'randomforestclassifier__n_estimators': 200}, {'randomforestclassifier__criterion': 'gini', 'randomforestclassifier__max_depth': 5, 'randomforestclassifier__n_estimators': 500}, {'randomforestclassifier__criterion': 'gini', 'randomforestclassifier__max_depth': 7, 'randomforestclassifier__n_estimators': 200}, {'randomforestclassifier__criterion': 'gini', 'randomforestclassifier__max_depth': 7, 'randomforestclassifier__n_estimators': 500}, {'randomforestclassifier__criterion': 'gini', 'randomforestclassifier__max_depth': 9, 'randomforestclassifier__n_estimators': 200}, {'randomforestclassifier__criterion': 'gini', 'randomforestclassifier__max_depth': 9, 'randomforestclassifier__n_estimators': 500}, {'randomforestclassifier__criterion': 'entropy', 'randomforestclassifier__max_depth': 5, 'randomforestclassifier__n_estimators': 200}, {'randomforestclassifier__criterion': 'entropy', 'randomforestclassifier__max_depth': 5, 'randomforestclassifier__n_estimators': 500}, {'randomforestclassifier__criterion': 'entropy', 'randomforestclassifier__max_depth': 7, 'randomforestclassifier__n_estimators': 200}, {'randomforestclassifier__criterion': 'entropy', 'randomforestclassifier__max_depth': 7, 'randomforestclassifier__n_estimators': 500}, {'randomforestclassifier__criterion': 'entropy', 'randomforestclassifier__max_depth': 9, 'randomforestclassifier__n_estimators': 200}, {'randomforestclassifier__criterion': 'entropy', 'randomforestclassifier__max_depth': 9, 'randomforestclassifier__n_estimators': 500}]\n",
            "[0.81403922 0.81345098 0.81980392 0.81901961 0.82070588 0.82039216\n",
            " 0.81329412 0.81286275 0.81984314 0.81807843 0.82054902 0.81988235]\n"
          ]
        }
      ]
    },
    {
      "cell_type": "markdown",
      "metadata": {
        "id": "i-XU07tD_EVo"
      },
      "source": [
        "3 пайплайн с KNN\n",
        "\n",
        "Построим несколько вариантов модели KNN с различным количество соседей"
      ]
    },
    {
      "cell_type": "code",
      "metadata": {
        "colab": {
          "base_uri": "https://localhost:8080/"
        },
        "id": "055cwKNA-391",
        "outputId": "acb5291e-45f1-4553-cdb4-9faf0ddd4950"
      },
      "source": [
        "from sklearn.neighbors import KNeighborsClassifier\n",
        "\n",
        "pipe_knn = make_pipeline(StandardScaler(), PCA(n_components = 6), KNeighborsClassifier())\n",
        "\n",
        "neighbours = [3, 4, 5, 6, 7, 8 ,11, 12, 13, 14, 15, 25, 26, 27, 28, 29, 30, 31, 32, 33, 34, 35, 36, 37, 38]\n",
        "param_grid=[{'kneighborsclassifier__n_neighbors' : neighbours}]\n",
        "\n",
        "\n",
        "kfold=KFold(n_splits=5,random_state=my_seed,shuffle=True)\n",
        "\n",
        "gs=GridSearchCV(estimator=pipe_knn, param_grid = param_grid, scoring = 'accuracy', refit=True, cv=kfold, n_jobs=-1)\n",
        "\n",
        "tic = time.perf_counter()\n",
        "# запускаем сеточный поиск\n",
        "gs=gs.fit(X_train,y_train)\n",
        "# таймер\n",
        "toc=time.perf_counter()\n",
        "print(f\"Сеточный поиск занял {toc-tic:0.2f} секунд\",sep='')"
      ],
      "execution_count": 74,
      "outputs": [
        {
          "output_type": "stream",
          "name": "stdout",
          "text": [
            "Сеточный поиск занял 38.65 секунд\n"
          ]
        }
      ]
    },
    {
      "cell_type": "code",
      "metadata": {
        "colab": {
          "base_uri": "https://localhost:8080/"
        },
        "id": "uOeEhs18CZpY",
        "outputId": "3f2d8071-73a4-420b-ef75-71c887bb7a81"
      },
      "source": [
        "print(f'Best Score for pipeline with KNN: {np.around(gs.best_score_,3)}')"
      ],
      "execution_count": 75,
      "outputs": [
        {
          "output_type": "stream",
          "name": "stdout",
          "text": [
            "Best Score for pipeline with KNN: 0.804\n"
          ]
        }
      ]
    },
    {
      "cell_type": "code",
      "metadata": {
        "colab": {
          "base_uri": "https://localhost:8080/"
        },
        "id": "9nYtFL47Bzcb",
        "outputId": "8c6bd107-cabe-42d8-fb05-0665c89bf218"
      },
      "source": [
        "gs.best_estimator_.get_params()['kneighborsclassifier__n_neighbors']"
      ],
      "execution_count": 76,
      "outputs": [
        {
          "output_type": "execute_result",
          "data": {
            "text/plain": [
              "32"
            ]
          },
          "metadata": {},
          "execution_count": 76
        }
      ]
    },
    {
      "cell_type": "code",
      "metadata": {
        "colab": {
          "base_uri": "https://localhost:8080/"
        },
        "id": "1fxXTjpbCsX0",
        "outputId": "d8888bbf-18b7-4ce6-8e3b-565236e39a1f"
      },
      "source": [
        "gs.cv_results_['params']"
      ],
      "execution_count": 77,
      "outputs": [
        {
          "output_type": "execute_result",
          "data": {
            "text/plain": [
              "[{'kneighborsclassifier__n_neighbors': 3},\n",
              " {'kneighborsclassifier__n_neighbors': 4},\n",
              " {'kneighborsclassifier__n_neighbors': 5},\n",
              " {'kneighborsclassifier__n_neighbors': 6},\n",
              " {'kneighborsclassifier__n_neighbors': 7},\n",
              " {'kneighborsclassifier__n_neighbors': 8},\n",
              " {'kneighborsclassifier__n_neighbors': 11},\n",
              " {'kneighborsclassifier__n_neighbors': 12},\n",
              " {'kneighborsclassifier__n_neighbors': 13},\n",
              " {'kneighborsclassifier__n_neighbors': 14},\n",
              " {'kneighborsclassifier__n_neighbors': 15},\n",
              " {'kneighborsclassifier__n_neighbors': 25},\n",
              " {'kneighborsclassifier__n_neighbors': 26},\n",
              " {'kneighborsclassifier__n_neighbors': 27},\n",
              " {'kneighborsclassifier__n_neighbors': 28},\n",
              " {'kneighborsclassifier__n_neighbors': 29},\n",
              " {'kneighborsclassifier__n_neighbors': 30},\n",
              " {'kneighborsclassifier__n_neighbors': 31},\n",
              " {'kneighborsclassifier__n_neighbors': 32},\n",
              " {'kneighborsclassifier__n_neighbors': 33},\n",
              " {'kneighborsclassifier__n_neighbors': 34},\n",
              " {'kneighborsclassifier__n_neighbors': 35},\n",
              " {'kneighborsclassifier__n_neighbors': 36},\n",
              " {'kneighborsclassifier__n_neighbors': 37},\n",
              " {'kneighborsclassifier__n_neighbors': 38}]"
            ]
          },
          "metadata": {},
          "execution_count": 77
        }
      ]
    },
    {
      "cell_type": "code",
      "metadata": {
        "colab": {
          "base_uri": "https://localhost:8080/"
        },
        "id": "M6H9SfqACp1t",
        "outputId": "4aba77d0-a92d-4235-e27b-dfd9cf92379f"
      },
      "source": [
        "gs.cv_results_['mean_test_score']"
      ],
      "execution_count": 78,
      "outputs": [
        {
          "output_type": "execute_result",
          "data": {
            "text/plain": [
              "array([0.77078431, 0.78913725, 0.78305882, 0.79321569, 0.79180392,\n",
              "       0.79498039, 0.79776471, 0.79807843, 0.79827451, 0.79960784,\n",
              "       0.79976471, 0.80247059, 0.80356863, 0.80317647, 0.80301961,\n",
              "       0.80337255, 0.80360784, 0.80352941, 0.80431373, 0.80341176,\n",
              "       0.80321569, 0.8032549 , 0.80376471, 0.80376471, 0.80337255])"
            ]
          },
          "metadata": {},
          "execution_count": 78
        }
      ]
    },
    {
      "cell_type": "markdown",
      "metadata": {
        "id": "LX8jTWluJmYQ"
      },
      "source": [
        "PREDICT"
      ]
    },
    {
      "cell_type": "markdown",
      "metadata": {
        "id": "FVLDHrKjN9TF"
      },
      "source": [
        "Лучшй пайплайн моделей оказался Random Forest и показало 82% accuracy на train"
      ]
    },
    {
      "cell_type": "code",
      "metadata": {
        "id": "7QyN8fV1OPSm"
      },
      "source": [
        "X_test = DF_predict.drop(['Y'], axis = 1)\n",
        "y_test = DF_predict['Y']"
      ],
      "execution_count": 56,
      "outputs": []
    },
    {
      "cell_type": "code",
      "metadata": {
        "colab": {
          "base_uri": "https://localhost:8080/"
        },
        "id": "IY23TESnJndd",
        "outputId": "05f15edf-2d3c-4f30-a475-60ea1257023d"
      },
      "source": [
        "from sklearn.metrics import accuracy_score\n",
        "\n",
        "y_pred = gs.best_estimator_.predict(X_test)\n",
        "\n",
        "print(f'ACCURACY FOR THE BEST MODEL IS : {accuracy_score(y_test, y_pred)}')\n",
        "print(classification_report(DF_predict['Y'], y_pred))"
      ],
      "execution_count": 83,
      "outputs": [
        {
          "output_type": "stream",
          "name": "stdout",
          "text": [
            "ACCURACY FOR THE BEST MODEL IS : 0.818\n",
            "              precision    recall  f1-score   support\n",
            "\n",
            "           0       0.83      0.96      0.89      3489\n",
            "           1       0.70      0.34      0.45      1011\n",
            "\n",
            "    accuracy                           0.82      4500\n",
            "   macro avg       0.76      0.65      0.67      4500\n",
            "weighted avg       0.80      0.82      0.79      4500\n",
            "\n"
          ]
        }
      ]
    },
    {
      "cell_type": "markdown",
      "metadata": {
        "id": "Arc4uqbbT30f"
      },
      "source": [
        "К сожалению точности в 96% не получилось достичь, самая лучшая точность это 82%, которую мне получиось достичь на тесте"
      ]
    },
    {
      "cell_type": "code",
      "metadata": {
        "id": "YBaEEXwYOJFE"
      },
      "source": [
        ""
      ],
      "execution_count": null,
      "outputs": []
    }
  ]
}