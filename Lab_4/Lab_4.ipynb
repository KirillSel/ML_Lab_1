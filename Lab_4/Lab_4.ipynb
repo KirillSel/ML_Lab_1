{
  "nbformat": 4,
  "nbformat_minor": 5,
  "metadata": {
    "colab": {
      "name": "Lab_4.ipynb",
      "provenance": [],
      "collapsed_sections": [
        "af39298f"
      ]
    },
    "kernelspec": {
      "display_name": "Python 3",
      "language": "python",
      "name": "python3"
    },
    "language_info": {
      "codemirror_mode": {
        "name": "ipython",
        "version": 3
      },
      "file_extension": ".py",
      "mimetype": "text/x-python",
      "name": "python",
      "nbconvert_exporter": "python",
      "pygments_lexer": "ipython3",
      "version": "3.8.8"
    }
  },
  "cells": [
    {
      "cell_type": "markdown",
      "metadata": {
        "id": "6b8b1c8d"
      },
      "source": [
        "`Дисциплина: Методы и технологии машинного обучения`   \n",
        "`Уровень подготовки: бакалавриат`   \n",
        "`Направление подготовки: 01.03.02 Прикладная математика и информатика`   \n",
        "`Семестр: осень 2021/2022`   "
      ],
      "id": "6b8b1c8d"
    },
    {
      "cell_type": "code",
      "metadata": {
        "colab": {
          "base_uri": "https://localhost:8080/",
          "height": 431
        },
        "id": "8c915500",
        "outputId": "be267872-1675-4b8a-e7dd-61c4f0435a73"
      },
      "source": [
        "# настройка ширины страницы блокнота .......................................\n",
        "from IPython.core.display import display, HTML\n",
        "display(HTML(\"<style>.container { width:80% !important; }</style>\"))\n",
        "\n",
        "\n",
        "!pip install watermark\n",
        "%load_ext watermark"
      ],
      "id": "8c915500",
      "execution_count": 1,
      "outputs": [
        {
          "output_type": "display_data",
          "data": {
            "text/html": [
              "<style>.container { width:80% !important; }</style>"
            ],
            "text/plain": [
              "<IPython.core.display.HTML object>"
            ]
          },
          "metadata": {}
        },
        {
          "output_type": "stream",
          "name": "stdout",
          "text": [
            "Collecting watermark\n",
            "  Downloading watermark-2.2.0-py2.py3-none-any.whl (6.8 kB)\n",
            "Collecting importlib-metadata<3.0\n",
            "  Downloading importlib_metadata-2.1.2-py2.py3-none-any.whl (10 kB)\n",
            "Requirement already satisfied: ipython in /usr/local/lib/python3.7/dist-packages (from watermark) (5.5.0)\n",
            "Requirement already satisfied: zipp>=0.5 in /usr/local/lib/python3.7/dist-packages (from importlib-metadata<3.0->watermark) (3.6.0)\n",
            "Requirement already satisfied: traitlets>=4.2 in /usr/local/lib/python3.7/dist-packages (from ipython->watermark) (5.1.1)\n",
            "Requirement already satisfied: pexpect in /usr/local/lib/python3.7/dist-packages (from ipython->watermark) (4.8.0)\n",
            "Requirement already satisfied: setuptools>=18.5 in /usr/local/lib/python3.7/dist-packages (from ipython->watermark) (57.4.0)\n",
            "Requirement already satisfied: simplegeneric>0.8 in /usr/local/lib/python3.7/dist-packages (from ipython->watermark) (0.8.1)\n",
            "Requirement already satisfied: pickleshare in /usr/local/lib/python3.7/dist-packages (from ipython->watermark) (0.7.5)\n",
            "Requirement already satisfied: decorator in /usr/local/lib/python3.7/dist-packages (from ipython->watermark) (4.4.2)\n",
            "Requirement already satisfied: prompt-toolkit<2.0.0,>=1.0.4 in /usr/local/lib/python3.7/dist-packages (from ipython->watermark) (1.0.18)\n",
            "Requirement already satisfied: pygments in /usr/local/lib/python3.7/dist-packages (from ipython->watermark) (2.6.1)\n",
            "Requirement already satisfied: wcwidth in /usr/local/lib/python3.7/dist-packages (from prompt-toolkit<2.0.0,>=1.0.4->ipython->watermark) (0.2.5)\n",
            "Requirement already satisfied: six>=1.9.0 in /usr/local/lib/python3.7/dist-packages (from prompt-toolkit<2.0.0,>=1.0.4->ipython->watermark) (1.15.0)\n",
            "Requirement already satisfied: ptyprocess>=0.5 in /usr/local/lib/python3.7/dist-packages (from pexpect->ipython->watermark) (0.7.0)\n",
            "Installing collected packages: importlib-metadata, watermark\n",
            "  Attempting uninstall: importlib-metadata\n",
            "    Found existing installation: importlib-metadata 4.8.1\n",
            "    Uninstalling importlib-metadata-4.8.1:\n",
            "      Successfully uninstalled importlib-metadata-4.8.1\n",
            "Successfully installed importlib-metadata-2.1.2 watermark-2.2.0\n"
          ]
        }
      ]
    },
    {
      "cell_type": "markdown",
      "metadata": {
        "id": "1fc5c8ab"
      },
      "source": [
        "# Упражнение 4: Методы, основанные на деревьях решений. Регрессионные деревья. Деревья классификации. Случайный лес. Бустинг.  \n",
        "\n",
        "Точность всех моделей оценивается методом перекрёстной проверки по 5 блокам.  \n",
        "\n",
        "*Модели*: дерево классификации, случайный лес, дерево регрессии  \n"
      ],
      "id": "1fc5c8ab"
    },
    {
      "cell_type": "code",
      "metadata": {
        "colab": {
          "base_uri": "https://localhost:8080/"
        },
        "id": "0b1dd899",
        "outputId": "eb1f3e1f-f55b-4b33-a3e7-c6ec694d5846"
      },
      "source": [
        "# выводим информацию о версиях python и пакетов\n",
        "%watermark -a \"aksyuk@github.com\" -d -v -p numpy,pandas,matplotlib,sklearn "
      ],
      "id": "0b1dd899",
      "execution_count": 2,
      "outputs": [
        {
          "output_type": "stream",
          "name": "stdout",
          "text": [
            "Author: aksyuk@github.com\n",
            "\n",
            "Python implementation: CPython\n",
            "Python version       : 3.7.12\n",
            "IPython version      : 5.5.0\n",
            "\n",
            "numpy     : 1.19.5\n",
            "pandas    : 1.1.5\n",
            "matplotlib: 3.2.2\n",
            "sklearn   : 0.0\n",
            "\n"
          ]
        }
      ]
    },
    {
      "cell_type": "markdown",
      "metadata": {
        "id": "61b9ab5d"
      },
      "source": [
        "# Указания к выполнению\n",
        "\n",
        "\n",
        "## Загружаем пакеты"
      ],
      "id": "61b9ab5d"
    },
    {
      "cell_type": "code",
      "metadata": {
        "id": "c8fa189c"
      },
      "source": [
        "import numpy as np\n",
        "import pandas as pd\n",
        "import matplotlib as mpl\n",
        "import seaborn as sns\n",
        "import urllib\n",
        "from pathlib import Path\n",
        "from IPython.display import Markdown, display\n",
        "from sklearn.preprocessing import OrdinalEncoder, OneHotEncoder\n",
        "from scipy.stats import chi2_contingency\n",
        "import time\n",
        "from sklearn import datasets\n",
        "\n",
        "\n",
        "from sklearn.tree import DecisionTreeClassifier, export_text, plot_tree\n",
        "from sklearn.model_selection import cross_val_score, train_test_split\n",
        "from sklearn.model_selection import KFold, GridSearchCV\n",
        "from sklearn.ensemble import BaggingClassifier\n",
        "from sklearn.ensemble import RandomForestClassifier\n",
        "from sklearn.ensemble import GradientBoostingClassifier\n",
        "from sklearn.metrics import classification_report"
      ],
      "id": "c8fa189c",
      "execution_count": 3,
      "outputs": []
    },
    {
      "cell_type": "code",
      "metadata": {
        "id": "43a4a48e"
      },
      "source": [
        "my_seed = 20\n",
        "\n",
        "plt = mpl.pyplot\n",
        "# настройка стиля и отображения графиков\n",
        "#  примеры стилей и шаблонов графиков: \n",
        "#  http://tonysyu.github.io/raw_content/matplotlib-style-gallery/gallery.html\n",
        "mpl.style.use('seaborn-whitegrid')\n",
        "sns.set_palette(\"Set2\")\n",
        "# раскомментируйте следующую строку, чтобы посмотреть палитру\n",
        "# sns.color_palette(\"Set2\")"
      ],
      "id": "43a4a48e",
      "execution_count": 4,
      "outputs": []
    },
    {
      "cell_type": "code",
      "metadata": {
        "id": "907a2353"
      },
      "source": [
        "# функция форматирования результатов с использованием Markdown\n",
        "def printmd(string):\n",
        "    display(Markdown(string))\n",
        "    \n",
        "# функции для попарной конкатенации элементов двух списков\n",
        "concat_func_md = lambda x, y: '`' + str(x) + \"`:&ensp;&ensp;&ensp;&ensp;\" + str(y)\n",
        "concat_func = lambda x, y: str(x) + ' ' * 4 + str(y)\n",
        "\n",
        "\n",
        "# функция, которая строит график важности признаков в модели случайного леса\n",
        "#  источник: https://www.analyseup.com/learn-python-for-data-science/python-random-forest-feature-importance-plot.html\n",
        "def plot_feature_importance(importance, names, model_type) :\n",
        "    #Create arrays from feature importance and feature names\n",
        "    feature_importance = np.array(importance)\n",
        "    feature_names = np.array(names)\n",
        "\n",
        "    #Create a DataFrame using a Dictionary\n",
        "    data={'feature_names':feature_names,'feature_importance':feature_importance}\n",
        "    fi_df = pd.DataFrame(data)\n",
        "\n",
        "    #Sort the DataFrame in order decreasing feature importance\n",
        "    fi_df.sort_values(by=['feature_importance'], ascending=False,\n",
        "                      inplace=True)\n",
        "\n",
        "    #Define size of bar plot\n",
        "    plt.figure(figsize=(10,8))\n",
        "    #Plot Searborn bar chart\n",
        "    sns.barplot(x=fi_df['feature_importance'], y=fi_df['feature_names'])\n",
        "    #Add chart labels\n",
        "    plt.title('Важность признаков в модели: ' + model_type)\n",
        "    plt.xlabel('Важность признака')\n",
        "    plt.ylabel('')"
      ],
      "id": "907a2353",
      "execution_count": 5,
      "outputs": []
    },
    {
      "cell_type": "markdown",
      "metadata": {
        "id": "87618f1b"
      },
      "source": [
        "## Загружаем данные"
      ],
      "id": "87618f1b"
    },
    {
      "cell_type": "markdown",
      "metadata": {
        "id": "R8SHq0NnRMBC"
      },
      "source": [
        "1. Visit [Drive folder](https://drive.google.com/drive/folders/1E9_u-v8chGmPwgROBEorD9hT609ysv_W?usp=sharing).\n",
        "\n",
        "2. Right click on folder name -> \"Add a shortcut to Drive\" -> select \"My Drive\" -> \"Add shortcut\"."
      ],
      "id": "R8SHq0NnRMBC"
    },
    {
      "cell_type": "code",
      "metadata": {
        "colab": {
          "base_uri": "https://localhost:8080/"
        },
        "id": "a7e42f2c",
        "outputId": "0a0aa1da-7b64-4c25-9424-2ef25131d389"
      },
      "source": [
        "# Detect if we are in Google Colaboratory\n",
        "try:\n",
        "    import google.colab\n",
        "    IN_COLAB = True\n",
        "except ImportError:\n",
        "    IN_COLAB = False\n",
        "\n",
        "from pathlib import Path\n",
        "# Determine the locations of auxiliary libraries and datasets.\n",
        "# AUX_DATA_ROOT is where 'notmnist.py', 'animation.py' and 'tiny-imagenet-2020.zip' are.\n",
        "if IN_COLAB:\n",
        "    google.colab.drive.mount(\"/content/drive\")\n",
        "    \n",
        "    # Change this if you created the shortcut in a different location\n",
        "    AUX_DATA_ROOT = Path(\"/content/drive/My Drive/data\")\n",
        "    \n",
        "    assert AUX_DATA_ROOT.is_dir(), \"Have you forgot to 'Add a shortcut to Drive'?\"\n",
        "    \n",
        "    import sys\n",
        "    sys.path.insert(0, str(AUX_DATA_ROOT))\n",
        "else:\n",
        "    AUX_DATA_ROOT = Path(\".\")"
      ],
      "id": "a7e42f2c",
      "execution_count": 6,
      "outputs": [
        {
          "output_type": "stream",
          "name": "stdout",
          "text": [
            "Mounted at /content/drive\n"
          ]
        }
      ]
    },
    {
      "cell_type": "code",
      "metadata": {
        "colab": {
          "base_uri": "https://localhost:8080/"
        },
        "id": "qPlFNV82eTDv",
        "outputId": "c0d70d95-05b4-42f1-c928-f3dc17675d0c"
      },
      "source": [
        "import os \n",
        "DF_raw = pd.read_csv(os.path.join(AUX_DATA_ROOT, 'default_of_credit_card_clients.csv'))\n",
        "\n",
        "print('Число строк и столбцов в наборе данных:\\n', DF_raw.shape)"
      ],
      "id": "qPlFNV82eTDv",
      "execution_count": 7,
      "outputs": [
        {
          "output_type": "stream",
          "name": "stdout",
          "text": [
            "Число строк и столбцов в наборе данных:\n",
            " (30000, 24)\n"
          ]
        }
      ]
    },
    {
      "cell_type": "code",
      "metadata": {
        "colab": {
          "base_uri": "https://localhost:8080/"
        },
        "id": "07670649",
        "outputId": "f71be652-8d3f-4504-dd5e-140c53b8f6e7"
      },
      "source": [
        "DF_raw.dtypes"
      ],
      "id": "07670649",
      "execution_count": 8,
      "outputs": [
        {
          "output_type": "execute_result",
          "data": {
            "text/plain": [
              "LIMIT_BAL    int64\n",
              "SEX          int64\n",
              "EDUCATION    int64\n",
              "MARRIAGE     int64\n",
              "AGE          int64\n",
              "PAY_0        int64\n",
              "PAY_2        int64\n",
              "PAY_3        int64\n",
              "PAY_4        int64\n",
              "PAY_5        int64\n",
              "PAY_6        int64\n",
              "BILL_AMT1    int64\n",
              "BILL_AMT2    int64\n",
              "BILL_AMT3    int64\n",
              "BILL_AMT4    int64\n",
              "BILL_AMT5    int64\n",
              "BILL_AMT6    int64\n",
              "PAY_AMT1     int64\n",
              "PAY_AMT2     int64\n",
              "PAY_AMT3     int64\n",
              "PAY_AMT4     int64\n",
              "PAY_AMT5     int64\n",
              "PAY_AMT6     int64\n",
              "Y            int64\n",
              "dtype: object"
            ]
          },
          "metadata": {},
          "execution_count": 8
        }
      ]
    },
    {
      "cell_type": "code",
      "metadata": {
        "colab": {
          "base_uri": "https://localhost:8080/",
          "height": 224
        },
        "id": "K41jezA6SwN6",
        "outputId": "5fef9a8b-dba8-4cda-9140-a43e2107758f"
      },
      "source": [
        "DF_raw.head(5)"
      ],
      "id": "K41jezA6SwN6",
      "execution_count": 9,
      "outputs": [
        {
          "output_type": "execute_result",
          "data": {
            "text/html": [
              "<div>\n",
              "<style scoped>\n",
              "    .dataframe tbody tr th:only-of-type {\n",
              "        vertical-align: middle;\n",
              "    }\n",
              "\n",
              "    .dataframe tbody tr th {\n",
              "        vertical-align: top;\n",
              "    }\n",
              "\n",
              "    .dataframe thead th {\n",
              "        text-align: right;\n",
              "    }\n",
              "</style>\n",
              "<table border=\"1\" class=\"dataframe\">\n",
              "  <thead>\n",
              "    <tr style=\"text-align: right;\">\n",
              "      <th></th>\n",
              "      <th>LIMIT_BAL</th>\n",
              "      <th>SEX</th>\n",
              "      <th>EDUCATION</th>\n",
              "      <th>MARRIAGE</th>\n",
              "      <th>AGE</th>\n",
              "      <th>PAY_0</th>\n",
              "      <th>PAY_2</th>\n",
              "      <th>PAY_3</th>\n",
              "      <th>PAY_4</th>\n",
              "      <th>PAY_5</th>\n",
              "      <th>PAY_6</th>\n",
              "      <th>BILL_AMT1</th>\n",
              "      <th>BILL_AMT2</th>\n",
              "      <th>BILL_AMT3</th>\n",
              "      <th>BILL_AMT4</th>\n",
              "      <th>BILL_AMT5</th>\n",
              "      <th>BILL_AMT6</th>\n",
              "      <th>PAY_AMT1</th>\n",
              "      <th>PAY_AMT2</th>\n",
              "      <th>PAY_AMT3</th>\n",
              "      <th>PAY_AMT4</th>\n",
              "      <th>PAY_AMT5</th>\n",
              "      <th>PAY_AMT6</th>\n",
              "      <th>Y</th>\n",
              "    </tr>\n",
              "  </thead>\n",
              "  <tbody>\n",
              "    <tr>\n",
              "      <th>0</th>\n",
              "      <td>20000</td>\n",
              "      <td>2</td>\n",
              "      <td>2</td>\n",
              "      <td>1</td>\n",
              "      <td>24</td>\n",
              "      <td>2</td>\n",
              "      <td>2</td>\n",
              "      <td>-1</td>\n",
              "      <td>-1</td>\n",
              "      <td>-2</td>\n",
              "      <td>-2</td>\n",
              "      <td>3913</td>\n",
              "      <td>3102</td>\n",
              "      <td>689</td>\n",
              "      <td>0</td>\n",
              "      <td>0</td>\n",
              "      <td>0</td>\n",
              "      <td>0</td>\n",
              "      <td>689</td>\n",
              "      <td>0</td>\n",
              "      <td>0</td>\n",
              "      <td>0</td>\n",
              "      <td>0</td>\n",
              "      <td>1</td>\n",
              "    </tr>\n",
              "    <tr>\n",
              "      <th>1</th>\n",
              "      <td>120000</td>\n",
              "      <td>2</td>\n",
              "      <td>2</td>\n",
              "      <td>2</td>\n",
              "      <td>26</td>\n",
              "      <td>-1</td>\n",
              "      <td>2</td>\n",
              "      <td>0</td>\n",
              "      <td>0</td>\n",
              "      <td>0</td>\n",
              "      <td>2</td>\n",
              "      <td>2682</td>\n",
              "      <td>1725</td>\n",
              "      <td>2682</td>\n",
              "      <td>3272</td>\n",
              "      <td>3455</td>\n",
              "      <td>3261</td>\n",
              "      <td>0</td>\n",
              "      <td>1000</td>\n",
              "      <td>1000</td>\n",
              "      <td>1000</td>\n",
              "      <td>0</td>\n",
              "      <td>2000</td>\n",
              "      <td>1</td>\n",
              "    </tr>\n",
              "    <tr>\n",
              "      <th>2</th>\n",
              "      <td>90000</td>\n",
              "      <td>2</td>\n",
              "      <td>2</td>\n",
              "      <td>2</td>\n",
              "      <td>34</td>\n",
              "      <td>0</td>\n",
              "      <td>0</td>\n",
              "      <td>0</td>\n",
              "      <td>0</td>\n",
              "      <td>0</td>\n",
              "      <td>0</td>\n",
              "      <td>29239</td>\n",
              "      <td>14027</td>\n",
              "      <td>13559</td>\n",
              "      <td>14331</td>\n",
              "      <td>14948</td>\n",
              "      <td>15549</td>\n",
              "      <td>1518</td>\n",
              "      <td>1500</td>\n",
              "      <td>1000</td>\n",
              "      <td>1000</td>\n",
              "      <td>1000</td>\n",
              "      <td>5000</td>\n",
              "      <td>0</td>\n",
              "    </tr>\n",
              "    <tr>\n",
              "      <th>3</th>\n",
              "      <td>50000</td>\n",
              "      <td>2</td>\n",
              "      <td>2</td>\n",
              "      <td>1</td>\n",
              "      <td>37</td>\n",
              "      <td>0</td>\n",
              "      <td>0</td>\n",
              "      <td>0</td>\n",
              "      <td>0</td>\n",
              "      <td>0</td>\n",
              "      <td>0</td>\n",
              "      <td>46990</td>\n",
              "      <td>48233</td>\n",
              "      <td>49291</td>\n",
              "      <td>28314</td>\n",
              "      <td>28959</td>\n",
              "      <td>29547</td>\n",
              "      <td>2000</td>\n",
              "      <td>2019</td>\n",
              "      <td>1200</td>\n",
              "      <td>1100</td>\n",
              "      <td>1069</td>\n",
              "      <td>1000</td>\n",
              "      <td>0</td>\n",
              "    </tr>\n",
              "    <tr>\n",
              "      <th>4</th>\n",
              "      <td>50000</td>\n",
              "      <td>1</td>\n",
              "      <td>2</td>\n",
              "      <td>1</td>\n",
              "      <td>57</td>\n",
              "      <td>-1</td>\n",
              "      <td>0</td>\n",
              "      <td>-1</td>\n",
              "      <td>0</td>\n",
              "      <td>0</td>\n",
              "      <td>0</td>\n",
              "      <td>8617</td>\n",
              "      <td>5670</td>\n",
              "      <td>35835</td>\n",
              "      <td>20940</td>\n",
              "      <td>19146</td>\n",
              "      <td>19131</td>\n",
              "      <td>2000</td>\n",
              "      <td>36681</td>\n",
              "      <td>10000</td>\n",
              "      <td>9000</td>\n",
              "      <td>689</td>\n",
              "      <td>679</td>\n",
              "      <td>0</td>\n",
              "    </tr>\n",
              "  </tbody>\n",
              "</table>\n",
              "</div>"
            ],
            "text/plain": [
              "   LIMIT_BAL  SEX  EDUCATION  MARRIAGE  ...  PAY_AMT4  PAY_AMT5  PAY_AMT6  Y\n",
              "0      20000    2          2         1  ...         0         0         0  1\n",
              "1     120000    2          2         2  ...      1000         0      2000  1\n",
              "2      90000    2          2         2  ...      1000      1000      5000  0\n",
              "3      50000    2          2         1  ...      1100      1069      1000  0\n",
              "4      50000    1          2         1  ...      9000       689       679  0\n",
              "\n",
              "[5 rows x 24 columns]"
            ]
          },
          "metadata": {},
          "execution_count": 9
        }
      ]
    },
    {
      "cell_type": "markdown",
      "metadata": {
        "id": "5ce7ffd1"
      },
      "source": [
        "Отложим 15% наблюдений для прогноза.  "
      ],
      "id": "5ce7ffd1"
    },
    {
      "cell_type": "code",
      "metadata": {
        "id": "13f9300b"
      },
      "source": [
        "# наблюдения для моделирования\n",
        "DF = DF_raw.sample(frac=0.85, random_state=my_seed)\n",
        "# отложенные наблюдения\n",
        "DF_predict = DF_raw.drop(DF.index)"
      ],
      "id": "13f9300b",
      "execution_count": 10,
      "outputs": []
    },
    {
      "cell_type": "markdown",
      "metadata": {
        "id": "F1qN8EaLS4wT"
      },
      "source": [
        "DF - TRAIN\n",
        "DF_predict - TEST"
      ],
      "id": "F1qN8EaLS4wT"
    },
    {
      "cell_type": "markdown",
      "metadata": {
        "id": "vDkB0aSQ8Spu"
      },
      "source": [
        "Для категориальных переменных SEX, EDUCATION и MARRIAGE подсчитаем частоты значений\n"
      ],
      "id": "vDkB0aSQ8Spu"
    },
    {
      "cell_type": "code",
      "metadata": {
        "colab": {
          "base_uri": "https://localhost:8080/",
          "height": 111
        },
        "id": "kvVme5sK8UxG",
        "outputId": "d4cf061d-3779-43f4-a164-764708f1bb37"
      },
      "source": [
        "count_sex = DF['SEX'].value_counts()\n",
        "pd.DataFrame(count_sex)"
      ],
      "id": "kvVme5sK8UxG",
      "execution_count": 11,
      "outputs": [
        {
          "output_type": "execute_result",
          "data": {
            "text/html": [
              "<div>\n",
              "<style scoped>\n",
              "    .dataframe tbody tr th:only-of-type {\n",
              "        vertical-align: middle;\n",
              "    }\n",
              "\n",
              "    .dataframe tbody tr th {\n",
              "        vertical-align: top;\n",
              "    }\n",
              "\n",
              "    .dataframe thead th {\n",
              "        text-align: right;\n",
              "    }\n",
              "</style>\n",
              "<table border=\"1\" class=\"dataframe\">\n",
              "  <thead>\n",
              "    <tr style=\"text-align: right;\">\n",
              "      <th></th>\n",
              "      <th>SEX</th>\n",
              "    </tr>\n",
              "  </thead>\n",
              "  <tbody>\n",
              "    <tr>\n",
              "      <th>2</th>\n",
              "      <td>15408</td>\n",
              "    </tr>\n",
              "    <tr>\n",
              "      <th>1</th>\n",
              "      <td>10092</td>\n",
              "    </tr>\n",
              "  </tbody>\n",
              "</table>\n",
              "</div>"
            ],
            "text/plain": [
              "     SEX\n",
              "2  15408\n",
              "1  10092"
            ]
          },
          "metadata": {},
          "execution_count": 11
        }
      ]
    },
    {
      "cell_type": "code",
      "metadata": {
        "colab": {
          "base_uri": "https://localhost:8080/",
          "height": 266
        },
        "id": "BduGeYjm8a0_",
        "outputId": "cb8f843c-9ea7-4d5b-9d74-27d4a7047505"
      },
      "source": [
        "count_edu = DF['EDUCATION'].value_counts()\n",
        "pd.DataFrame(count_edu)"
      ],
      "id": "BduGeYjm8a0_",
      "execution_count": 12,
      "outputs": [
        {
          "output_type": "execute_result",
          "data": {
            "text/html": [
              "<div>\n",
              "<style scoped>\n",
              "    .dataframe tbody tr th:only-of-type {\n",
              "        vertical-align: middle;\n",
              "    }\n",
              "\n",
              "    .dataframe tbody tr th {\n",
              "        vertical-align: top;\n",
              "    }\n",
              "\n",
              "    .dataframe thead th {\n",
              "        text-align: right;\n",
              "    }\n",
              "</style>\n",
              "<table border=\"1\" class=\"dataframe\">\n",
              "  <thead>\n",
              "    <tr style=\"text-align: right;\">\n",
              "      <th></th>\n",
              "      <th>EDUCATION</th>\n",
              "    </tr>\n",
              "  </thead>\n",
              "  <tbody>\n",
              "    <tr>\n",
              "      <th>2</th>\n",
              "      <td>11894</td>\n",
              "    </tr>\n",
              "    <tr>\n",
              "      <th>1</th>\n",
              "      <td>9055</td>\n",
              "    </tr>\n",
              "    <tr>\n",
              "      <th>3</th>\n",
              "      <td>4141</td>\n",
              "    </tr>\n",
              "    <tr>\n",
              "      <th>5</th>\n",
              "      <td>253</td>\n",
              "    </tr>\n",
              "    <tr>\n",
              "      <th>4</th>\n",
              "      <td>100</td>\n",
              "    </tr>\n",
              "    <tr>\n",
              "      <th>6</th>\n",
              "      <td>46</td>\n",
              "    </tr>\n",
              "    <tr>\n",
              "      <th>0</th>\n",
              "      <td>11</td>\n",
              "    </tr>\n",
              "  </tbody>\n",
              "</table>\n",
              "</div>"
            ],
            "text/plain": [
              "   EDUCATION\n",
              "2      11894\n",
              "1       9055\n",
              "3       4141\n",
              "5        253\n",
              "4        100\n",
              "6         46\n",
              "0         11"
            ]
          },
          "metadata": {},
          "execution_count": 12
        }
      ]
    },
    {
      "cell_type": "code",
      "metadata": {
        "colab": {
          "base_uri": "https://localhost:8080/",
          "height": 173
        },
        "id": "o7P0z2R28d5c",
        "outputId": "9f7978b0-af0f-4344-ca56-889e169746b7"
      },
      "source": [
        "count_mar = DF['MARRIAGE'].value_counts()\n",
        "pd.DataFrame(count_mar)"
      ],
      "id": "o7P0z2R28d5c",
      "execution_count": 13,
      "outputs": [
        {
          "output_type": "execute_result",
          "data": {
            "text/html": [
              "<div>\n",
              "<style scoped>\n",
              "    .dataframe tbody tr th:only-of-type {\n",
              "        vertical-align: middle;\n",
              "    }\n",
              "\n",
              "    .dataframe tbody tr th {\n",
              "        vertical-align: top;\n",
              "    }\n",
              "\n",
              "    .dataframe thead th {\n",
              "        text-align: right;\n",
              "    }\n",
              "</style>\n",
              "<table border=\"1\" class=\"dataframe\">\n",
              "  <thead>\n",
              "    <tr style=\"text-align: right;\">\n",
              "      <th></th>\n",
              "      <th>MARRIAGE</th>\n",
              "    </tr>\n",
              "  </thead>\n",
              "  <tbody>\n",
              "    <tr>\n",
              "      <th>2</th>\n",
              "      <td>13585</td>\n",
              "    </tr>\n",
              "    <tr>\n",
              "      <th>1</th>\n",
              "      <td>11605</td>\n",
              "    </tr>\n",
              "    <tr>\n",
              "      <th>3</th>\n",
              "      <td>261</td>\n",
              "    </tr>\n",
              "    <tr>\n",
              "      <th>0</th>\n",
              "      <td>49</td>\n",
              "    </tr>\n",
              "  </tbody>\n",
              "</table>\n",
              "</div>"
            ],
            "text/plain": [
              "   MARRIAGE\n",
              "2     13585\n",
              "1     11605\n",
              "3       261\n",
              "0        49"
            ]
          },
          "metadata": {},
          "execution_count": 13
        }
      ]
    },
    {
      "cell_type": "markdown",
      "metadata": {
        "id": "6j3yr8rT8jYq"
      },
      "source": [
        "Теперь перекодируем категориальные переменные SEX, EDUCATION и MARRIAGE с помощью OneHotEncoder"
      ],
      "id": "6j3yr8rT8jYq"
    },
    {
      "cell_type": "code",
      "metadata": {
        "colab": {
          "base_uri": "https://localhost:8080/",
          "height": 222
        },
        "id": "DYcLZsOm8n90",
        "outputId": "c2a214c6-cfd4-4847-832b-f456ac5443ab"
      },
      "source": [
        "from sklearn.preprocessing import OneHotEncoder\n",
        "\n",
        "nom_col_names=['SEX', 'EDUCATION', 'MARRIAGE']\n",
        "\n",
        "one_hot=OneHotEncoder()\n",
        "\n",
        "recoded=one_hot.fit_transform(DF[nom_col_names]).toarray()\n",
        "clmns=one_hot.get_feature_names(nom_col_names)\n",
        "df_dummy_nom=pd.DataFrame(recoded, columns=clmns)\n",
        "\n",
        "print(df_dummy_nom.shape)\n",
        "df_dummy_nom.head()"
      ],
      "id": "DYcLZsOm8n90",
      "execution_count": 14,
      "outputs": [
        {
          "output_type": "stream",
          "name": "stdout",
          "text": [
            "(25500, 13)\n"
          ]
        },
        {
          "output_type": "execute_result",
          "data": {
            "text/html": [
              "<div>\n",
              "<style scoped>\n",
              "    .dataframe tbody tr th:only-of-type {\n",
              "        vertical-align: middle;\n",
              "    }\n",
              "\n",
              "    .dataframe tbody tr th {\n",
              "        vertical-align: top;\n",
              "    }\n",
              "\n",
              "    .dataframe thead th {\n",
              "        text-align: right;\n",
              "    }\n",
              "</style>\n",
              "<table border=\"1\" class=\"dataframe\">\n",
              "  <thead>\n",
              "    <tr style=\"text-align: right;\">\n",
              "      <th></th>\n",
              "      <th>SEX_1</th>\n",
              "      <th>SEX_2</th>\n",
              "      <th>EDUCATION_0</th>\n",
              "      <th>EDUCATION_1</th>\n",
              "      <th>EDUCATION_2</th>\n",
              "      <th>EDUCATION_3</th>\n",
              "      <th>EDUCATION_4</th>\n",
              "      <th>EDUCATION_5</th>\n",
              "      <th>EDUCATION_6</th>\n",
              "      <th>MARRIAGE_0</th>\n",
              "      <th>MARRIAGE_1</th>\n",
              "      <th>MARRIAGE_2</th>\n",
              "      <th>MARRIAGE_3</th>\n",
              "    </tr>\n",
              "  </thead>\n",
              "  <tbody>\n",
              "    <tr>\n",
              "      <th>0</th>\n",
              "      <td>0.0</td>\n",
              "      <td>1.0</td>\n",
              "      <td>0.0</td>\n",
              "      <td>1.0</td>\n",
              "      <td>0.0</td>\n",
              "      <td>0.0</td>\n",
              "      <td>0.0</td>\n",
              "      <td>0.0</td>\n",
              "      <td>0.0</td>\n",
              "      <td>0.0</td>\n",
              "      <td>0.0</td>\n",
              "      <td>1.0</td>\n",
              "      <td>0.0</td>\n",
              "    </tr>\n",
              "    <tr>\n",
              "      <th>1</th>\n",
              "      <td>0.0</td>\n",
              "      <td>1.0</td>\n",
              "      <td>0.0</td>\n",
              "      <td>0.0</td>\n",
              "      <td>1.0</td>\n",
              "      <td>0.0</td>\n",
              "      <td>0.0</td>\n",
              "      <td>0.0</td>\n",
              "      <td>0.0</td>\n",
              "      <td>0.0</td>\n",
              "      <td>0.0</td>\n",
              "      <td>1.0</td>\n",
              "      <td>0.0</td>\n",
              "    </tr>\n",
              "    <tr>\n",
              "      <th>2</th>\n",
              "      <td>1.0</td>\n",
              "      <td>0.0</td>\n",
              "      <td>0.0</td>\n",
              "      <td>1.0</td>\n",
              "      <td>0.0</td>\n",
              "      <td>0.0</td>\n",
              "      <td>0.0</td>\n",
              "      <td>0.0</td>\n",
              "      <td>0.0</td>\n",
              "      <td>0.0</td>\n",
              "      <td>0.0</td>\n",
              "      <td>1.0</td>\n",
              "      <td>0.0</td>\n",
              "    </tr>\n",
              "    <tr>\n",
              "      <th>3</th>\n",
              "      <td>1.0</td>\n",
              "      <td>0.0</td>\n",
              "      <td>0.0</td>\n",
              "      <td>0.0</td>\n",
              "      <td>0.0</td>\n",
              "      <td>1.0</td>\n",
              "      <td>0.0</td>\n",
              "      <td>0.0</td>\n",
              "      <td>0.0</td>\n",
              "      <td>0.0</td>\n",
              "      <td>1.0</td>\n",
              "      <td>0.0</td>\n",
              "      <td>0.0</td>\n",
              "    </tr>\n",
              "    <tr>\n",
              "      <th>4</th>\n",
              "      <td>0.0</td>\n",
              "      <td>1.0</td>\n",
              "      <td>0.0</td>\n",
              "      <td>0.0</td>\n",
              "      <td>1.0</td>\n",
              "      <td>0.0</td>\n",
              "      <td>0.0</td>\n",
              "      <td>0.0</td>\n",
              "      <td>0.0</td>\n",
              "      <td>0.0</td>\n",
              "      <td>0.0</td>\n",
              "      <td>1.0</td>\n",
              "      <td>0.0</td>\n",
              "    </tr>\n",
              "  </tbody>\n",
              "</table>\n",
              "</div>"
            ],
            "text/plain": [
              "   SEX_1  SEX_2  EDUCATION_0  ...  MARRIAGE_1  MARRIAGE_2  MARRIAGE_3\n",
              "0    0.0    1.0          0.0  ...         0.0         1.0         0.0\n",
              "1    0.0    1.0          0.0  ...         0.0         1.0         0.0\n",
              "2    1.0    0.0          0.0  ...         0.0         1.0         0.0\n",
              "3    1.0    0.0          0.0  ...         1.0         0.0         0.0\n",
              "4    0.0    1.0          0.0  ...         0.0         1.0         0.0\n",
              "\n",
              "[5 rows x 13 columns]"
            ]
          },
          "metadata": {},
          "execution_count": 14
        }
      ]
    },
    {
      "cell_type": "markdown",
      "metadata": {
        "id": "5JoBrVBK8vKh"
      },
      "source": [
        "Сконкатенируем наши датафреймы и удалим ненужные столбцы"
      ],
      "id": "5JoBrVBK8vKh"
    },
    {
      "cell_type": "code",
      "metadata": {
        "colab": {
          "base_uri": "https://localhost:8080/",
          "height": 260
        },
        "id": "VnXLqEi58wDi",
        "outputId": "2b4aaf63-3f98-4801-d7dc-bddb75923ad7"
      },
      "source": [
        "DF_num = pd.concat([DF.loc[:,DF.dtypes=='int64'].reset_index(),df_dummy_nom], axis=1)\n",
        "DF_num = DF_num.drop(['SEX', 'EDUCATION', 'MARRIAGE', 'index'], axis=1)\n",
        "print('Размерность обучающего фрейма после перекодировки:', DF_num.shape)\n",
        "\n",
        "print()\n",
        "DF_num.head()"
      ],
      "id": "VnXLqEi58wDi",
      "execution_count": 15,
      "outputs": [
        {
          "output_type": "stream",
          "name": "stdout",
          "text": [
            "Размерность обучающего фрейма после перекодировки: (25500, 34)\n",
            "\n"
          ]
        },
        {
          "output_type": "execute_result",
          "data": {
            "text/html": [
              "<div>\n",
              "<style scoped>\n",
              "    .dataframe tbody tr th:only-of-type {\n",
              "        vertical-align: middle;\n",
              "    }\n",
              "\n",
              "    .dataframe tbody tr th {\n",
              "        vertical-align: top;\n",
              "    }\n",
              "\n",
              "    .dataframe thead th {\n",
              "        text-align: right;\n",
              "    }\n",
              "</style>\n",
              "<table border=\"1\" class=\"dataframe\">\n",
              "  <thead>\n",
              "    <tr style=\"text-align: right;\">\n",
              "      <th></th>\n",
              "      <th>LIMIT_BAL</th>\n",
              "      <th>AGE</th>\n",
              "      <th>PAY_0</th>\n",
              "      <th>PAY_2</th>\n",
              "      <th>PAY_3</th>\n",
              "      <th>PAY_4</th>\n",
              "      <th>PAY_5</th>\n",
              "      <th>PAY_6</th>\n",
              "      <th>BILL_AMT1</th>\n",
              "      <th>BILL_AMT2</th>\n",
              "      <th>BILL_AMT3</th>\n",
              "      <th>BILL_AMT4</th>\n",
              "      <th>BILL_AMT5</th>\n",
              "      <th>BILL_AMT6</th>\n",
              "      <th>PAY_AMT1</th>\n",
              "      <th>PAY_AMT2</th>\n",
              "      <th>PAY_AMT3</th>\n",
              "      <th>PAY_AMT4</th>\n",
              "      <th>PAY_AMT5</th>\n",
              "      <th>PAY_AMT6</th>\n",
              "      <th>Y</th>\n",
              "      <th>SEX_1</th>\n",
              "      <th>SEX_2</th>\n",
              "      <th>EDUCATION_0</th>\n",
              "      <th>EDUCATION_1</th>\n",
              "      <th>EDUCATION_2</th>\n",
              "      <th>EDUCATION_3</th>\n",
              "      <th>EDUCATION_4</th>\n",
              "      <th>EDUCATION_5</th>\n",
              "      <th>EDUCATION_6</th>\n",
              "      <th>MARRIAGE_0</th>\n",
              "      <th>MARRIAGE_1</th>\n",
              "      <th>MARRIAGE_2</th>\n",
              "      <th>MARRIAGE_3</th>\n",
              "    </tr>\n",
              "  </thead>\n",
              "  <tbody>\n",
              "    <tr>\n",
              "      <th>0</th>\n",
              "      <td>60000</td>\n",
              "      <td>28</td>\n",
              "      <td>1</td>\n",
              "      <td>2</td>\n",
              "      <td>0</td>\n",
              "      <td>0</td>\n",
              "      <td>0</td>\n",
              "      <td>0</td>\n",
              "      <td>47262</td>\n",
              "      <td>46226</td>\n",
              "      <td>47557</td>\n",
              "      <td>48464</td>\n",
              "      <td>49532</td>\n",
              "      <td>50552</td>\n",
              "      <td>0</td>\n",
              "      <td>2100</td>\n",
              "      <td>2000</td>\n",
              "      <td>2000</td>\n",
              "      <td>2000</td>\n",
              "      <td>3000</td>\n",
              "      <td>0</td>\n",
              "      <td>0.0</td>\n",
              "      <td>1.0</td>\n",
              "      <td>0.0</td>\n",
              "      <td>1.0</td>\n",
              "      <td>0.0</td>\n",
              "      <td>0.0</td>\n",
              "      <td>0.0</td>\n",
              "      <td>0.0</td>\n",
              "      <td>0.0</td>\n",
              "      <td>0.0</td>\n",
              "      <td>0.0</td>\n",
              "      <td>1.0</td>\n",
              "      <td>0.0</td>\n",
              "    </tr>\n",
              "    <tr>\n",
              "      <th>1</th>\n",
              "      <td>30000</td>\n",
              "      <td>34</td>\n",
              "      <td>2</td>\n",
              "      <td>-1</td>\n",
              "      <td>2</td>\n",
              "      <td>2</td>\n",
              "      <td>2</td>\n",
              "      <td>2</td>\n",
              "      <td>99568</td>\n",
              "      <td>32326</td>\n",
              "      <td>31840</td>\n",
              "      <td>37075</td>\n",
              "      <td>37662</td>\n",
              "      <td>36904</td>\n",
              "      <td>33000</td>\n",
              "      <td>33000</td>\n",
              "      <td>5810</td>\n",
              "      <td>1325</td>\n",
              "      <td>0</td>\n",
              "      <td>3095</td>\n",
              "      <td>0</td>\n",
              "      <td>0.0</td>\n",
              "      <td>1.0</td>\n",
              "      <td>0.0</td>\n",
              "      <td>0.0</td>\n",
              "      <td>1.0</td>\n",
              "      <td>0.0</td>\n",
              "      <td>0.0</td>\n",
              "      <td>0.0</td>\n",
              "      <td>0.0</td>\n",
              "      <td>0.0</td>\n",
              "      <td>0.0</td>\n",
              "      <td>1.0</td>\n",
              "      <td>0.0</td>\n",
              "    </tr>\n",
              "    <tr>\n",
              "      <th>2</th>\n",
              "      <td>50000</td>\n",
              "      <td>30</td>\n",
              "      <td>0</td>\n",
              "      <td>0</td>\n",
              "      <td>2</td>\n",
              "      <td>2</td>\n",
              "      <td>2</td>\n",
              "      <td>0</td>\n",
              "      <td>45948</td>\n",
              "      <td>50813</td>\n",
              "      <td>45393</td>\n",
              "      <td>49351</td>\n",
              "      <td>45473</td>\n",
              "      <td>48595</td>\n",
              "      <td>6012</td>\n",
              "      <td>10</td>\n",
              "      <td>8212</td>\n",
              "      <td>1200</td>\n",
              "      <td>4008</td>\n",
              "      <td>4407</td>\n",
              "      <td>0</td>\n",
              "      <td>1.0</td>\n",
              "      <td>0.0</td>\n",
              "      <td>0.0</td>\n",
              "      <td>1.0</td>\n",
              "      <td>0.0</td>\n",
              "      <td>0.0</td>\n",
              "      <td>0.0</td>\n",
              "      <td>0.0</td>\n",
              "      <td>0.0</td>\n",
              "      <td>0.0</td>\n",
              "      <td>0.0</td>\n",
              "      <td>1.0</td>\n",
              "      <td>0.0</td>\n",
              "    </tr>\n",
              "    <tr>\n",
              "      <th>3</th>\n",
              "      <td>240000</td>\n",
              "      <td>42</td>\n",
              "      <td>2</td>\n",
              "      <td>2</td>\n",
              "      <td>2</td>\n",
              "      <td>2</td>\n",
              "      <td>2</td>\n",
              "      <td>2</td>\n",
              "      <td>259511</td>\n",
              "      <td>258208</td>\n",
              "      <td>245397</td>\n",
              "      <td>245014</td>\n",
              "      <td>209834</td>\n",
              "      <td>195913</td>\n",
              "      <td>11000</td>\n",
              "      <td>0</td>\n",
              "      <td>12300</td>\n",
              "      <td>14288</td>\n",
              "      <td>0</td>\n",
              "      <td>6887</td>\n",
              "      <td>0</td>\n",
              "      <td>1.0</td>\n",
              "      <td>0.0</td>\n",
              "      <td>0.0</td>\n",
              "      <td>0.0</td>\n",
              "      <td>0.0</td>\n",
              "      <td>1.0</td>\n",
              "      <td>0.0</td>\n",
              "      <td>0.0</td>\n",
              "      <td>0.0</td>\n",
              "      <td>0.0</td>\n",
              "      <td>1.0</td>\n",
              "      <td>0.0</td>\n",
              "      <td>0.0</td>\n",
              "    </tr>\n",
              "    <tr>\n",
              "      <th>4</th>\n",
              "      <td>300000</td>\n",
              "      <td>28</td>\n",
              "      <td>0</td>\n",
              "      <td>0</td>\n",
              "      <td>2</td>\n",
              "      <td>2</td>\n",
              "      <td>2</td>\n",
              "      <td>2</td>\n",
              "      <td>275855</td>\n",
              "      <td>286812</td>\n",
              "      <td>280337</td>\n",
              "      <td>318248</td>\n",
              "      <td>316147</td>\n",
              "      <td>303666</td>\n",
              "      <td>15000</td>\n",
              "      <td>7000</td>\n",
              "      <td>50000</td>\n",
              "      <td>12000</td>\n",
              "      <td>0</td>\n",
              "      <td>13000</td>\n",
              "      <td>1</td>\n",
              "      <td>0.0</td>\n",
              "      <td>1.0</td>\n",
              "      <td>0.0</td>\n",
              "      <td>0.0</td>\n",
              "      <td>1.0</td>\n",
              "      <td>0.0</td>\n",
              "      <td>0.0</td>\n",
              "      <td>0.0</td>\n",
              "      <td>0.0</td>\n",
              "      <td>0.0</td>\n",
              "      <td>0.0</td>\n",
              "      <td>1.0</td>\n",
              "      <td>0.0</td>\n",
              "    </tr>\n",
              "  </tbody>\n",
              "</table>\n",
              "</div>"
            ],
            "text/plain": [
              "   LIMIT_BAL  AGE  PAY_0  PAY_2  ...  MARRIAGE_0  MARRIAGE_1  MARRIAGE_2  MARRIAGE_3\n",
              "0      60000   28      1      2  ...         0.0         0.0         1.0         0.0\n",
              "1      30000   34      2     -1  ...         0.0         0.0         1.0         0.0\n",
              "2      50000   30      0      0  ...         0.0         0.0         1.0         0.0\n",
              "3     240000   42      2      2  ...         0.0         1.0         0.0         0.0\n",
              "4     300000   28      0      0  ...         0.0         0.0         1.0         0.0\n",
              "\n",
              "[5 rows x 34 columns]"
            ]
          },
          "metadata": {},
          "execution_count": 15
        }
      ]
    },
    {
      "cell_type": "markdown",
      "metadata": {
        "id": "uCsfwXWp812G"
      },
      "source": [
        "Теперь сделаем то же самое на отложенных данных DF_predict"
      ],
      "id": "uCsfwXWp812G"
    },
    {
      "cell_type": "code",
      "metadata": {
        "colab": {
          "base_uri": "https://localhost:8080/",
          "height": 222
        },
        "id": "UxLqv81O83NX",
        "outputId": "f7a8594a-4e3c-4993-ee91-e7b016538528"
      },
      "source": [
        "nom_col_names=['SEX', 'EDUCATION', 'MARRIAGE']\n",
        "\n",
        "recoded = one_hot.fit_transform(DF_predict[nom_col_names]).toarray()\n",
        "clmns = one_hot.get_feature_names(nom_col_names)\n",
        "df_dummy_nom = pd.DataFrame(recoded, columns=clmns)\n",
        "\n",
        "print(df_dummy_nom.shape)\n",
        "df_dummy_nom.head()"
      ],
      "id": "UxLqv81O83NX",
      "execution_count": 16,
      "outputs": [
        {
          "output_type": "stream",
          "name": "stdout",
          "text": [
            "(4500, 13)\n"
          ]
        },
        {
          "output_type": "execute_result",
          "data": {
            "text/html": [
              "<div>\n",
              "<style scoped>\n",
              "    .dataframe tbody tr th:only-of-type {\n",
              "        vertical-align: middle;\n",
              "    }\n",
              "\n",
              "    .dataframe tbody tr th {\n",
              "        vertical-align: top;\n",
              "    }\n",
              "\n",
              "    .dataframe thead th {\n",
              "        text-align: right;\n",
              "    }\n",
              "</style>\n",
              "<table border=\"1\" class=\"dataframe\">\n",
              "  <thead>\n",
              "    <tr style=\"text-align: right;\">\n",
              "      <th></th>\n",
              "      <th>SEX_1</th>\n",
              "      <th>SEX_2</th>\n",
              "      <th>EDUCATION_0</th>\n",
              "      <th>EDUCATION_1</th>\n",
              "      <th>EDUCATION_2</th>\n",
              "      <th>EDUCATION_3</th>\n",
              "      <th>EDUCATION_4</th>\n",
              "      <th>EDUCATION_5</th>\n",
              "      <th>EDUCATION_6</th>\n",
              "      <th>MARRIAGE_0</th>\n",
              "      <th>MARRIAGE_1</th>\n",
              "      <th>MARRIAGE_2</th>\n",
              "      <th>MARRIAGE_3</th>\n",
              "    </tr>\n",
              "  </thead>\n",
              "  <tbody>\n",
              "    <tr>\n",
              "      <th>0</th>\n",
              "      <td>0.0</td>\n",
              "      <td>1.0</td>\n",
              "      <td>0.0</td>\n",
              "      <td>0.0</td>\n",
              "      <td>1.0</td>\n",
              "      <td>0.0</td>\n",
              "      <td>0.0</td>\n",
              "      <td>0.0</td>\n",
              "      <td>0.0</td>\n",
              "      <td>0.0</td>\n",
              "      <td>0.0</td>\n",
              "      <td>1.0</td>\n",
              "      <td>0.0</td>\n",
              "    </tr>\n",
              "    <tr>\n",
              "      <th>1</th>\n",
              "      <td>1.0</td>\n",
              "      <td>0.0</td>\n",
              "      <td>0.0</td>\n",
              "      <td>0.0</td>\n",
              "      <td>1.0</td>\n",
              "      <td>0.0</td>\n",
              "      <td>0.0</td>\n",
              "      <td>0.0</td>\n",
              "      <td>0.0</td>\n",
              "      <td>0.0</td>\n",
              "      <td>1.0</td>\n",
              "      <td>0.0</td>\n",
              "      <td>0.0</td>\n",
              "    </tr>\n",
              "    <tr>\n",
              "      <th>2</th>\n",
              "      <td>0.0</td>\n",
              "      <td>1.0</td>\n",
              "      <td>0.0</td>\n",
              "      <td>0.0</td>\n",
              "      <td>0.0</td>\n",
              "      <td>1.0</td>\n",
              "      <td>0.0</td>\n",
              "      <td>0.0</td>\n",
              "      <td>0.0</td>\n",
              "      <td>0.0</td>\n",
              "      <td>1.0</td>\n",
              "      <td>0.0</td>\n",
              "      <td>0.0</td>\n",
              "    </tr>\n",
              "    <tr>\n",
              "      <th>3</th>\n",
              "      <td>0.0</td>\n",
              "      <td>1.0</td>\n",
              "      <td>0.0</td>\n",
              "      <td>0.0</td>\n",
              "      <td>0.0</td>\n",
              "      <td>1.0</td>\n",
              "      <td>0.0</td>\n",
              "      <td>0.0</td>\n",
              "      <td>0.0</td>\n",
              "      <td>0.0</td>\n",
              "      <td>0.0</td>\n",
              "      <td>0.0</td>\n",
              "      <td>1.0</td>\n",
              "    </tr>\n",
              "    <tr>\n",
              "      <th>4</th>\n",
              "      <td>1.0</td>\n",
              "      <td>0.0</td>\n",
              "      <td>0.0</td>\n",
              "      <td>1.0</td>\n",
              "      <td>0.0</td>\n",
              "      <td>0.0</td>\n",
              "      <td>0.0</td>\n",
              "      <td>0.0</td>\n",
              "      <td>0.0</td>\n",
              "      <td>0.0</td>\n",
              "      <td>1.0</td>\n",
              "      <td>0.0</td>\n",
              "      <td>0.0</td>\n",
              "    </tr>\n",
              "  </tbody>\n",
              "</table>\n",
              "</div>"
            ],
            "text/plain": [
              "   SEX_1  SEX_2  EDUCATION_0  ...  MARRIAGE_1  MARRIAGE_2  MARRIAGE_3\n",
              "0    0.0    1.0          0.0  ...         0.0         1.0         0.0\n",
              "1    1.0    0.0          0.0  ...         1.0         0.0         0.0\n",
              "2    0.0    1.0          0.0  ...         1.0         0.0         0.0\n",
              "3    0.0    1.0          0.0  ...         0.0         0.0         1.0\n",
              "4    1.0    0.0          0.0  ...         1.0         0.0         0.0\n",
              "\n",
              "[5 rows x 13 columns]"
            ]
          },
          "metadata": {},
          "execution_count": 16
        }
      ]
    },
    {
      "cell_type": "markdown",
      "metadata": {
        "id": "4buecjh387vy"
      },
      "source": [
        "Соединим и удалим ненужное"
      ],
      "id": "4buecjh387vy"
    },
    {
      "cell_type": "code",
      "metadata": {
        "colab": {
          "base_uri": "https://localhost:8080/",
          "height": 260
        },
        "id": "eW2N0Gkw8838",
        "outputId": "e169de7a-7d9b-417e-bf34-275f8d6545ba"
      },
      "source": [
        "DF_predict = pd.concat([DF_predict.loc[:, DF_predict.dtypes=='int64'].reset_index(), df_dummy_nom], axis=1)\n",
        "DF_predict = DF_predict.drop(['SEX', 'EDUCATION', 'MARRIAGE', 'index'], axis=1)\n",
        "print('Размерность тестового фрейма после перекодировки:', DF_predict.shape)\n",
        "\n",
        "print()\n",
        "DF_predict.head()"
      ],
      "id": "eW2N0Gkw8838",
      "execution_count": 17,
      "outputs": [
        {
          "output_type": "stream",
          "name": "stdout",
          "text": [
            "Размерность тестового фрейма после перекодировки: (4500, 34)\n",
            "\n"
          ]
        },
        {
          "output_type": "execute_result",
          "data": {
            "text/html": [
              "<div>\n",
              "<style scoped>\n",
              "    .dataframe tbody tr th:only-of-type {\n",
              "        vertical-align: middle;\n",
              "    }\n",
              "\n",
              "    .dataframe tbody tr th {\n",
              "        vertical-align: top;\n",
              "    }\n",
              "\n",
              "    .dataframe thead th {\n",
              "        text-align: right;\n",
              "    }\n",
              "</style>\n",
              "<table border=\"1\" class=\"dataframe\">\n",
              "  <thead>\n",
              "    <tr style=\"text-align: right;\">\n",
              "      <th></th>\n",
              "      <th>LIMIT_BAL</th>\n",
              "      <th>AGE</th>\n",
              "      <th>PAY_0</th>\n",
              "      <th>PAY_2</th>\n",
              "      <th>PAY_3</th>\n",
              "      <th>PAY_4</th>\n",
              "      <th>PAY_5</th>\n",
              "      <th>PAY_6</th>\n",
              "      <th>BILL_AMT1</th>\n",
              "      <th>BILL_AMT2</th>\n",
              "      <th>BILL_AMT3</th>\n",
              "      <th>BILL_AMT4</th>\n",
              "      <th>BILL_AMT5</th>\n",
              "      <th>BILL_AMT6</th>\n",
              "      <th>PAY_AMT1</th>\n",
              "      <th>PAY_AMT2</th>\n",
              "      <th>PAY_AMT3</th>\n",
              "      <th>PAY_AMT4</th>\n",
              "      <th>PAY_AMT5</th>\n",
              "      <th>PAY_AMT6</th>\n",
              "      <th>Y</th>\n",
              "      <th>SEX_1</th>\n",
              "      <th>SEX_2</th>\n",
              "      <th>EDUCATION_0</th>\n",
              "      <th>EDUCATION_1</th>\n",
              "      <th>EDUCATION_2</th>\n",
              "      <th>EDUCATION_3</th>\n",
              "      <th>EDUCATION_4</th>\n",
              "      <th>EDUCATION_5</th>\n",
              "      <th>EDUCATION_6</th>\n",
              "      <th>MARRIAGE_0</th>\n",
              "      <th>MARRIAGE_1</th>\n",
              "      <th>MARRIAGE_2</th>\n",
              "      <th>MARRIAGE_3</th>\n",
              "    </tr>\n",
              "  </thead>\n",
              "  <tbody>\n",
              "    <tr>\n",
              "      <th>0</th>\n",
              "      <td>90000</td>\n",
              "      <td>34</td>\n",
              "      <td>0</td>\n",
              "      <td>0</td>\n",
              "      <td>0</td>\n",
              "      <td>0</td>\n",
              "      <td>0</td>\n",
              "      <td>0</td>\n",
              "      <td>29239</td>\n",
              "      <td>14027</td>\n",
              "      <td>13559</td>\n",
              "      <td>14331</td>\n",
              "      <td>14948</td>\n",
              "      <td>15549</td>\n",
              "      <td>1518</td>\n",
              "      <td>1500</td>\n",
              "      <td>1000</td>\n",
              "      <td>1000</td>\n",
              "      <td>1000</td>\n",
              "      <td>5000</td>\n",
              "      <td>0</td>\n",
              "      <td>0.0</td>\n",
              "      <td>1.0</td>\n",
              "      <td>0.0</td>\n",
              "      <td>0.0</td>\n",
              "      <td>1.0</td>\n",
              "      <td>0.0</td>\n",
              "      <td>0.0</td>\n",
              "      <td>0.0</td>\n",
              "      <td>0.0</td>\n",
              "      <td>0.0</td>\n",
              "      <td>0.0</td>\n",
              "      <td>1.0</td>\n",
              "      <td>0.0</td>\n",
              "    </tr>\n",
              "    <tr>\n",
              "      <th>1</th>\n",
              "      <td>50000</td>\n",
              "      <td>57</td>\n",
              "      <td>-1</td>\n",
              "      <td>0</td>\n",
              "      <td>-1</td>\n",
              "      <td>0</td>\n",
              "      <td>0</td>\n",
              "      <td>0</td>\n",
              "      <td>8617</td>\n",
              "      <td>5670</td>\n",
              "      <td>35835</td>\n",
              "      <td>20940</td>\n",
              "      <td>19146</td>\n",
              "      <td>19131</td>\n",
              "      <td>2000</td>\n",
              "      <td>36681</td>\n",
              "      <td>10000</td>\n",
              "      <td>9000</td>\n",
              "      <td>689</td>\n",
              "      <td>679</td>\n",
              "      <td>0</td>\n",
              "      <td>1.0</td>\n",
              "      <td>0.0</td>\n",
              "      <td>0.0</td>\n",
              "      <td>0.0</td>\n",
              "      <td>1.0</td>\n",
              "      <td>0.0</td>\n",
              "      <td>0.0</td>\n",
              "      <td>0.0</td>\n",
              "      <td>0.0</td>\n",
              "      <td>0.0</td>\n",
              "      <td>1.0</td>\n",
              "      <td>0.0</td>\n",
              "      <td>0.0</td>\n",
              "    </tr>\n",
              "    <tr>\n",
              "      <th>2</th>\n",
              "      <td>140000</td>\n",
              "      <td>28</td>\n",
              "      <td>0</td>\n",
              "      <td>0</td>\n",
              "      <td>2</td>\n",
              "      <td>0</td>\n",
              "      <td>0</td>\n",
              "      <td>0</td>\n",
              "      <td>11285</td>\n",
              "      <td>14096</td>\n",
              "      <td>12108</td>\n",
              "      <td>12211</td>\n",
              "      <td>11793</td>\n",
              "      <td>3719</td>\n",
              "      <td>3329</td>\n",
              "      <td>0</td>\n",
              "      <td>432</td>\n",
              "      <td>1000</td>\n",
              "      <td>1000</td>\n",
              "      <td>1000</td>\n",
              "      <td>0</td>\n",
              "      <td>0.0</td>\n",
              "      <td>1.0</td>\n",
              "      <td>0.0</td>\n",
              "      <td>0.0</td>\n",
              "      <td>0.0</td>\n",
              "      <td>1.0</td>\n",
              "      <td>0.0</td>\n",
              "      <td>0.0</td>\n",
              "      <td>0.0</td>\n",
              "      <td>0.0</td>\n",
              "      <td>1.0</td>\n",
              "      <td>0.0</td>\n",
              "      <td>0.0</td>\n",
              "    </tr>\n",
              "    <tr>\n",
              "      <th>3</th>\n",
              "      <td>50000</td>\n",
              "      <td>23</td>\n",
              "      <td>1</td>\n",
              "      <td>2</td>\n",
              "      <td>0</td>\n",
              "      <td>0</td>\n",
              "      <td>0</td>\n",
              "      <td>0</td>\n",
              "      <td>50614</td>\n",
              "      <td>29173</td>\n",
              "      <td>28116</td>\n",
              "      <td>28771</td>\n",
              "      <td>29531</td>\n",
              "      <td>30211</td>\n",
              "      <td>0</td>\n",
              "      <td>1500</td>\n",
              "      <td>1100</td>\n",
              "      <td>1200</td>\n",
              "      <td>1300</td>\n",
              "      <td>1100</td>\n",
              "      <td>0</td>\n",
              "      <td>0.0</td>\n",
              "      <td>1.0</td>\n",
              "      <td>0.0</td>\n",
              "      <td>0.0</td>\n",
              "      <td>0.0</td>\n",
              "      <td>1.0</td>\n",
              "      <td>0.0</td>\n",
              "      <td>0.0</td>\n",
              "      <td>0.0</td>\n",
              "      <td>0.0</td>\n",
              "      <td>0.0</td>\n",
              "      <td>0.0</td>\n",
              "      <td>1.0</td>\n",
              "    </tr>\n",
              "    <tr>\n",
              "      <th>4</th>\n",
              "      <td>320000</td>\n",
              "      <td>49</td>\n",
              "      <td>0</td>\n",
              "      <td>0</td>\n",
              "      <td>0</td>\n",
              "      <td>-1</td>\n",
              "      <td>-1</td>\n",
              "      <td>-1</td>\n",
              "      <td>253286</td>\n",
              "      <td>246536</td>\n",
              "      <td>194663</td>\n",
              "      <td>70074</td>\n",
              "      <td>5856</td>\n",
              "      <td>195599</td>\n",
              "      <td>10358</td>\n",
              "      <td>10000</td>\n",
              "      <td>75940</td>\n",
              "      <td>20000</td>\n",
              "      <td>195599</td>\n",
              "      <td>50000</td>\n",
              "      <td>0</td>\n",
              "      <td>1.0</td>\n",
              "      <td>0.0</td>\n",
              "      <td>0.0</td>\n",
              "      <td>1.0</td>\n",
              "      <td>0.0</td>\n",
              "      <td>0.0</td>\n",
              "      <td>0.0</td>\n",
              "      <td>0.0</td>\n",
              "      <td>0.0</td>\n",
              "      <td>0.0</td>\n",
              "      <td>1.0</td>\n",
              "      <td>0.0</td>\n",
              "      <td>0.0</td>\n",
              "    </tr>\n",
              "  </tbody>\n",
              "</table>\n",
              "</div>"
            ],
            "text/plain": [
              "   LIMIT_BAL  AGE  PAY_0  PAY_2  ...  MARRIAGE_0  MARRIAGE_1  MARRIAGE_2  MARRIAGE_3\n",
              "0      90000   34      0      0  ...         0.0         0.0         1.0         0.0\n",
              "1      50000   57     -1      0  ...         0.0         1.0         0.0         0.0\n",
              "2     140000   28      0      0  ...         0.0         1.0         0.0         0.0\n",
              "3      50000   23      1      2  ...         0.0         0.0         0.0         1.0\n",
              "4     320000   49      0      0  ...         0.0         1.0         0.0         0.0\n",
              "\n",
              "[5 rows x 34 columns]"
            ]
          },
          "metadata": {},
          "execution_count": 17
        }
      ]
    },
    {
      "cell_type": "markdown",
      "metadata": {
        "id": "d3a48810"
      },
      "source": [
        "# Модель дерева  \n",
        "\n",
        "В этом разделе построим:  \n",
        "\n",
        "* дерево классификации  \n",
        "* дерево классификации с обрезкой ветвей  \n",
        "\n",
        "\n",
        "## Дерево на всех признаках    "
      ],
      "id": "d3a48810"
    },
    {
      "cell_type": "code",
      "metadata": {
        "colab": {
          "base_uri": "https://localhost:8080/",
          "height": 224
        },
        "id": "AhxmhCOXT70g",
        "outputId": "0927b9e3-1acb-47d3-9e9b-9481cb461c71"
      },
      "source": [
        "DF_num.head(5)"
      ],
      "id": "AhxmhCOXT70g",
      "execution_count": 19,
      "outputs": [
        {
          "output_type": "execute_result",
          "data": {
            "text/html": [
              "<div>\n",
              "<style scoped>\n",
              "    .dataframe tbody tr th:only-of-type {\n",
              "        vertical-align: middle;\n",
              "    }\n",
              "\n",
              "    .dataframe tbody tr th {\n",
              "        vertical-align: top;\n",
              "    }\n",
              "\n",
              "    .dataframe thead th {\n",
              "        text-align: right;\n",
              "    }\n",
              "</style>\n",
              "<table border=\"1\" class=\"dataframe\">\n",
              "  <thead>\n",
              "    <tr style=\"text-align: right;\">\n",
              "      <th></th>\n",
              "      <th>LIMIT_BAL</th>\n",
              "      <th>AGE</th>\n",
              "      <th>PAY_0</th>\n",
              "      <th>PAY_2</th>\n",
              "      <th>PAY_3</th>\n",
              "      <th>PAY_4</th>\n",
              "      <th>PAY_5</th>\n",
              "      <th>PAY_6</th>\n",
              "      <th>BILL_AMT1</th>\n",
              "      <th>BILL_AMT2</th>\n",
              "      <th>BILL_AMT3</th>\n",
              "      <th>BILL_AMT4</th>\n",
              "      <th>BILL_AMT5</th>\n",
              "      <th>BILL_AMT6</th>\n",
              "      <th>PAY_AMT1</th>\n",
              "      <th>PAY_AMT2</th>\n",
              "      <th>PAY_AMT3</th>\n",
              "      <th>PAY_AMT4</th>\n",
              "      <th>PAY_AMT5</th>\n",
              "      <th>PAY_AMT6</th>\n",
              "      <th>Y</th>\n",
              "      <th>SEX_1</th>\n",
              "      <th>SEX_2</th>\n",
              "      <th>EDUCATION_0</th>\n",
              "      <th>EDUCATION_1</th>\n",
              "      <th>EDUCATION_2</th>\n",
              "      <th>EDUCATION_3</th>\n",
              "      <th>EDUCATION_4</th>\n",
              "      <th>EDUCATION_5</th>\n",
              "      <th>EDUCATION_6</th>\n",
              "      <th>MARRIAGE_0</th>\n",
              "      <th>MARRIAGE_1</th>\n",
              "      <th>MARRIAGE_2</th>\n",
              "      <th>MARRIAGE_3</th>\n",
              "    </tr>\n",
              "  </thead>\n",
              "  <tbody>\n",
              "    <tr>\n",
              "      <th>0</th>\n",
              "      <td>60000</td>\n",
              "      <td>28</td>\n",
              "      <td>1</td>\n",
              "      <td>2</td>\n",
              "      <td>0</td>\n",
              "      <td>0</td>\n",
              "      <td>0</td>\n",
              "      <td>0</td>\n",
              "      <td>47262</td>\n",
              "      <td>46226</td>\n",
              "      <td>47557</td>\n",
              "      <td>48464</td>\n",
              "      <td>49532</td>\n",
              "      <td>50552</td>\n",
              "      <td>0</td>\n",
              "      <td>2100</td>\n",
              "      <td>2000</td>\n",
              "      <td>2000</td>\n",
              "      <td>2000</td>\n",
              "      <td>3000</td>\n",
              "      <td>0</td>\n",
              "      <td>0.0</td>\n",
              "      <td>1.0</td>\n",
              "      <td>0.0</td>\n",
              "      <td>1.0</td>\n",
              "      <td>0.0</td>\n",
              "      <td>0.0</td>\n",
              "      <td>0.0</td>\n",
              "      <td>0.0</td>\n",
              "      <td>0.0</td>\n",
              "      <td>0.0</td>\n",
              "      <td>0.0</td>\n",
              "      <td>1.0</td>\n",
              "      <td>0.0</td>\n",
              "    </tr>\n",
              "    <tr>\n",
              "      <th>1</th>\n",
              "      <td>30000</td>\n",
              "      <td>34</td>\n",
              "      <td>2</td>\n",
              "      <td>-1</td>\n",
              "      <td>2</td>\n",
              "      <td>2</td>\n",
              "      <td>2</td>\n",
              "      <td>2</td>\n",
              "      <td>99568</td>\n",
              "      <td>32326</td>\n",
              "      <td>31840</td>\n",
              "      <td>37075</td>\n",
              "      <td>37662</td>\n",
              "      <td>36904</td>\n",
              "      <td>33000</td>\n",
              "      <td>33000</td>\n",
              "      <td>5810</td>\n",
              "      <td>1325</td>\n",
              "      <td>0</td>\n",
              "      <td>3095</td>\n",
              "      <td>0</td>\n",
              "      <td>0.0</td>\n",
              "      <td>1.0</td>\n",
              "      <td>0.0</td>\n",
              "      <td>0.0</td>\n",
              "      <td>1.0</td>\n",
              "      <td>0.0</td>\n",
              "      <td>0.0</td>\n",
              "      <td>0.0</td>\n",
              "      <td>0.0</td>\n",
              "      <td>0.0</td>\n",
              "      <td>0.0</td>\n",
              "      <td>1.0</td>\n",
              "      <td>0.0</td>\n",
              "    </tr>\n",
              "    <tr>\n",
              "      <th>2</th>\n",
              "      <td>50000</td>\n",
              "      <td>30</td>\n",
              "      <td>0</td>\n",
              "      <td>0</td>\n",
              "      <td>2</td>\n",
              "      <td>2</td>\n",
              "      <td>2</td>\n",
              "      <td>0</td>\n",
              "      <td>45948</td>\n",
              "      <td>50813</td>\n",
              "      <td>45393</td>\n",
              "      <td>49351</td>\n",
              "      <td>45473</td>\n",
              "      <td>48595</td>\n",
              "      <td>6012</td>\n",
              "      <td>10</td>\n",
              "      <td>8212</td>\n",
              "      <td>1200</td>\n",
              "      <td>4008</td>\n",
              "      <td>4407</td>\n",
              "      <td>0</td>\n",
              "      <td>1.0</td>\n",
              "      <td>0.0</td>\n",
              "      <td>0.0</td>\n",
              "      <td>1.0</td>\n",
              "      <td>0.0</td>\n",
              "      <td>0.0</td>\n",
              "      <td>0.0</td>\n",
              "      <td>0.0</td>\n",
              "      <td>0.0</td>\n",
              "      <td>0.0</td>\n",
              "      <td>0.0</td>\n",
              "      <td>1.0</td>\n",
              "      <td>0.0</td>\n",
              "    </tr>\n",
              "    <tr>\n",
              "      <th>3</th>\n",
              "      <td>240000</td>\n",
              "      <td>42</td>\n",
              "      <td>2</td>\n",
              "      <td>2</td>\n",
              "      <td>2</td>\n",
              "      <td>2</td>\n",
              "      <td>2</td>\n",
              "      <td>2</td>\n",
              "      <td>259511</td>\n",
              "      <td>258208</td>\n",
              "      <td>245397</td>\n",
              "      <td>245014</td>\n",
              "      <td>209834</td>\n",
              "      <td>195913</td>\n",
              "      <td>11000</td>\n",
              "      <td>0</td>\n",
              "      <td>12300</td>\n",
              "      <td>14288</td>\n",
              "      <td>0</td>\n",
              "      <td>6887</td>\n",
              "      <td>0</td>\n",
              "      <td>1.0</td>\n",
              "      <td>0.0</td>\n",
              "      <td>0.0</td>\n",
              "      <td>0.0</td>\n",
              "      <td>0.0</td>\n",
              "      <td>1.0</td>\n",
              "      <td>0.0</td>\n",
              "      <td>0.0</td>\n",
              "      <td>0.0</td>\n",
              "      <td>0.0</td>\n",
              "      <td>1.0</td>\n",
              "      <td>0.0</td>\n",
              "      <td>0.0</td>\n",
              "    </tr>\n",
              "    <tr>\n",
              "      <th>4</th>\n",
              "      <td>300000</td>\n",
              "      <td>28</td>\n",
              "      <td>0</td>\n",
              "      <td>0</td>\n",
              "      <td>2</td>\n",
              "      <td>2</td>\n",
              "      <td>2</td>\n",
              "      <td>2</td>\n",
              "      <td>275855</td>\n",
              "      <td>286812</td>\n",
              "      <td>280337</td>\n",
              "      <td>318248</td>\n",
              "      <td>316147</td>\n",
              "      <td>303666</td>\n",
              "      <td>15000</td>\n",
              "      <td>7000</td>\n",
              "      <td>50000</td>\n",
              "      <td>12000</td>\n",
              "      <td>0</td>\n",
              "      <td>13000</td>\n",
              "      <td>1</td>\n",
              "      <td>0.0</td>\n",
              "      <td>1.0</td>\n",
              "      <td>0.0</td>\n",
              "      <td>0.0</td>\n",
              "      <td>1.0</td>\n",
              "      <td>0.0</td>\n",
              "      <td>0.0</td>\n",
              "      <td>0.0</td>\n",
              "      <td>0.0</td>\n",
              "      <td>0.0</td>\n",
              "      <td>0.0</td>\n",
              "      <td>1.0</td>\n",
              "      <td>0.0</td>\n",
              "    </tr>\n",
              "  </tbody>\n",
              "</table>\n",
              "</div>"
            ],
            "text/plain": [
              "   LIMIT_BAL  AGE  PAY_0  PAY_2  ...  MARRIAGE_0  MARRIAGE_1  MARRIAGE_2  MARRIAGE_3\n",
              "0      60000   28      1      2  ...         0.0         0.0         1.0         0.0\n",
              "1      30000   34      2     -1  ...         0.0         0.0         1.0         0.0\n",
              "2      50000   30      0      0  ...         0.0         0.0         1.0         0.0\n",
              "3     240000   42      2      2  ...         0.0         1.0         0.0         0.0\n",
              "4     300000   28      0      0  ...         0.0         0.0         1.0         0.0\n",
              "\n",
              "[5 rows x 34 columns]"
            ]
          },
          "metadata": {},
          "execution_count": 19
        }
      ]
    },
    {
      "cell_type": "code",
      "metadata": {
        "id": "688312d9",
        "colab": {
          "base_uri": "https://localhost:8080/"
        },
        "outputId": "13a65be2-7e41-4d17-9f7f-745cee3fa560"
      },
      "source": [
        "# выращиваем дерево на всех объясняющих\n",
        "X = DF_num.drop(['Y'], axis=1)\n",
        "y = DF_num['Y']\n",
        "\n",
        "# классификатор\n",
        "cls_one_tree = DecisionTreeClassifier(criterion='entropy',\n",
        "                                      random_state=my_seed)\n",
        "\n",
        "tree_full = cls_one_tree.fit(X, y)\n",
        "\n",
        "# выводим количество листьев (количество конечных узлов)\n",
        "tree_full.get_n_leaves()"
      ],
      "id": "688312d9",
      "execution_count": 20,
      "outputs": [
        {
          "output_type": "execute_result",
          "data": {
            "text/plain": [
              "3685"
            ]
          },
          "metadata": {},
          "execution_count": 20
        }
      ]
    },
    {
      "cell_type": "code",
      "metadata": {
        "id": "cce2b6f3",
        "colab": {
          "base_uri": "https://localhost:8080/"
        },
        "outputId": "3a9076f0-b04c-410a-983f-d41c3ef71982"
      },
      "source": [
        "# глубина дерева: количество узлов от корня до листа\n",
        "#  в самой длинной ветви\n",
        "tree_full.get_depth()"
      ],
      "id": "cce2b6f3",
      "execution_count": 21,
      "outputs": [
        {
          "output_type": "execute_result",
          "data": {
            "text/plain": [
              "67"
            ]
          },
          "metadata": {},
          "execution_count": 21
        }
      ]
    },
    {
      "cell_type": "markdown",
      "metadata": {
        "id": "4fa61de0"
      },
      "source": [
        "Очевидно, дерево получилось слишком большое для отображения в текстовом формате. Графическая визуализация тоже не поможет в данном случае. Посчитаем показатели точности с перекрёстной проверкой.   "
      ],
      "id": "4fa61de0"
    },
    {
      "cell_type": "code",
      "metadata": {
        "id": "a0127bc8",
        "colab": {
          "base_uri": "https://localhost:8080/"
        },
        "outputId": "1ef65ff0-bc52-426f-82c3-d1aa1de65235"
      },
      "source": [
        "# будем сохранять точность моделей в один массив:\n",
        "score = list()\n",
        "score_models = list()\n",
        "\n",
        "# считаем точность с перекрёстной проверкой, показатель Acc\n",
        "cv = cross_val_score(estimator=cls_one_tree, X=X, y=y, cv=5,\n",
        "                     scoring='accuracy')\n",
        "\n",
        "# записываем точность\n",
        "score.append(np.around(np.mean(cv), 3))\n",
        "score_models.append('one_tree')\n",
        "\n",
        "print('Accuracy с перекрёстной проверкой для модели', score_models[0], ':', score[0])"
      ],
      "id": "a0127bc8",
      "execution_count": 22,
      "outputs": [
        {
          "output_type": "stream",
          "name": "stdout",
          "text": [
            "Accuracy с перекрёстной проверкой для модели one_tree : 0.727\n"
          ]
        }
      ]
    },
    {
      "cell_type": "markdown",
      "metadata": {
        "id": "e66a2df5"
      },
      "source": [
        "## Дерево с обрезкой ветвей   \n",
        "\n",
        "Подберём оптимальное количество ветвей, которое максимизирует $Acc$, для экономии времени рассчитанный методом проверочной выборки.  "
      ],
      "id": "e66a2df5"
    },
    {
      "cell_type": "code",
      "metadata": {
        "id": "2935464d",
        "colab": {
          "base_uri": "https://localhost:8080/"
        },
        "outputId": "f9d520a5-0039-4a7c-b4de-b996489e7416"
      },
      "source": [
        "# рассчитываем параметры alpha для эффективных вариантов обрезки ветвей\n",
        "path = cls_one_tree.cost_complexity_pruning_path(X, y)\n",
        "ccp_alphas, impurities = path.ccp_alphas, path.impurities\n",
        "print('Всего значений alpha:', len(ccp_alphas))\n",
        "print('Энтропия листьев для первых 5 значений alpha:', impurities[:5])"
      ],
      "id": "2935464d",
      "execution_count": 23,
      "outputs": [
        {
          "output_type": "stream",
          "name": "stdout",
          "text": [
            "Всего значений alpha: 1598\n",
            "Энтропия листьев для первых 5 значений alpha: [0.00131411 0.00131411 0.00131411 0.00134371 0.00137332]\n"
          ]
        }
      ]
    },
    {
      "cell_type": "code",
      "metadata": {
        "id": "701c413e",
        "colab": {
          "base_uri": "https://localhost:8080/",
          "height": 291
        },
        "outputId": "e043a61c-0567-47fb-ce76-e047cfe5a91c"
      },
      "source": [
        "# изображаем на графике\n",
        "plt.plot(ccp_alphas[:-1], impurities[:-1], marker=',', drawstyle=\"steps-post\")\n",
        "plt.xlabel(\"значение гиперпараметра alpha\")\n",
        "plt.ylabel(\"общая энтропия листьев дерева\")\n",
        "plt.title(\"Изменение показателя нечистоты узлов с ростом alpha\")\n",
        "plt.show()"
      ],
      "id": "701c413e",
      "execution_count": 24,
      "outputs": [
        {
          "output_type": "display_data",
          "data": {
            "image/png": "[encoded data removed]",
            "text/plain": [
              "<Figure size 432x288 with 1 Axes>"
            ]
          },
          "metadata": {}
        }
      ]
    },
    {
      "cell_type": "code",
      "metadata": {
        "id": "d3276234",
        "colab": {
          "base_uri": "https://localhost:8080/"
        },
        "outputId": "4d7aa89d-ce0d-4674-a5cc-46c33b5575e8"
      },
      "source": [
        "# обучающая и тестовая выборки, чтобы сэкономить время\n",
        "X_train, X_test, y_train, y_test = train_test_split(X, y, \n",
        "                                                    random_state=my_seed)\n",
        "\n",
        "# модели\n",
        "clfs = list()\n",
        "\n",
        "# таймер\n",
        "tic = time.perf_counter()\n",
        "# цикл по значениям alpha\n",
        "for ccp_alpha in ccp_alphas:\n",
        "    clf = DecisionTreeClassifier(random_state=my_seed, ccp_alpha=ccp_alpha)\n",
        "    clf.fit(X_train, y_train)\n",
        "    clfs.append(clf)\n",
        "\n",
        "# таймер\n",
        "toc = time.perf_counter()\n",
        "print(f\"Расчёты по обрезке дерева заняли {toc - tic:0.2f} секунд\")"
      ],
      "id": "d3276234",
      "execution_count": 25,
      "outputs": [
        {
          "output_type": "stream",
          "name": "stdout",
          "text": [
            "Расчёты по обрезке дерева заняли 824.46 секунд\n"
          ]
        }
      ]
    },
    {
      "cell_type": "code",
      "metadata": {
        "id": "33434419",
        "colab": {
          "base_uri": "https://localhost:8080/"
        },
        "outputId": "32479504-c0aa-423d-fb6f-67bf1f7f830f"
      },
      "source": [
        "# извлекаем характеристики глубины и точности\n",
        "#  таймер\n",
        "tic = time.perf_counter()\n",
        "node_counts = [clf.tree_.node_count for clf in clfs]\n",
        "train_scores = [clf.score(X_train, y_train) for clf in clfs]\n",
        "test_scores = [clf.score(X_test, y_test) for clf in clfs]\n",
        "#  таймер\n",
        "toc = time.perf_counter()\n",
        "print(f\"Расчёты показателей точности заняли {toc - tic:0.2f} секунд\")"
      ],
      "id": "33434419",
      "execution_count": 26,
      "outputs": [
        {
          "output_type": "stream",
          "name": "stdout",
          "text": [
            "Расчёты показателей точности заняли 19.20 секунд\n"
          ]
        }
      ]
    },
    {
      "cell_type": "code",
      "metadata": {
        "colab": {
          "base_uri": "https://localhost:8080/"
        },
        "id": "2RMbB-gLa2b5",
        "outputId": "d4b89c7c-e953-40b4-e47d-430225ba3bd4"
      },
      "source": [
        "np.linspace(0, 0.09, num=10)"
      ],
      "id": "2RMbB-gLa2b5",
      "execution_count": 27,
      "outputs": [
        {
          "output_type": "execute_result",
          "data": {
            "text/plain": [
              "array([0.  , 0.01, 0.02, 0.03, 0.04, 0.05, 0.06, 0.07, 0.08, 0.09])"
            ]
          },
          "metadata": {},
          "execution_count": 27
        }
      ]
    },
    {
      "cell_type": "code",
      "metadata": {
        "id": "f502a713",
        "colab": {
          "base_uri": "https://localhost:8080/",
          "height": 585
        },
        "outputId": "ab33a2ab-617c-4578-bfe6-cc5b6c48261f"
      },
      "source": [
        "# изображаем на графике\n",
        "fig, ax = plt.subplots(1, 2, figsize=(12,8))\n",
        "\n",
        "# график глубины дерева\n",
        "ax[0].plot(ccp_alphas, node_counts, marker=',', drawstyle=\"steps-post\")\n",
        "ax[0].set_xlabel(\"значение гиперпараметра alpha\")\n",
        "ax[0].set_ylabel(\"количество узлов\")\n",
        "ax[0].set_title(\"Сложность модели vs alpha\")\n",
        "ax[0].set_xticks(np.linspace(0, 0.09, num=10))\n",
        "\n",
        "# график точности\n",
        "ax[1].plot(ccp_alphas, train_scores, marker=',', label='train',\n",
        "           drawstyle=\"steps-post\")\n",
        "ax[1].plot(ccp_alphas, test_scores, marker=',', label='test',\n",
        "           drawstyle=\"steps-post\")\n",
        "ax[1].set_xlabel(\"значение гиперпараметра alpha\")\n",
        "ax[1].set_ylabel(\"Acc\")\n",
        "ax[1].set_title(\"Точность модели  vs alpha\")\n",
        "ax[1].set_xticks(np.linspace(0, 0.09, num=10))\n",
        "ax[1].legend()\n",
        "fig.tight_layout()"
      ],
      "id": "f502a713",
      "execution_count": 28,
      "outputs": [
        {
          "output_type": "display_data",
          "data": {
            "image/png": "[encoded data removed]",
            "text/plain": [
              "<Figure size 864x576 with 2 Axes>"
            ]
          },
          "metadata": {}
        }
      ]
    },
    {
      "cell_type": "markdown",
      "metadata": {
        "id": "42254d2b"
      },
      "source": [
        "Находим оптимальный размер дерева по максимуму $Acc$ на тестовой выборке.  "
      ],
      "id": "42254d2b"
    },
    {
      "cell_type": "code",
      "metadata": {
        "id": "22746203",
        "colab": {
          "base_uri": "https://localhost:8080/"
        },
        "outputId": "190ff380-9eb9-4425-8800-df7487b65736"
      },
      "source": [
        "# оптимальное количество узлов\n",
        "opt_nodes_num = node_counts[test_scores.index(max(test_scores))]\n",
        "\n",
        "# считаем точность с перекрёстной проверкой, показатель Acc\n",
        "cv = cross_val_score(estimator=clfs[opt_nodes_num], X=X, y=y, cv=5,\n",
        "                    scoring='accuracy')\n",
        "\n",
        "# записываем точность\n",
        "score.append(np.around(np.mean(cv), 3))\n",
        "score_models.append('pruned_tree')\n",
        "\n",
        "print('Оптимальное количество узлов:', opt_nodes_num,\n",
        "      '\\nсоответствующая Acc на тестовой:', np.around(max(test_scores), 3),\n",
        "      '\\n\\nAcc с перекрёстной проверкой для модели', score_models[1], ':', score[1])"
      ],
      "id": "22746203",
      "execution_count": 29,
      "outputs": [
        {
          "output_type": "stream",
          "name": "stdout",
          "text": [
            "Оптимальное количество узлов: 11 \n",
            "соответствующая Acc на тестовой: 0.817 \n",
            "\n",
            "Acc с перекрёстной проверкой для модели pruned_tree : 0.725\n"
          ]
        }
      ]
    },
    {
      "cell_type": "markdown",
      "metadata": {
        "id": "be66ffe3"
      },
      "source": [
        "Посмотрим на характеристики глубины и сложности построенного дерева с обрезкой ветвей."
      ],
      "id": "be66ffe3"
    },
    {
      "cell_type": "code",
      "metadata": {
        "id": "9d36d60b",
        "colab": {
          "base_uri": "https://localhost:8080/"
        },
        "outputId": "e706df42-468a-4041-9334-df227ad97ddf"
      },
      "source": [
        "# выводим количество листьев (количество узлов)\n",
        "clfs[opt_nodes_num].get_n_leaves()"
      ],
      "id": "9d36d60b",
      "execution_count": 30,
      "outputs": [
        {
          "output_type": "execute_result",
          "data": {
            "text/plain": [
              "2835"
            ]
          },
          "metadata": {},
          "execution_count": 30
        }
      ]
    },
    {
      "cell_type": "code",
      "metadata": {
        "id": "be182d99",
        "colab": {
          "base_uri": "https://localhost:8080/"
        },
        "outputId": "85648369-d53e-4c37-f826-d05107494849"
      },
      "source": [
        "# глубина дерева: количество узлов от корня до листа\n",
        "#  в самой длинной ветви\n",
        "clfs[opt_nodes_num].get_depth()"
      ],
      "id": "be182d99",
      "execution_count": 31,
      "outputs": [
        {
          "output_type": "execute_result",
          "data": {
            "text/plain": [
              "36"
            ]
          },
          "metadata": {},
          "execution_count": 31
        }
      ]
    },
    {
      "cell_type": "markdown",
      "metadata": {
        "id": "55d3d3e8"
      },
      "source": [
        "---\n",
        "\n",
        "📚 **Пример визуализации небольшого дерева**\n",
        "\n",
        "Лучшее дерево с обрезкой по-прежнему слишком велико для визуализации. Для примера нарисуем одно из небольших деревьев с обрезкой и выведем его же в виде текста.  "
      ],
      "id": "55d3d3e8"
    },
    {
      "cell_type": "code",
      "metadata": {
        "id": "c7e4eba9",
        "colab": {
          "base_uri": "https://localhost:8080/"
        },
        "outputId": "9a64b1ec-ced8-48f4-aa76-daa3ec7a74ab"
      },
      "source": [
        "# находим деревья с количеством листьев меньше 20\n",
        "[i for i in node_counts if i < 20]"
      ],
      "id": "c7e4eba9",
      "execution_count": 32,
      "outputs": [
        {
          "output_type": "execute_result",
          "data": {
            "text/plain": [
              "[19, 17, 11, 11, 9, 9, 9, 9, 9, 9, 7, 7, 5, 5, 3, 1]"
            ]
          },
          "metadata": {},
          "execution_count": 32
        }
      ]
    },
    {
      "cell_type": "code",
      "metadata": {
        "id": "67677fc3"
      },
      "source": [
        "plot_tree?"
      ],
      "id": "67677fc3",
      "execution_count": 33,
      "outputs": []
    },
    {
      "cell_type": "code",
      "metadata": {
        "id": "af09592a",
        "colab": {
          "base_uri": "https://localhost:8080/",
          "height": 1000
        },
        "outputId": "5b2bf695-6d86-41da-a7c6-cea700b5d4e9"
      },
      "source": [
        "# визуализация на схеме НА ПРИМЕРЕ МАЛЕНЬКОГО ДЕРЕВА\n",
        "nodes_num = 19\n",
        "print('Количество узлов:', nodes_num,\n",
        "      '\\nТочность дерева на тестовой:', \n",
        "      np.around(test_scores[node_counts.index(nodes_num)], 3))\n",
        "\n",
        "fig = plt.figure(figsize=(25,20))\n",
        "_ = plot_tree(clfs[node_counts.index(nodes_num)], \n",
        "              filled=True, \n",
        "              feature_names=list(X.columns))"
      ],
      "id": "af09592a",
      "execution_count": 34,
      "outputs": [
        {
          "output_type": "stream",
          "name": "stdout",
          "text": [
            "Количество узлов: 19 \n",
            "Точность дерева на тестовой: 0.817\n"
          ]
        },
        {
          "output_type": "display_data",
          "data": {
            "image/png": "[encoded data removed]",
            "text/plain": [
              "<Figure size 1800x1440 with 1 Axes>"
            ]
          },
          "metadata": {}
        }
      ]
    },
    {
      "cell_type": "code",
      "metadata": {
        "id": "f46adc5c",
        "colab": {
          "base_uri": "https://localhost:8080/"
        },
        "outputId": "9361e795-f7a9-46ed-8ae1-19cd26f73205"
      },
      "source": [
        "# визуализируем дерево в виде текстовой схемы\n",
        "viz = export_text(clfs[node_counts.index(nodes_num)], \n",
        "                  feature_names=list(X.columns))\n",
        "print(viz)"
      ],
      "id": "f46adc5c",
      "execution_count": 35,
      "outputs": [
        {
          "output_type": "stream",
          "name": "stdout",
          "text": [
            "|--- PAY_0 <= 1.50\n",
            "|   |--- PAY_2 <= 1.50\n",
            "|   |   |--- PAY_AMT3 <= 581.50\n",
            "|   |   |   |--- BILL_AMT1 <= 531.50\n",
            "|   |   |   |   |--- class: 0\n",
            "|   |   |   |--- BILL_AMT1 >  531.50\n",
            "|   |   |   |   |--- class: 0\n",
            "|   |   |--- PAY_AMT3 >  581.50\n",
            "|   |   |   |--- LIMIT_BAL <= 75000.00\n",
            "|   |   |   |   |--- PAY_3 <= 1.00\n",
            "|   |   |   |   |   |--- class: 0\n",
            "|   |   |   |   |--- PAY_3 >  1.00\n",
            "|   |   |   |   |   |--- class: 0\n",
            "|   |   |   |--- LIMIT_BAL >  75000.00\n",
            "|   |   |   |   |--- PAY_6 <= 1.00\n",
            "|   |   |   |   |   |--- class: 0\n",
            "|   |   |   |   |--- PAY_6 >  1.00\n",
            "|   |   |   |   |   |--- class: 0\n",
            "|   |--- PAY_2 >  1.50\n",
            "|   |   |--- PAY_4 <= 1.00\n",
            "|   |   |   |--- class: 0\n",
            "|   |   |--- PAY_4 >  1.00\n",
            "|   |   |   |--- class: 1\n",
            "|--- PAY_0 >  1.50\n",
            "|   |--- BILL_AMT1 <= 577.00\n",
            "|   |   |--- class: 0\n",
            "|   |--- BILL_AMT1 >  577.00\n",
            "|   |   |--- class: 1\n",
            "\n"
          ]
        }
      ]
    },
    {
      "cell_type": "markdown",
      "metadata": {
        "id": "8c555295"
      },
      "source": [
        "# Случайный лес  \n",
        "\n"
      ],
      "id": "8c555295"
    },
    {
      "cell_type": "markdown",
      "metadata": {
        "id": "a5d0eb85"
      },
      "source": [
        "У модели случайного леса два настроечных параметра: количество деревьев $B$ и количество признаков для построения отдельного дерева $m$. Настроим сеточный поиск для их подбора.  "
      ],
      "id": "a5d0eb85"
    },
    {
      "cell_type": "code",
      "metadata": {
        "id": "6d9f29e7",
        "colab": {
          "base_uri": "https://localhost:8080/"
        },
        "outputId": "f3e9fab4-864f-45e7-ae23-c6030f51ddfd"
      },
      "source": [
        "# сколько столбцов в обучающих данных (p)\n",
        "X_m = X.shape[1]\n",
        "# возьмём значения для m: p, p/2, sqrt(p) и log2(p)\n",
        "ms = np.around([X_m, X_m / 2, np.sqrt(X_m), np.log2(X_m)]).astype(int)\n",
        "ms"
      ],
      "id": "6d9f29e7",
      "execution_count": 36,
      "outputs": [
        {
          "output_type": "execute_result",
          "data": {
            "text/plain": [
              "array([33, 16,  6,  5])"
            ]
          },
          "metadata": {},
          "execution_count": 36
        }
      ]
    },
    {
      "cell_type": "code",
      "metadata": {
        "id": "0ab38083",
        "colab": {
          "base_uri": "https://localhost:8080/"
        },
        "outputId": "a3997965-68de-4d2b-f441-0f6491c64255"
      },
      "source": [
        "# настроим параметры случайного леса с помощью сеточного поиска\n",
        "param_grid = {'n_estimators' : [10, 20, 30, 40, 50],\n",
        "              'max_features' : ms}\n",
        "\n",
        "kfold = KFold(n_splits=5, random_state=my_seed, shuffle=True)\n",
        "\n",
        "# таймер\n",
        "tic = time.perf_counter()\n",
        "clf = GridSearchCV(RandomForestClassifier(DecisionTreeClassifier()),\n",
        "                   param_grid, scoring='accuracy', cv=kfold)\n",
        "random_forest = clf.fit(X, y)\n",
        "# таймер\n",
        "toc = time.perf_counter()\n",
        "print(f\"Сеточный поиск занял {toc - tic:0.2f} секунд\", sep='')"
      ],
      "id": "0ab38083",
      "execution_count": 37,
      "outputs": [
        {
          "output_type": "stream",
          "name": "stdout",
          "text": [
            "Сеточный поиск занял 497.71 секунд\n"
          ]
        }
      ]
    },
    {
      "cell_type": "code",
      "metadata": {
        "id": "494f92a9",
        "colab": {
          "base_uri": "https://localhost:8080/"
        },
        "outputId": "24131a85-a4ef-40fc-879f-bb9ce5d72e4a"
      },
      "source": [
        "# точность лучшей модели\n",
        "np.around(random_forest.best_score_, 3)"
      ],
      "id": "494f92a9",
      "execution_count": 38,
      "outputs": [
        {
          "output_type": "execute_result",
          "data": {
            "text/plain": [
              "0.815"
            ]
          },
          "metadata": {},
          "execution_count": 38
        }
      ]
    },
    {
      "cell_type": "code",
      "metadata": {
        "id": "ac693c6a",
        "colab": {
          "base_uri": "https://localhost:8080/"
        },
        "outputId": "8ff4a05b-5164-449d-87f0-1cf8fc0dad62"
      },
      "source": [
        "# количество деревьев у лучшей модели\n",
        "random_forest.best_estimator_.get_params()['n_estimators']"
      ],
      "id": "ac693c6a",
      "execution_count": 39,
      "outputs": [
        {
          "output_type": "execute_result",
          "data": {
            "text/plain": [
              "50"
            ]
          },
          "metadata": {},
          "execution_count": 39
        }
      ]
    },
    {
      "cell_type": "code",
      "metadata": {
        "id": "40e1517d",
        "colab": {
          "base_uri": "https://localhost:8080/"
        },
        "outputId": "0523a657-0139-45fc-ad39-ce2cfa802032"
      },
      "source": [
        "# количество объясняющих у лучшей модели\n",
        "random_forest.best_estimator_.get_params()['max_features']"
      ],
      "id": "40e1517d",
      "execution_count": 40,
      "outputs": [
        {
          "output_type": "execute_result",
          "data": {
            "text/plain": [
              "16"
            ]
          },
          "metadata": {},
          "execution_count": 40
        }
      ]
    },
    {
      "cell_type": "code",
      "metadata": {
        "id": "de2dc3ad",
        "colab": {
          "base_uri": "https://localhost:8080/",
          "height": 509
        },
        "outputId": "77d10e90-033d-4c76-f9b3-0dc91880f9dc"
      },
      "source": [
        "# рисуем график относительной важности каждого признака\n",
        "plot_feature_importance(random_forest.best_estimator_.feature_importances_,\n",
        "                        X.columns, 'Случайный лес')"
      ],
      "id": "de2dc3ad",
      "execution_count": 41,
      "outputs": [
        {
          "output_type": "display_data",
          "data": {
            "image/png": "[encoded data removed]",
            "text/plain": [
              "<Figure size 720x576 with 1 Axes>"
            ]
          },
          "metadata": {}
        }
      ]
    },
    {
      "cell_type": "code",
      "metadata": {
        "id": "e2ebeefc",
        "colab": {
          "base_uri": "https://localhost:8080/"
        },
        "outputId": "2b7fd709-5095-4512-c93c-942e49b3757b"
      },
      "source": [
        "# записываем точность\n",
        "score.append(np.around(random_forest.best_score_, 3))\n",
        "score_models.append('random_forest_GS')\n",
        "\n",
        "print('Acc с перекрёстной проверкой для модели', score_models[2], ':', score[2])"
      ],
      "id": "e2ebeefc",
      "execution_count": 43,
      "outputs": [
        {
          "output_type": "stream",
          "name": "stdout",
          "text": [
            "Acc с перекрёстной проверкой для модели random_forest_GS : 0.815\n"
          ]
        }
      ]
    },
    {
      "cell_type": "markdown",
      "metadata": {
        "id": "041010d5"
      },
      "source": [
        "\n",
        "# Прогноз на отложенные наблюдения по лучшей модели\n",
        "\n",
        "Ещё раз посмотрим на точность построенных моделей.  "
      ],
      "id": "041010d5"
    },
    {
      "cell_type": "code",
      "metadata": {
        "id": "13f506f8",
        "colab": {
          "base_uri": "https://localhost:8080/",
          "height": 173
        },
        "outputId": "affba299-a335-41bd-f72a-bebc5afbe316"
      },
      "source": [
        "# сводка по точности моделей\n",
        "pd.DataFrame({'Модель' : score_models, 'Acc' : score})"
      ],
      "id": "13f506f8",
      "execution_count": 44,
      "outputs": [
        {
          "output_type": "execute_result",
          "data": {
            "text/html": [
              "<div>\n",
              "<style scoped>\n",
              "    .dataframe tbody tr th:only-of-type {\n",
              "        vertical-align: middle;\n",
              "    }\n",
              "\n",
              "    .dataframe tbody tr th {\n",
              "        vertical-align: top;\n",
              "    }\n",
              "\n",
              "    .dataframe thead th {\n",
              "        text-align: right;\n",
              "    }\n",
              "</style>\n",
              "<table border=\"1\" class=\"dataframe\">\n",
              "  <thead>\n",
              "    <tr style=\"text-align: right;\">\n",
              "      <th></th>\n",
              "      <th>Модель</th>\n",
              "      <th>Acc</th>\n",
              "    </tr>\n",
              "  </thead>\n",
              "  <tbody>\n",
              "    <tr>\n",
              "      <th>0</th>\n",
              "      <td>one_tree</td>\n",
              "      <td>0.727</td>\n",
              "    </tr>\n",
              "    <tr>\n",
              "      <th>1</th>\n",
              "      <td>pruned_tree</td>\n",
              "      <td>0.725</td>\n",
              "    </tr>\n",
              "    <tr>\n",
              "      <th>2</th>\n",
              "      <td>random_forest_GS</td>\n",
              "      <td>0.815</td>\n",
              "    </tr>\n",
              "    <tr>\n",
              "      <th>3</th>\n",
              "      <td>random_forest_GS</td>\n",
              "      <td>0.815</td>\n",
              "    </tr>\n",
              "  </tbody>\n",
              "</table>\n",
              "</div>"
            ],
            "text/plain": [
              "             Модель    Acc\n",
              "0          one_tree  0.727\n",
              "1       pruned_tree  0.725\n",
              "2  random_forest_GS  0.815\n",
              "3  random_forest_GS  0.815"
            ]
          },
          "metadata": {},
          "execution_count": 44
        }
      ]
    },
    {
      "cell_type": "markdown",
      "metadata": {
        "id": "99c7c905"
      },
      "source": [
        "Все модели показывают среднюю точность по показателю $Acc$, при этом самой точной оказывается модель случайного леса. Сделаем прогноз на отложенные наблюдения.   "
      ],
      "id": "99c7c905"
    },
    {
      "cell_type": "code",
      "metadata": {
        "id": "6f19fd52",
        "colab": {
          "base_uri": "https://localhost:8080/"
        },
        "outputId": "f9f6c5e2-787f-4a50-e1aa-4f17ed832522"
      },
      "source": [
        "# данные для прогноза\n",
        "X_pred = DF_predict.drop(['Y'], axis=1)\n",
        "# строим прогноз\n",
        "y_hat = random_forest.best_estimator_.predict(X_pred)\n",
        "# характеристики точности\n",
        "print(classification_report(DF_predict['Y'], y_hat))"
      ],
      "id": "6f19fd52",
      "execution_count": 45,
      "outputs": [
        {
          "output_type": "stream",
          "name": "stdout",
          "text": [
            "              precision    recall  f1-score   support\n",
            "\n",
            "           0       0.83      0.95      0.89      3489\n",
            "           1       0.68      0.35      0.46      1011\n",
            "\n",
            "    accuracy                           0.82      4500\n",
            "   macro avg       0.76      0.65      0.67      4500\n",
            "weighted avg       0.80      0.82      0.79      4500\n",
            "\n"
          ]
        }
      ]
    },
    {
      "cell_type": "markdown",
      "metadata": {
        "id": "j7prLge-kTe7"
      },
      "source": [
        "##6 Пункт\n",
        "В упражнении 3 наибольшую точность показывает Лассо-регрессия (0,811)\n",
        "В упражнении 4 random forest (0,815)"
      ],
      "id": "j7prLge-kTe7"
    },
    {
      "cell_type": "markdown",
      "metadata": {
        "id": "af39298f"
      },
      "source": [
        "# Источники \n",
        "\n",
        "1. Джеймс Г., Уиттон Д., Хасти Т., Тибширани Р. Введение в статистическое обучение с примерами на языке R. Пер. с англ. С.Э. Мастицкого – М.: ДМК Пресс, 2016 – 450 с.  \n",
        "1. *Рашка С.* Python и машинное обучение: крайне необходимое пособие по новейшей предсказательной аналитике, обязательное для более глубокого понимания методологии машинного обучения / пер. с англ. А.В. Логунова. – М.: ДМК Пресс, 2017. – 418 с.: ил.  \n",
        "1. *Tong Wang*, *Cynthia Rudin*, *Finale Doshi-Velez*, *Yimin Liu*, *Erica Klampfl*, *Perry MacNeille* A Bayesian Framework for Learning Rule Sets for Interpretable Classification / Journal of Machine Learning Research 18 (2017) 1-37. URL: <https://jmlr.org/papers/volume18/16-003/16-003.pdf>  \n",
        "1. *George Pipis* How to Run the Chi-Square Test in Python / medium.com. URL: <https://medium.com/swlh/how-to-run-chi-square-test-in-python-4e9f5d10249d>   \n",
        "1. *Bernd Klein* What are Decision Trees? / python-course.eu. URL: <https://www.python-course.eu/Decision_Trees.php>  \n",
        "1. Pruning decision trees - tutorial / kaggle.com. URL: <https://www.kaggle.com/arunmohan003/pruning-decision-trees-tutorial>  \n",
        "1. Post pruning decision trees with cost complexity pruning / scikit-learn.org. URL: <https://scikit-learn.org/stable/auto_examples/tree/plot_cost_complexity_pruning.html>  \n",
        "1. *Piotr Płoński* Visualize a Decision Tree in 4 Ways with Scikit-Learn and Python / mljar.com. URL: <https://mljar.com/blog/visualize-decision-tree/>  \n",
        "1. Random Forest Feature Importance Plot / www.analyseup.com. URL: <https://www.analyseup.com/learn-python-for-data-science/python-random-forest-feature-importance-plot.html>  "
      ],
      "id": "af39298f"
    }
  ]
}